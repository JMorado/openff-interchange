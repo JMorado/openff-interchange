{
 "cells": [
  {
   "cell_type": "markdown",
   "metadata": {},
   "source": [
    "# Splitting parameters in Interchange\n",
    "\n",
    "<details>\n",
    "    <summary><small>▼ Click here for dependency installation instructions</small></summary>\n",
    "    The simplest way to install dependencies is to use the Interchange examples environment. From the root of the cloned openff-interchange repository:\n",
    "    \n",
    "    conda env create --name interchange-examples --file devtools/conda-envs/examples_env.yaml\n",
    "    conda activate interchange-examples\n",
    "    pip install -e .\n",
    "    cd examples/parameter_splitting\n",
    "    jupyter notebook parameter_splitting.ipynb\n",
    "    \n",
    "</details>\n",
    "\n",
    "This example explains splitting a single parameter applied to two different parts of a topology into two separate parameters."
   ]
  },
  {
   "cell_type": "code",
   "execution_count": 1,
   "metadata": {},
   "outputs": [
    {
     "name": "stderr",
     "output_type": "stream",
     "text": [
      "Warning: Unable to load toolkit 'OpenEye Toolkit'. The Open Force Field Toolkit does not require the OpenEye Toolkits, and can use RDKit/AmberTools instead. However, if you have a valid license for the OpenEye Toolkits, consider installing them for faster performance and additional file format support: https://docs.eyesopen.com/toolkits/python/quickstart-python/linuxosx.html OpenEye offers free Toolkit licenses for academics: https://www.eyesopen.com/academic-licensing\n"
     ]
    }
   ],
   "source": [
    "import openmm\n",
    "from openff.toolkit import Molecule, ForceField\n",
    "\n",
    "from openff.interchange import Interchange\n",
    "from openff.interchange.components.potentials import Potential\n",
    "from openff.interchange.models import PotentialKey, TopologyKey"
   ]
  },
  {
   "cell_type": "markdown",
   "metadata": {},
   "source": [
    "We need a molecule that has two parameters that are the same in Sage, but could reasonably be different. We'll pick the two Carbon-Carbon bonds in propanol. Let's set up our Interchange, store a copy of the original as an OpenMM system, and make sure we know what propanol looks like:"
   ]
  },
  {
   "cell_type": "code",
   "execution_count": 2,
   "metadata": {
    "scrolled": false
   },
   "outputs": [
    {
     "data": {
      "image/svg+xml": [
       "<svg xmlns=\"http://www.w3.org/2000/svg\" xmlns:rdkit=\"http://www.rdkit.org/xml\" xmlns:xlink=\"http://www.w3.org/1999/xlink\" version=\"1.1\" baseProfile=\"full\" xml:space=\"preserve\" width=\"500px\" height=\"300px\" viewBox=\"0 0 500 300\">\n",
       "<!-- END OF HEADER -->\n",
       "<rect style=\"opacity:1.0;fill:#FFFFFF;stroke:none\" width=\"500.0\" height=\"300.0\" x=\"0.0\" y=\"0.0\"> </rect>\n",
       "<path class=\"bond-0 atom-0 atom-1\" d=\"M 178.4,156.0 L 250.1,197.1\" style=\"fill:none;fill-rule:evenodd;stroke:#000000;stroke-width:2.0px;stroke-linecap:butt;stroke-linejoin:miter;stroke-opacity:1\"/>\n",
       "<path class=\"bond-1 atom-1 atom-2\" d=\"M 250.1,197.1 L 321.6,155.5\" style=\"fill:none;fill-rule:evenodd;stroke:#000000;stroke-width:2.0px;stroke-linecap:butt;stroke-linejoin:miter;stroke-opacity:1\"/>\n",
       "<path class=\"bond-2 atom-2 atom-3\" d=\"M 321.6,155.5 L 321.5,122.9\" style=\"fill:none;fill-rule:evenodd;stroke:#000000;stroke-width:2.0px;stroke-linecap:butt;stroke-linejoin:miter;stroke-opacity:1\"/>\n",
       "<path class=\"bond-2 atom-2 atom-3\" d=\"M 321.5,122.9 L 321.4,90.3\" style=\"fill:none;fill-rule:evenodd;stroke:#FF0000;stroke-width:2.0px;stroke-linecap:butt;stroke-linejoin:miter;stroke-opacity:1\"/>\n",
       "<path class=\"bond-3 atom-0 atom-4\" d=\"M 178.4,156.0 L 147.0,210.8\" style=\"fill:none;fill-rule:evenodd;stroke:#000000;stroke-width:2.0px;stroke-linecap:butt;stroke-linejoin:miter;stroke-opacity:1\"/>\n",
       "<path class=\"bond-4 atom-0 atom-5\" d=\"M 178.4,156.0 L 109.5,156.2\" style=\"fill:none;fill-rule:evenodd;stroke:#000000;stroke-width:2.0px;stroke-linecap:butt;stroke-linejoin:miter;stroke-opacity:1\"/>\n",
       "<path class=\"bond-5 atom-0 atom-6\" d=\"M 178.4,156.0 L 178.2,90.2\" style=\"fill:none;fill-rule:evenodd;stroke:#000000;stroke-width:2.0px;stroke-linecap:butt;stroke-linejoin:miter;stroke-opacity:1\"/>\n",
       "<path class=\"bond-6 atom-1 atom-7\" d=\"M 250.1,197.1 L 281.9,251.6\" style=\"fill:none;fill-rule:evenodd;stroke:#000000;stroke-width:2.0px;stroke-linecap:butt;stroke-linejoin:miter;stroke-opacity:1\"/>\n",
       "<path class=\"bond-7 atom-1 atom-8\" d=\"M 250.1,197.1 L 218.7,251.9\" style=\"fill:none;fill-rule:evenodd;stroke:#000000;stroke-width:2.0px;stroke-linecap:butt;stroke-linejoin:miter;stroke-opacity:1\"/>\n",
       "<path class=\"bond-8 atom-2 atom-9\" d=\"M 321.6,155.5 L 353.4,210.0\" style=\"fill:none;fill-rule:evenodd;stroke:#000000;stroke-width:2.0px;stroke-linecap:butt;stroke-linejoin:miter;stroke-opacity:1\"/>\n",
       "<path class=\"bond-9 atom-2 atom-10\" d=\"M 321.6,155.5 L 390.5,155.2\" style=\"fill:none;fill-rule:evenodd;stroke:#000000;stroke-width:2.0px;stroke-linecap:butt;stroke-linejoin:miter;stroke-opacity:1\"/>\n",
       "<path class=\"bond-10 atom-3 atom-11\" d=\"M 337.0,63.6 L 358.0,51.4\" style=\"fill:none;fill-rule:evenodd;stroke:#FF0000;stroke-width:2.0px;stroke-linecap:butt;stroke-linejoin:miter;stroke-opacity:1\"/>\n",
       "<path class=\"bond-10 atom-3 atom-11\" d=\"M 358.0,51.4 L 378.9,39.2\" style=\"fill:none;fill-rule:evenodd;stroke:#000000;stroke-width:2.0px;stroke-linecap:butt;stroke-linejoin:miter;stroke-opacity:1\"/>\n",
       "<path class=\"atom-3\" d=\"M 308.3 72.9 Q 308.3 66.1, 311.7 62.3 Q 315.0 58.5, 321.3 58.5 Q 327.6 58.5, 330.9 62.3 Q 334.3 66.1, 334.3 72.9 Q 334.3 79.8, 330.9 83.7 Q 327.5 87.6, 321.3 87.6 Q 315.1 87.6, 311.7 83.7 Q 308.3 79.8, 308.3 72.9 M 321.3 84.4 Q 325.6 84.4, 327.9 81.5 Q 330.3 78.6, 330.3 72.9 Q 330.3 67.3, 327.9 64.5 Q 325.6 61.7, 321.3 61.7 Q 317.0 61.7, 314.6 64.5 Q 312.3 67.3, 312.3 72.9 Q 312.3 78.6, 314.6 81.5 Q 317.0 84.4, 321.3 84.4 \" fill=\"#FF0000\"/>\n",
       "<path class=\"atom-4\" d=\"M 126.3 213.6 L 130.1 213.6 L 130.1 225.6 L 144.6 225.6 L 144.6 213.6 L 148.4 213.6 L 148.4 241.9 L 144.6 241.9 L 144.6 228.8 L 130.1 228.8 L 130.1 241.9 L 126.3 241.9 L 126.3 213.6 \" fill=\"#000000\"/>\n",
       "<path class=\"atom-5\" d=\"M 84.6 142.1 L 88.5 142.1 L 88.5 154.2 L 103.0 154.2 L 103.0 142.1 L 106.8 142.1 L 106.8 170.4 L 103.0 170.4 L 103.0 157.4 L 88.5 157.4 L 88.5 170.4 L 84.6 170.4 L 84.6 142.1 \" fill=\"#000000\"/>\n",
       "<path class=\"atom-6\" d=\"M 167.0 59.2 L 170.9 59.2 L 170.9 71.2 L 185.3 71.2 L 185.3 59.2 L 189.2 59.2 L 189.2 87.5 L 185.3 87.5 L 185.3 74.4 L 170.9 74.4 L 170.9 87.5 L 167.0 87.5 L 167.0 59.2 \" fill=\"#000000\"/>\n",
       "<path class=\"atom-7\" d=\"M 280.7 254.3 L 284.5 254.3 L 284.5 266.4 L 299.0 266.4 L 299.0 254.3 L 302.8 254.3 L 302.8 282.7 L 299.0 282.7 L 299.0 269.6 L 284.5 269.6 L 284.5 282.7 L 280.7 282.7 L 280.7 254.3 \" fill=\"#000000\"/>\n",
       "<path class=\"atom-8\" d=\"M 198.0 254.6 L 201.8 254.6 L 201.8 266.7 L 216.3 266.7 L 216.3 254.6 L 220.2 254.6 L 220.2 283.0 L 216.3 283.0 L 216.3 269.9 L 201.8 269.9 L 201.8 283.0 L 198.0 283.0 L 198.0 254.6 \" fill=\"#000000\"/>\n",
       "<path class=\"atom-9\" d=\"M 352.1 212.8 L 356.0 212.8 L 356.0 224.8 L 370.4 224.8 L 370.4 212.8 L 374.3 212.8 L 374.3 241.1 L 370.4 241.1 L 370.4 228.0 L 356.0 228.0 L 356.0 241.1 L 352.1 241.1 L 352.1 212.8 \" fill=\"#000000\"/>\n",
       "<path class=\"atom-10\" d=\"M 393.2 141.0 L 397.0 141.0 L 397.0 153.0 L 411.5 153.0 L 411.5 141.0 L 415.4 141.0 L 415.4 169.3 L 411.5 169.3 L 411.5 156.2 L 397.0 156.2 L 397.0 169.3 L 393.2 169.3 L 393.2 141.0 \" fill=\"#000000\"/>\n",
       "<path class=\"atom-11\" d=\"M 381.7 17.0 L 385.5 17.0 L 385.5 29.1 L 400.0 29.1 L 400.0 17.0 L 403.8 17.0 L 403.8 45.4 L 400.0 45.4 L 400.0 32.3 L 385.5 32.3 L 385.5 45.4 L 381.7 45.4 L 381.7 17.0 \" fill=\"#000000\"/>\n",
       "</svg>"
      ],
      "text/plain": [
       "<IPython.core.display.SVG object>"
      ]
     },
     "execution_count": 2,
     "metadata": {},
     "output_type": "execute_result"
    }
   ],
   "source": [
    "propanol = Molecule.from_smiles(\"CCCO\")\n",
    "propanol.generate_conformers(n_conformers=1)\n",
    "\n",
    "sage = ForceField(\"openff-2.0.0.offxml\")\n",
    "\n",
    "interchange = Interchange.from_smirnoff(sage, topology=[propanol])\n",
    "\n",
    "original_openmm_system = interchange.to_openmm()\n",
    "\n",
    "propanol.visualize(backend=\"rdkit\")"
   ]
  },
  {
   "cell_type": "markdown",
   "metadata": {},
   "source": [
    "Interchange stores parameters in `PotentialHandler` objects. A potential handler maps atom indices to parameters via a `PotentialKey`, which identifies the parameters in the original force field (see [Tweaking and Inspecting Parameters]). We can see the atom indices of all the bonds and the corresponding potential keys by inspecting the `slot_map` attribute of the bonds potential handler:\n",
    "\n",
    "[Tweaking and Inspecting Parameters]: https://openff-interchange.readthedocs.io/en/stable/using/handlers.html"
   ]
  },
  {
   "cell_type": "code",
   "execution_count": 3,
   "metadata": {},
   "outputs": [
    {
     "data": {
      "text/plain": [
       "{TopologyKey(atom_indices=(0, 1), mult=None, bond_order=None): PotentialKey(id='[#6X4:1]-[#6X4:2]', mult=None, associated_handler='Bonds', bond_order=None),\n",
       " TopologyKey(atom_indices=(0, 4), mult=None, bond_order=None): PotentialKey(id='[#6X4:1]-[#1:2]', mult=None, associated_handler='Bonds', bond_order=None),\n",
       " TopologyKey(atom_indices=(0, 5), mult=None, bond_order=None): PotentialKey(id='[#6X4:1]-[#1:2]', mult=None, associated_handler='Bonds', bond_order=None),\n",
       " TopologyKey(atom_indices=(0, 6), mult=None, bond_order=None): PotentialKey(id='[#6X4:1]-[#1:2]', mult=None, associated_handler='Bonds', bond_order=None),\n",
       " TopologyKey(atom_indices=(1, 2), mult=None, bond_order=None): PotentialKey(id='[#6X4:1]-[#6X4:2]', mult=None, associated_handler='Bonds', bond_order=None),\n",
       " TopologyKey(atom_indices=(1, 7), mult=None, bond_order=None): PotentialKey(id='[#6X4:1]-[#1:2]', mult=None, associated_handler='Bonds', bond_order=None),\n",
       " TopologyKey(atom_indices=(1, 8), mult=None, bond_order=None): PotentialKey(id='[#6X4:1]-[#1:2]', mult=None, associated_handler='Bonds', bond_order=None),\n",
       " TopologyKey(atom_indices=(2, 3), mult=None, bond_order=None): PotentialKey(id='[#6:1]-[#8:2]', mult=None, associated_handler='Bonds', bond_order=None),\n",
       " TopologyKey(atom_indices=(2, 9), mult=None, bond_order=None): PotentialKey(id='[#6X4:1]-[#1:2]', mult=None, associated_handler='Bonds', bond_order=None),\n",
       " TopologyKey(atom_indices=(2, 10), mult=None, bond_order=None): PotentialKey(id='[#6X4:1]-[#1:2]', mult=None, associated_handler='Bonds', bond_order=None),\n",
       " TopologyKey(atom_indices=(3, 11), mult=None, bond_order=None): PotentialKey(id='[#8:1]-[#1:2]', mult=None, associated_handler='Bonds', bond_order=None)}"
      ]
     },
     "execution_count": 3,
     "metadata": {},
     "output_type": "execute_result"
    }
   ],
   "source": [
    "interchange.handlers[\"Bonds\"].slot_map"
   ]
  },
  {
   "cell_type": "markdown",
   "metadata": {},
   "source": [
    "By iterating over the topology, we can pick out the C-C bonds. We'll need the potential key they both use, so let's give it a name:"
   ]
  },
  {
   "cell_type": "code",
   "execution_count": 4,
   "metadata": {},
   "outputs": [
    {
     "name": "stdout",
     "output_type": "stream",
     "text": [
      "(0, 1) PotentialKey(id='[#6X4:1]-[#6X4:2]', mult=None, associated_handler='Bonds', bond_order=None)\n",
      "(1, 2) PotentialKey(id='[#6X4:1]-[#6X4:2]', mult=None, associated_handler='Bonds', bond_order=None)\n"
     ]
    }
   ],
   "source": [
    "for bond in interchange.topology.bonds:\n",
    "    if all(atom.atomic_number == 6 for atom in bond.atoms):\n",
    "        atom_indices = tuple(interchange.topology.atom_index(atom) for atom in bond.atoms)\n",
    "        top_key = TopologyKey(atom_indices=atom_indices)\n",
    "        pot_key = interchange.handlers[\"Bonds\"].slot_map[top_key]\n",
    "        print(atom_indices, pot_key.__repr__())"
   ]
  },
  {
   "cell_type": "markdown",
   "metadata": {},
   "source": [
    "Notice that the `PotentialKey` associated with each of the C-C bonds - atom indices (0, 1) and (1, 2) - is the same, in this case associated with SMIRKS pattern `'[#6X4:1]-[#6X4:2]'`. This means the same parameters have been applied to each. For the sake of this example, let's consider splitting these parameters into two types without re-running SMIRKS/SMARTS-based atom-typing. Let's increase the force constant of the C-C bond nearest the O atom by 5% (atom indices (1, 2)). This is scientifically unmotivated; randomly changing a single force constant will not (usually) improve a force field."
   ]
  },
  {
   "cell_type": "markdown",
   "metadata": {},
   "source": [
    "## Creating a new potential"
   ]
  },
  {
   "cell_type": "markdown",
   "metadata": {},
   "source": [
    "We'll start by cloning the existing C-C bond `PotentialKey`. The new ID can be anything as long as its unique, so let's choose something that makes the parameter's heritage clear without confusing ourselves with something that looks like a SMIRKS code:"
   ]
  },
  {
   "cell_type": "code",
   "execution_count": 5,
   "metadata": {},
   "outputs": [
    {
     "data": {
      "text/plain": [
       "(PotentialKey(id='[#6X4:1]-[#6X4:2]', mult=None, associated_handler='Bonds', bond_order=None),\n",
       " PotentialKey(id='[#6X4:1]-[#6X4:2]_MODIFIED', mult=None, associated_handler='Bonds', bond_order=None))"
      ]
     },
     "execution_count": 5,
     "metadata": {},
     "output_type": "execute_result"
    }
   ],
   "source": [
    "pot_key_mod = PotentialKey(**pot_key.dict())\n",
    "pot_key_mod.id = \"[#6X4:1]-[#6X4:2]_MODIFIED\"\n",
    "\n",
    "(pot_key, pot_key_mod)"
   ]
  },
  {
   "cell_type": "markdown",
   "metadata": {},
   "source": [
    "Looks good! Now we need to do the same thing with the parameters themselves. We can get the potential out by indexing with the original `PontentialKey`, copy it, and then adjust it's force constant $k$:"
   ]
  },
  {
   "cell_type": "code",
   "execution_count": 6,
   "metadata": {},
   "outputs": [
    {
     "data": {
      "text/plain": [
       "(Potential(parameters={'k': <Quantity(529.242972, 'kilocalorie / angstrom ** 2 / mole')>, 'length': <Quantity(1.52190126, 'angstrom')>}, map_key=None),\n",
       " Potential(parameters={'k': <Quantity(555.70512, 'kilocalorie / angstrom ** 2 / mole')>, 'length': <Quantity(1.52190126, 'angstrom')>}, map_key=None))"
      ]
     },
     "execution_count": 6,
     "metadata": {},
     "output_type": "execute_result"
    }
   ],
   "source": [
    "pot = interchange.handlers[\"Bonds\"].potentials[pot_key]\n",
    "pot_mod = Potential(**pot.dict())\n",
    "pot_mod.parameters[\"k\"] *= 1.05\n",
    "\n",
    "(pot, pot_mod)"
   ]
  },
  {
   "cell_type": "markdown",
   "metadata": {},
   "source": [
    "Perfect. Now we add the new potential to the handler. This won't apply it anywhere in the topology, but it'll give us something to apply. The `.potentials` attribute is just a regular Python `dict` mapping potential keys to potentials, so we can use the regular Python `dict.update()` method with our modified key and potential:"
   ]
  },
  {
   "cell_type": "code",
   "execution_count": 7,
   "metadata": {
    "tags": []
   },
   "outputs": [],
   "source": [
    "interchange.handlers[\"Bonds\"].potentials.update({pot_key_mod: pot_mod})"
   ]
  },
  {
   "cell_type": "markdown",
   "metadata": {},
   "source": [
    "The last step is to apply it to the topology somewhere. Interchange identifies places in the topology by tuples of atom indices. We already decided that we want to apply our new potential to the bond between atoms 1 and 2, so we define a `TopologyKey` to that effect and check that the bond already exists (and is what we expect):"
   ]
  },
  {
   "cell_type": "code",
   "execution_count": 8,
   "metadata": {},
   "outputs": [
    {
     "data": {
      "text/plain": [
       "PotentialKey(id='[#6X4:1]-[#6X4:2]', mult=None, associated_handler='Bonds', bond_order=None)"
      ]
     },
     "execution_count": 8,
     "metadata": {},
     "output_type": "execute_result"
    }
   ],
   "source": [
    "top_key = TopologyKey(atom_indices=(1, 2))\n",
    "\n",
    "assert top_key in interchange[\"Bonds\"].slot_map\n",
    "\n",
    "interchange[\"Bonds\"].slot_map[top_key]"
   ]
  },
  {
   "cell_type": "markdown",
   "metadata": {},
   "source": [
    "The `slot_map` attribute is another regular `dict` that maps a `TopologyKey` to a `PotentialKey`. Connecting the topology key (atom indices) to a potential key goes exactly how you'd expect:"
   ]
  },
  {
   "cell_type": "code",
   "execution_count": 9,
   "metadata": {},
   "outputs": [],
   "source": [
    "interchange.handlers[\"Bonds\"].slot_map[top_key] = pot_key_mod"
   ]
  },
  {
   "cell_type": "markdown",
   "metadata": {},
   "source": [
    "## Testing our new parameter"
   ]
  },
  {
   "cell_type": "markdown",
   "metadata": {},
   "source": [
    "To prove that we've done what we expected, let's export to OpenMM and use it's machinery to compare the force constants."
   ]
  },
  {
   "cell_type": "code",
   "execution_count": 10,
   "metadata": {},
   "outputs": [
    {
     "name": "stdout",
     "output_type": "stream",
     "text": [
      "K in the original system between atoms 1 and 2 is 221435.25929028585 kJ/(nm**2 mol)\n",
      "K in the modified system between atoms 1 and 2 is 232507.02225480013 kJ/(nm**2 mol)\n",
      "232507.02225480013 kJ/(nm**2 mol)/221435.25929028585 kJ/(nm**2 mol) = 1.05\n"
     ]
    }
   ],
   "source": [
    "# Export to OpenMM\n",
    "modified_openmm_system = interchange.to_openmm()\n",
    "\n",
    "# Define the atom indices we care about\n",
    "i = 1\n",
    "j = 2\n",
    "\n",
    "# Get the original exported k value\n",
    "for force in original_openmm_system.getForces():\n",
    "    if type(force) == openmm.HarmonicBondForce:\n",
    "        for bond_idx in range(force.getNumBonds()):\n",
    "            if force.getBondParameters(bond_idx)[:2] == [i, j]:\n",
    "                original_k = force.getBondParameters(bond_idx)[3]\n",
    "                print(f\"K in the original system between atoms {i} and {j} is\", original_k)\n",
    "\n",
    "# Get the exported k value in the modified system\n",
    "for force in modified_openmm_system.getForces():\n",
    "    if type(force) == openmm.HarmonicBondForce:\n",
    "        for bond_idx in range(force.getNumBonds()):\n",
    "            if force.getBondParameters(bond_idx)[:2] == [i, j]:\n",
    "                modified_k = force.getBondParameters(bond_idx)[3]\n",
    "                print(f\"K in the modified system between atoms {i} and {j} is\", modified_k)\n",
    "\n",
    "# Check that the modified k is 5% more than the original k\n",
    "assert abs(modified_k / original_k - 1.05) < 1e-12\n",
    "print(f\"{modified_k}/{original_k} = {modified_k/original_k}\")"
   ]
  }
 ],
 "metadata": {
  "kernelspec": {
   "display_name": "Python 3 (ipykernel)",
   "language": "python",
   "name": "python3"
  },
  "language_info": {
   "codemirror_mode": {
    "name": "ipython",
    "version": 3
   },
   "file_extension": ".py",
   "mimetype": "text/x-python",
   "name": "python",
   "nbconvert_exporter": "python",
   "pygments_lexer": "ipython3",
   "version": "3.9.12"
  }
 },
 "nbformat": 4,
 "nbformat_minor": 4
}
