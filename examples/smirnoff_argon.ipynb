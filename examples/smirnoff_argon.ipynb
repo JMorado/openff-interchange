{
 "cells": [
  {
   "cell_type": "code",
   "execution_count": 1,
   "metadata": {
    "execution": {
     "iopub.execute_input": "2021-12-23T16:27:45.325243Z",
     "iopub.status.busy": "2021-12-23T16:27:45.324564Z",
     "iopub.status.idle": "2021-12-23T16:27:49.824599Z",
     "shell.execute_reply": "2021-12-23T16:27:49.825261Z"
    }
   },
   "outputs": [],
   "source": [
    "import numpy as np\n",
    "from openff.toolkit.topology import Molecule, Topology\n",
    "from openff.toolkit.typing.engines.smirnoff import ForceField\n",
    "\n",
    "from openff.interchange import Interchange\n",
    "from openff.interchange.models import PotentialKey, TopologyKey\n",
    "from openff.interchange.tests import get_test_file_path"
   ]
  },
  {
   "cell_type": "code",
   "execution_count": 2,
   "metadata": {
    "execution": {
     "iopub.execute_input": "2021-12-23T16:27:49.833969Z",
     "iopub.status.busy": "2021-12-23T16:27:49.832373Z",
     "iopub.status.idle": "2021-12-23T16:27:50.057950Z",
     "shell.execute_reply": "2021-12-23T16:27:50.058392Z"
    }
   },
   "outputs": [],
   "source": [
    "# Load a minimal SMIRNOFF forcefield and Argon topology\n",
    "argon_ff = ForceField(get_test_file_path(\"argon.offxml\"))\n",
    "\n",
    "mol = Molecule.from_smiles(\"[#18]\")\n",
    "mol.generate_conformers(n_conformers=1)\n",
    "\n",
    "argon_top = Topology.from_molecules(10 * [mol])"
   ]
  },
  {
   "cell_type": "code",
   "execution_count": 3,
   "metadata": {
    "execution": {
     "iopub.execute_input": "2021-12-23T16:27:50.072101Z",
     "iopub.status.busy": "2021-12-23T16:27:50.068969Z",
     "iopub.status.idle": "2021-12-23T16:27:50.678876Z",
     "shell.execute_reply": "2021-12-23T16:27:50.678206Z"
    }
   },
   "outputs": [],
   "source": [
    "# Use a monkey-patched function to parametrize the topology against a force field\n",
    "off_sys = Interchange.from_smirnoff(force_field=argon_ff, topology=argon_top)"
   ]
  },
  {
   "cell_type": "code",
   "execution_count": 4,
   "metadata": {
    "execution": {
     "iopub.execute_input": "2021-12-23T16:27:50.687784Z",
     "iopub.status.busy": "2021-12-23T16:27:50.687073Z",
     "iopub.status.idle": "2021-12-23T16:27:50.689690Z",
     "shell.execute_reply": "2021-12-23T16:27:50.690067Z"
    }
   },
   "outputs": [
    {
     "data": {
      "text/plain": [
       "dict_keys(['vdW', 'Electrostatics'])"
      ]
     },
     "execution_count": 4,
     "metadata": {},
     "output_type": "execute_result"
    }
   ],
   "source": [
    "# Look at which ParameterHandler objects from the OpenFF toolkit\n",
    "# have been made into Potentialhandler objects\n",
    "off_sys.handlers.keys()"
   ]
  },
  {
   "cell_type": "code",
   "execution_count": 5,
   "metadata": {
    "execution": {
     "iopub.execute_input": "2021-12-23T16:27:50.695016Z",
     "iopub.status.busy": "2021-12-23T16:27:50.694029Z",
     "iopub.status.idle": "2021-12-23T16:27:50.696169Z",
     "shell.execute_reply": "2021-12-23T16:27:50.696642Z"
    }
   },
   "outputs": [],
   "source": [
    "# Store this handler to inspect its contents\n",
    "vdw = off_sys.handlers[\"vdW\"]"
   ]
  },
  {
   "cell_type": "code",
   "execution_count": 6,
   "metadata": {
    "execution": {
     "iopub.execute_input": "2021-12-23T16:27:50.701362Z",
     "iopub.status.busy": "2021-12-23T16:27:50.700745Z",
     "iopub.status.idle": "2021-12-23T16:27:50.703102Z",
     "shell.execute_reply": "2021-12-23T16:27:50.703640Z"
    }
   },
   "outputs": [
    {
     "data": {
      "text/plain": [
       "('vdW', '4*epsilon*((sigma/r)**12-(sigma/r)**6)', {'r'})"
      ]
     },
     "execution_count": 6,
     "metadata": {},
     "output_type": "execute_result"
    }
   ],
   "source": [
    "# Look at some ~metadata\n",
    "vdw.type, vdw.expression, vdw.independent_variables"
   ]
  },
  {
   "cell_type": "code",
   "execution_count": 7,
   "metadata": {
    "execution": {
     "iopub.execute_input": "2021-12-23T16:27:50.707831Z",
     "iopub.status.busy": "2021-12-23T16:27:50.707207Z",
     "iopub.status.idle": "2021-12-23T16:27:50.711798Z",
     "shell.execute_reply": "2021-12-23T16:27:50.712194Z"
    }
   },
   "outputs": [
    {
     "data": {
      "text/plain": [
       "{TopologyKey(atom_indices=(0,), mult=None, bond_order=None): PotentialKey(id='[#18:1]', mult=None, associated_handler='vdW', bond_order=None),\n",
       " TopologyKey(atom_indices=(1,), mult=None, bond_order=None): PotentialKey(id='[#18:1]', mult=None, associated_handler='vdW', bond_order=None),\n",
       " TopologyKey(atom_indices=(2,), mult=None, bond_order=None): PotentialKey(id='[#18:1]', mult=None, associated_handler='vdW', bond_order=None),\n",
       " TopologyKey(atom_indices=(3,), mult=None, bond_order=None): PotentialKey(id='[#18:1]', mult=None, associated_handler='vdW', bond_order=None),\n",
       " TopologyKey(atom_indices=(4,), mult=None, bond_order=None): PotentialKey(id='[#18:1]', mult=None, associated_handler='vdW', bond_order=None),\n",
       " TopologyKey(atom_indices=(5,), mult=None, bond_order=None): PotentialKey(id='[#18:1]', mult=None, associated_handler='vdW', bond_order=None),\n",
       " TopologyKey(atom_indices=(6,), mult=None, bond_order=None): PotentialKey(id='[#18:1]', mult=None, associated_handler='vdW', bond_order=None),\n",
       " TopologyKey(atom_indices=(7,), mult=None, bond_order=None): PotentialKey(id='[#18:1]', mult=None, associated_handler='vdW', bond_order=None),\n",
       " TopologyKey(atom_indices=(8,), mult=None, bond_order=None): PotentialKey(id='[#18:1]', mult=None, associated_handler='vdW', bond_order=None),\n",
       " TopologyKey(atom_indices=(9,), mult=None, bond_order=None): PotentialKey(id='[#18:1]', mult=None, associated_handler='vdW', bond_order=None)}"
      ]
     },
     "execution_count": 7,
     "metadata": {},
     "output_type": "execute_result"
    }
   ],
   "source": [
    "# Return a mapping between atom indices and SMIRKS identifiers\n",
    "vdw.slot_map"
   ]
  },
  {
   "cell_type": "code",
   "execution_count": 8,
   "metadata": {
    "execution": {
     "iopub.execute_input": "2021-12-23T16:27:50.716484Z",
     "iopub.status.busy": "2021-12-23T16:27:50.715643Z",
     "iopub.status.idle": "2021-12-23T16:27:50.718270Z",
     "shell.execute_reply": "2021-12-23T16:27:50.718737Z"
    }
   },
   "outputs": [
    {
     "data": {
      "text/plain": [
       "{PotentialKey(id='[#18:1]', mult=None, associated_handler='vdW', bond_order=None): Potential(parameters={'sigma': <Quantity(0.3, 'nanometer')>, 'epsilon': <Quantity(0.1, 'kilojoules_per_mole')>}, map_key=None)}"
      ]
     },
     "execution_count": 8,
     "metadata": {},
     "output_type": "execute_result"
    }
   ],
   "source": [
    "# Return a mapping between SMIRKS identifiers and Potential objects;\n",
    "# Note the de-duplication, resulting from a many-to-few mapping between\n",
    "# atoms in the topology and unique parameters in the force field\n",
    "vdw.potentials"
   ]
  },
  {
   "cell_type": "code",
   "execution_count": 9,
   "metadata": {
    "execution": {
     "iopub.execute_input": "2021-12-23T16:27:50.722989Z",
     "iopub.status.busy": "2021-12-23T16:27:50.722319Z",
     "iopub.status.idle": "2021-12-23T16:27:50.724629Z",
     "shell.execute_reply": "2021-12-23T16:27:50.725192Z"
    }
   },
   "outputs": [
    {
     "data": {
      "text/plain": [
       "Potential(parameters={'sigma': <Quantity(0.3, 'nanometer')>, 'epsilon': <Quantity(0.1, 'kilojoules_per_mole')>}, map_key=None)"
      ]
     },
     "execution_count": 9,
     "metadata": {},
     "output_type": "execute_result"
    }
   ],
   "source": [
    "# Look at this contents of this Potential object\n",
    "potential_key = PotentialKey(id=\"[#18:1]\", associated_handler=\"vdW\")\n",
    "vdw.potentials[potential_key]"
   ]
  },
  {
   "cell_type": "code",
   "execution_count": 10,
   "metadata": {
    "execution": {
     "iopub.execute_input": "2021-12-23T16:27:50.730951Z",
     "iopub.status.busy": "2021-12-23T16:27:50.730337Z",
     "iopub.status.idle": "2021-12-23T16:27:50.733456Z",
     "shell.execute_reply": "2021-12-23T16:27:50.733045Z"
    }
   },
   "outputs": [
    {
     "data": {
      "text/html": [
       "0.3 nm"
      ],
      "text/latex": [
       "$0.3\\ \\mathrm{nm}$"
      ],
      "text/plain": [
       "0.3 <Unit('nanometer')>"
      ]
     },
     "execution_count": 10,
     "metadata": {},
     "output_type": "execute_result"
    }
   ],
   "source": [
    "# Further, look at the particular value of one of its parameters\n",
    "vdw.potentials[potential_key].parameters[\"sigma\"]"
   ]
  },
  {
   "cell_type": "code",
   "execution_count": 11,
   "metadata": {
    "execution": {
     "iopub.execute_input": "2021-12-23T16:27:50.738896Z",
     "iopub.status.busy": "2021-12-23T16:27:50.738270Z",
     "iopub.status.idle": "2021-12-23T16:27:50.740641Z",
     "shell.execute_reply": "2021-12-23T16:27:50.741179Z"
    }
   },
   "outputs": [
    {
     "data": {
      "text/html": [
       "0.3 nm"
      ],
      "text/latex": [
       "$0.3\\ \\mathrm{nm}$"
      ],
      "text/plain": [
       "0.3 <Unit('nanometer')>"
      ]
     },
     "execution_count": 11,
     "metadata": {},
     "output_type": "execute_result"
    }
   ],
   "source": [
    "# Look up, from the highest-level object, this same data, using the\n",
    "# SMIRKS pattern as a key connecting the topological data to the\n",
    "# parametrized data\n",
    "topology_key = TopologyKey(atom_indices=(0,))\n",
    "off_sys.handlers[\"vdW\"].potentials[\n",
    "    off_sys.handlers[\"vdW\"].slot_map[topology_key]\n",
    "].parameters[\"sigma\"]"
   ]
  }
 ],
 "metadata": {
  "kernelspec": {
   "display_name": "Python 3 (ipykernel)",
   "language": "python",
   "name": "python3"
  },
  "language_info": {
   "codemirror_mode": {
    "name": "ipython",
    "version": 3
   },
   "file_extension": ".py",
   "mimetype": "text/x-python",
   "name": "python",
   "nbconvert_exporter": "python",
   "pygments_lexer": "ipython3",
   "version": "3.9.9"
  }
 },
 "nbformat": 4,
 "nbformat_minor": 4
}
