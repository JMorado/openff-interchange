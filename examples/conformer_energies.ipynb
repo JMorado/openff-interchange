{
 "cells": [
  {
   "cell_type": "code",
   "execution_count": 1,
   "metadata": {
    "execution": {
     "iopub.execute_input": "2022-03-28T20:59:34.979680Z",
     "iopub.status.busy": "2022-03-28T20:59:34.979226Z",
     "iopub.status.idle": "2022-03-28T20:59:39.520348Z",
     "shell.execute_reply": "2022-03-28T20:59:39.519688Z"
    },
    "tags": []
   },
   "outputs": [],
   "source": [
    "import pandas as pd\n",
    "from openff.toolkit.topology import Molecule, Topology\n",
    "from openff.toolkit.typing.engines.smirnoff import ForceField\n",
    "from openff.units import unit\n",
    "\n",
    "from openff.interchange import Interchange\n",
    "from openff.interchange.drivers.gromacs import get_gromacs_energies\n",
    "from openff.interchange.drivers.openmm import _get_openmm_energies, get_openmm_energies"
   ]
  },
  {
   "cell_type": "code",
   "execution_count": 2,
   "metadata": {
    "execution": {
     "iopub.execute_input": "2022-03-28T20:59:39.525544Z",
     "iopub.status.busy": "2022-03-28T20:59:39.524808Z",
     "iopub.status.idle": "2022-03-28T20:59:39.528955Z",
     "shell.execute_reply": "2022-03-28T20:59:39.528348Z"
    }
   },
   "outputs": [],
   "source": [
    "SMILES = \"c1n(CCO)c(C(F)(F)(F))cc1CNCCl\""
   ]
  },
  {
   "cell_type": "code",
   "execution_count": 3,
   "metadata": {
    "execution": {
     "iopub.execute_input": "2022-03-28T20:59:39.532065Z",
     "iopub.status.busy": "2022-03-28T20:59:39.531857Z",
     "iopub.status.idle": "2022-03-28T20:59:40.076833Z",
     "shell.execute_reply": "2022-03-28T20:59:40.075988Z"
    }
   },
   "outputs": [
    {
     "name": "stderr",
     "output_type": "stream",
     "text": [
      "/Users/mwt/miniconda3/envs/openff-interchange-env/lib/python3.9/site-packages/openff/toolkit/utils/openeye_wrapper.py:1032: UnitStrippedWarning: The unit of the quantity is stripped when downcasting to ndarray.\n",
      "  positions[off_atom_index, :] = off_atom_coords\n"
     ]
    }
   ],
   "source": [
    "molecule = Molecule.from_smiles(SMILES)\n",
    "molecule.generate_conformers(n_conformers=20, rms_cutoff=0.1 * unit.angstrom)\n",
    "topology = molecule.to_topology()"
   ]
  },
  {
   "cell_type": "code",
   "execution_count": 4,
   "metadata": {
    "execution": {
     "iopub.execute_input": "2022-03-28T20:59:40.080240Z",
     "iopub.status.busy": "2022-03-28T20:59:40.080009Z",
     "iopub.status.idle": "2022-03-28T20:59:40.601399Z",
     "shell.execute_reply": "2022-03-28T20:59:40.600412Z"
    }
   },
   "outputs": [],
   "source": [
    "parsley = ForceField(\"openff-1.1.0.offxml\")"
   ]
  },
  {
   "cell_type": "code",
   "execution_count": 5,
   "metadata": {
    "execution": {
     "iopub.execute_input": "2022-03-28T20:59:40.605117Z",
     "iopub.status.busy": "2022-03-28T20:59:40.604838Z",
     "iopub.status.idle": "2022-03-28T20:59:55.134564Z",
     "shell.execute_reply": "2022-03-28T20:59:55.133643Z"
    }
   },
   "outputs": [],
   "source": [
    "openff_sys = Interchange.from_smirnoff(force_field=parsley, topology=topology)\n",
    "openmm_sys = parsley.create_openmm_system(topology)"
   ]
  },
  {
   "cell_type": "code",
   "execution_count": 6,
   "metadata": {
    "execution": {
     "iopub.execute_input": "2022-03-28T20:59:55.144396Z",
     "iopub.status.busy": "2022-03-28T20:59:55.143730Z",
     "iopub.status.idle": "2022-03-28T20:59:55.151223Z",
     "shell.execute_reply": "2022-03-28T20:59:55.150293Z"
    }
   },
   "outputs": [],
   "source": [
    "openff_sys.positions = molecule.conformers[0]\n",
    "openff_sys.box = [4, 4, 4]"
   ]
  },
  {
   "cell_type": "code",
   "execution_count": 7,
   "metadata": {
    "execution": {
     "iopub.execute_input": "2022-03-28T20:59:55.156919Z",
     "iopub.status.busy": "2022-03-28T20:59:55.156165Z",
     "iopub.status.idle": "2022-03-28T21:01:14.327793Z",
     "shell.execute_reply": "2022-03-28T21:01:14.325781Z"
    }
   },
   "outputs": [
    {
     "name": "stderr",
     "output_type": "stream",
     "text": [
      "WARNING:absl:No GPU/TPU found, falling back to CPU. (Set TF_CPP_MIN_LOG_LEVEL=0 and rerun for more info.)\n"
     ]
    }
   ],
   "source": [
    "df = pd.DataFrame()\n",
    "\n",
    "kj_mol = unit.kilojoule / unit.mol\n",
    "\n",
    "for idx, conformer in enumerate(molecule.conformers):\n",
    "    openff_sys.positions = conformer\n",
    "\n",
    "    toolkit = sum(\n",
    "        _get_openmm_energies(\n",
    "            omm_sys=openmm_sys,\n",
    "            box_vectors=openff_sys.box,\n",
    "            positions=openff_sys.positions,\n",
    "        ).energies.values()\n",
    "    ).m_as(kj_mol)\n",
    "\n",
    "    omm = sum(get_openmm_energies(openff_sys).energies.values()).m_as(kj_mol)\n",
    "\n",
    "    gmx = sum(get_gromacs_energies(openff_sys).energies.values()).m_as(kj_mol)\n",
    "\n",
    "    df = pd.concat(\n",
    "        [\n",
    "            df,\n",
    "            pd.DataFrame.from_dict(\n",
    "                {\n",
    "                    \"Conformer No.\": [idx],\n",
    "                    \"Toolkit (kJ/mol)\": [round(toolkit, 3)],\n",
    "                    \"Interchange -> OpenMM (kJ/mol)\": [round(omm, 3)],\n",
    "                    \"Interchange -> GROMACS\": [round(gmx, 3)],\n",
    "                }\n",
    "            ),\n",
    "            # ignore_index=True,\n",
    "        ]\n",
    "    )"
   ]
  },
  {
   "cell_type": "code",
   "execution_count": 8,
   "metadata": {
    "execution": {
     "iopub.execute_input": "2022-03-28T21:01:14.333053Z",
     "iopub.status.busy": "2022-03-28T21:01:14.332771Z",
     "iopub.status.idle": "2022-03-28T21:01:14.970326Z",
     "shell.execute_reply": "2022-03-28T21:01:14.969365Z"
    },
    "tags": []
   },
   "outputs": [
    {
     "data": {
      "text/html": [
       "<style type=\"text/css\">\n",
       "</style>\n",
       "<table id=\"T_5361f\">\n",
       "  <thead>\n",
       "    <tr>\n",
       "      <th id=\"T_5361f_level0_col0\" class=\"col_heading level0 col0\" >Conformer No.</th>\n",
       "      <th id=\"T_5361f_level0_col1\" class=\"col_heading level0 col1\" >Toolkit (kJ/mol)</th>\n",
       "      <th id=\"T_5361f_level0_col2\" class=\"col_heading level0 col2\" >Interchange -> OpenMM (kJ/mol)</th>\n",
       "      <th id=\"T_5361f_level0_col3\" class=\"col_heading level0 col3\" >Interchange -> GROMACS</th>\n",
       "    </tr>\n",
       "  </thead>\n",
       "  <tbody>\n",
       "    <tr>\n",
       "      <td id=\"T_5361f_row0_col0\" class=\"data row0 col0\" >0</td>\n",
       "      <td id=\"T_5361f_row0_col1\" class=\"data row0 col1\" >379.534000</td>\n",
       "      <td id=\"T_5361f_row0_col2\" class=\"data row0 col2\" >379.457000</td>\n",
       "      <td id=\"T_5361f_row0_col3\" class=\"data row0 col3\" >379.375000</td>\n",
       "    </tr>\n",
       "    <tr>\n",
       "      <td id=\"T_5361f_row1_col0\" class=\"data row1 col0\" >1</td>\n",
       "      <td id=\"T_5361f_row1_col1\" class=\"data row1 col1\" >378.628000</td>\n",
       "      <td id=\"T_5361f_row1_col2\" class=\"data row1 col2\" >378.592000</td>\n",
       "      <td id=\"T_5361f_row1_col3\" class=\"data row1 col3\" >378.522000</td>\n",
       "    </tr>\n",
       "    <tr>\n",
       "      <td id=\"T_5361f_row2_col0\" class=\"data row2 col0\" >2</td>\n",
       "      <td id=\"T_5361f_row2_col1\" class=\"data row2 col1\" >393.001000</td>\n",
       "      <td id=\"T_5361f_row2_col2\" class=\"data row2 col2\" >392.866000</td>\n",
       "      <td id=\"T_5361f_row2_col3\" class=\"data row2 col3\" >392.794000</td>\n",
       "    </tr>\n",
       "    <tr>\n",
       "      <td id=\"T_5361f_row3_col0\" class=\"data row3 col0\" >3</td>\n",
       "      <td id=\"T_5361f_row3_col1\" class=\"data row3 col1\" >388.423000</td>\n",
       "      <td id=\"T_5361f_row3_col2\" class=\"data row3 col2\" >388.405000</td>\n",
       "      <td id=\"T_5361f_row3_col3\" class=\"data row3 col3\" >388.341000</td>\n",
       "    </tr>\n",
       "    <tr>\n",
       "      <td id=\"T_5361f_row4_col0\" class=\"data row4 col0\" >4</td>\n",
       "      <td id=\"T_5361f_row4_col1\" class=\"data row4 col1\" >388.387000</td>\n",
       "      <td id=\"T_5361f_row4_col2\" class=\"data row4 col2\" >388.351000</td>\n",
       "      <td id=\"T_5361f_row4_col3\" class=\"data row4 col3\" >388.293000</td>\n",
       "    </tr>\n",
       "    <tr>\n",
       "      <td id=\"T_5361f_row5_col0\" class=\"data row5 col0\" >5</td>\n",
       "      <td id=\"T_5361f_row5_col1\" class=\"data row5 col1\" >387.330000</td>\n",
       "      <td id=\"T_5361f_row5_col2\" class=\"data row5 col2\" >387.251000</td>\n",
       "      <td id=\"T_5361f_row5_col3\" class=\"data row5 col3\" >387.174000</td>\n",
       "    </tr>\n",
       "    <tr>\n",
       "      <td id=\"T_5361f_row6_col0\" class=\"data row6 col0\" >6</td>\n",
       "      <td id=\"T_5361f_row6_col1\" class=\"data row6 col1\" >373.601000</td>\n",
       "      <td id=\"T_5361f_row6_col2\" class=\"data row6 col2\" >373.541000</td>\n",
       "      <td id=\"T_5361f_row6_col3\" class=\"data row6 col3\" >373.480000</td>\n",
       "    </tr>\n",
       "    <tr>\n",
       "      <td id=\"T_5361f_row7_col0\" class=\"data row7 col0\" >7</td>\n",
       "      <td id=\"T_5361f_row7_col1\" class=\"data row7 col1\" >372.383000</td>\n",
       "      <td id=\"T_5361f_row7_col2\" class=\"data row7 col2\" >372.334000</td>\n",
       "      <td id=\"T_5361f_row7_col3\" class=\"data row7 col3\" >372.284000</td>\n",
       "    </tr>\n",
       "    <tr>\n",
       "      <td id=\"T_5361f_row8_col0\" class=\"data row8 col0\" >8</td>\n",
       "      <td id=\"T_5361f_row8_col1\" class=\"data row8 col1\" >399.647000</td>\n",
       "      <td id=\"T_5361f_row8_col2\" class=\"data row8 col2\" >399.568000</td>\n",
       "      <td id=\"T_5361f_row8_col3\" class=\"data row8 col3\" >399.509000</td>\n",
       "    </tr>\n",
       "    <tr>\n",
       "      <td id=\"T_5361f_row9_col0\" class=\"data row9 col0\" >9</td>\n",
       "      <td id=\"T_5361f_row9_col1\" class=\"data row9 col1\" >399.208000</td>\n",
       "      <td id=\"T_5361f_row9_col2\" class=\"data row9 col2\" >399.136000</td>\n",
       "      <td id=\"T_5361f_row9_col3\" class=\"data row9 col3\" >399.059000</td>\n",
       "    </tr>\n",
       "    <tr>\n",
       "      <td id=\"T_5361f_row10_col0\" class=\"data row10 col0\" >10</td>\n",
       "      <td id=\"T_5361f_row10_col1\" class=\"data row10 col1\" >376.381000</td>\n",
       "      <td id=\"T_5361f_row10_col2\" class=\"data row10 col2\" >376.319000</td>\n",
       "      <td id=\"T_5361f_row10_col3\" class=\"data row10 col3\" >376.236000</td>\n",
       "    </tr>\n",
       "    <tr>\n",
       "      <td id=\"T_5361f_row11_col0\" class=\"data row11 col0\" >11</td>\n",
       "      <td id=\"T_5361f_row11_col1\" class=\"data row11 col1\" >374.403000</td>\n",
       "      <td id=\"T_5361f_row11_col2\" class=\"data row11 col2\" >374.385000</td>\n",
       "      <td id=\"T_5361f_row11_col3\" class=\"data row11 col3\" >374.314000</td>\n",
       "    </tr>\n",
       "    <tr>\n",
       "      <td id=\"T_5361f_row12_col0\" class=\"data row12 col0\" >12</td>\n",
       "      <td id=\"T_5361f_row12_col1\" class=\"data row12 col1\" >384.308000</td>\n",
       "      <td id=\"T_5361f_row12_col2\" class=\"data row12 col2\" >384.189000</td>\n",
       "      <td id=\"T_5361f_row12_col3\" class=\"data row12 col3\" >384.107000</td>\n",
       "    </tr>\n",
       "    <tr>\n",
       "      <td id=\"T_5361f_row13_col0\" class=\"data row13 col0\" >13</td>\n",
       "      <td id=\"T_5361f_row13_col1\" class=\"data row13 col1\" >381.072000</td>\n",
       "      <td id=\"T_5361f_row13_col2\" class=\"data row13 col2\" >381.041000</td>\n",
       "      <td id=\"T_5361f_row13_col3\" class=\"data row13 col3\" >380.969000</td>\n",
       "    </tr>\n",
       "    <tr>\n",
       "      <td id=\"T_5361f_row14_col0\" class=\"data row14 col0\" >14</td>\n",
       "      <td id=\"T_5361f_row14_col1\" class=\"data row14 col1\" >372.014000</td>\n",
       "      <td id=\"T_5361f_row14_col2\" class=\"data row14 col2\" >371.919000</td>\n",
       "      <td id=\"T_5361f_row14_col3\" class=\"data row14 col3\" >371.866000</td>\n",
       "    </tr>\n",
       "    <tr>\n",
       "      <td id=\"T_5361f_row15_col0\" class=\"data row15 col0\" >15</td>\n",
       "      <td id=\"T_5361f_row15_col1\" class=\"data row15 col1\" >376.251000</td>\n",
       "      <td id=\"T_5361f_row15_col2\" class=\"data row15 col2\" >376.237000</td>\n",
       "      <td id=\"T_5361f_row15_col3\" class=\"data row15 col3\" >376.149000</td>\n",
       "    </tr>\n",
       "    <tr>\n",
       "      <td id=\"T_5361f_row16_col0\" class=\"data row16 col0\" >16</td>\n",
       "      <td id=\"T_5361f_row16_col1\" class=\"data row16 col1\" >384.574000</td>\n",
       "      <td id=\"T_5361f_row16_col2\" class=\"data row16 col2\" >384.434000</td>\n",
       "      <td id=\"T_5361f_row16_col3\" class=\"data row16 col3\" >384.389000</td>\n",
       "    </tr>\n",
       "    <tr>\n",
       "      <td id=\"T_5361f_row17_col0\" class=\"data row17 col0\" >17</td>\n",
       "      <td id=\"T_5361f_row17_col1\" class=\"data row17 col1\" >386.187000</td>\n",
       "      <td id=\"T_5361f_row17_col2\" class=\"data row17 col2\" >386.116000</td>\n",
       "      <td id=\"T_5361f_row17_col3\" class=\"data row17 col3\" >386.040000</td>\n",
       "    </tr>\n",
       "    <tr>\n",
       "      <td id=\"T_5361f_row18_col0\" class=\"data row18 col0\" >18</td>\n",
       "      <td id=\"T_5361f_row18_col1\" class=\"data row18 col1\" >384.807000</td>\n",
       "      <td id=\"T_5361f_row18_col2\" class=\"data row18 col2\" >384.766000</td>\n",
       "      <td id=\"T_5361f_row18_col3\" class=\"data row18 col3\" >384.698000</td>\n",
       "    </tr>\n",
       "    <tr>\n",
       "      <td id=\"T_5361f_row19_col0\" class=\"data row19 col0\" >19</td>\n",
       "      <td id=\"T_5361f_row19_col1\" class=\"data row19 col1\" >384.933000</td>\n",
       "      <td id=\"T_5361f_row19_col2\" class=\"data row19 col2\" >384.930000</td>\n",
       "      <td id=\"T_5361f_row19_col3\" class=\"data row19 col3\" >384.850000</td>\n",
       "    </tr>\n",
       "  </tbody>\n",
       "</table>\n"
      ],
      "text/plain": [
       "<pandas.io.formats.style.Styler at 0x166885dc0>"
      ]
     },
     "execution_count": 8,
     "metadata": {},
     "output_type": "execute_result"
    }
   ],
   "source": [
    "df.style.hide(axis=\"index\")"
   ]
  }
 ],
 "metadata": {
  "kernelspec": {
   "display_name": "Python 3 (ipykernel)",
   "language": "python",
   "name": "python3"
  },
  "language_info": {
   "codemirror_mode": {
    "name": "ipython",
    "version": 3
   },
   "file_extension": ".py",
   "mimetype": "text/x-python",
   "name": "python",
   "nbconvert_exporter": "python",
   "pygments_lexer": "ipython3",
   "version": "3.9.12"
  }
 },
 "nbformat": 4,
 "nbformat_minor": 4
}
