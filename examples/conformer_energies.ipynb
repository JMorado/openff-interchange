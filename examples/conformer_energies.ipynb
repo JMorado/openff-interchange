{
 "cells": [
  {
   "cell_type": "code",
   "execution_count": 1,
   "metadata": {
    "execution": {
     "iopub.execute_input": "2021-12-23T15:02:57.059663Z",
     "iopub.status.busy": "2021-12-23T15:02:57.056392Z",
     "iopub.status.idle": "2021-12-23T15:03:03.975197Z",
     "shell.execute_reply": "2021-12-23T15:03:03.975647Z"
    },
    "tags": []
   },
   "outputs": [],
   "source": [
    "import pandas as pd\n",
    "from openff.toolkit.topology import Molecule, Topology\n",
    "from openff.toolkit.typing.engines.smirnoff import ForceField\n",
    "from openff.units import unit\n",
    "\n",
    "from openff.interchange import Interchange\n",
    "from openff.interchange.drivers.gromacs import get_gromacs_energies\n",
    "from openff.interchange.drivers.openmm import _get_openmm_energies, get_openmm_energies"
   ]
  },
  {
   "cell_type": "code",
   "execution_count": 2,
   "metadata": {
    "execution": {
     "iopub.execute_input": "2021-12-23T15:03:03.980619Z",
     "iopub.status.busy": "2021-12-23T15:03:03.979095Z",
     "iopub.status.idle": "2021-12-23T15:03:03.983161Z",
     "shell.execute_reply": "2021-12-23T15:03:03.983557Z"
    }
   },
   "outputs": [],
   "source": [
    "SMILES = \"c1n(CCO)c(C(F)(F)(F))cc1CNCCl\""
   ]
  },
  {
   "cell_type": "code",
   "execution_count": 3,
   "metadata": {
    "execution": {
     "iopub.execute_input": "2021-12-23T15:03:04.004922Z",
     "iopub.status.busy": "2021-12-23T15:03:04.004120Z",
     "iopub.status.idle": "2021-12-23T15:03:05.682870Z",
     "shell.execute_reply": "2021-12-23T15:03:05.683410Z"
    }
   },
   "outputs": [],
   "source": [
    "molecule = Molecule.from_smiles(SMILES)\n",
    "molecule.generate_conformers(n_conformers=20, rms_cutoff=0.1 * unit.angstrom)\n",
    "topology = molecule.to_topology()"
   ]
  },
  {
   "cell_type": "code",
   "execution_count": 4,
   "metadata": {
    "execution": {
     "iopub.execute_input": "2021-12-23T15:03:05.687723Z",
     "iopub.status.busy": "2021-12-23T15:03:05.686848Z",
     "iopub.status.idle": "2021-12-23T15:03:06.460745Z",
     "shell.execute_reply": "2021-12-23T15:03:06.461224Z"
    }
   },
   "outputs": [],
   "source": [
    "parsley = ForceField(\"openff-1.1.0.offxml\")"
   ]
  },
  {
   "cell_type": "code",
   "execution_count": 5,
   "metadata": {
    "execution": {
     "iopub.execute_input": "2021-12-23T15:03:06.493192Z",
     "iopub.status.busy": "2021-12-23T15:03:06.492590Z",
     "iopub.status.idle": "2021-12-23T15:03:15.211887Z",
     "shell.execute_reply": "2021-12-23T15:03:15.212988Z"
    }
   },
   "outputs": [],
   "source": [
    "openff_sys = Interchange.from_smirnoff(force_field=parsley, topology=topology)\n",
    "openmm_sys = parsley.create_openmm_system(topology)"
   ]
  },
  {
   "cell_type": "code",
   "execution_count": 6,
   "metadata": {
    "execution": {
     "iopub.execute_input": "2021-12-23T15:03:15.219281Z",
     "iopub.status.busy": "2021-12-23T15:03:15.218538Z",
     "iopub.status.idle": "2021-12-23T15:03:15.221365Z",
     "shell.execute_reply": "2021-12-23T15:03:15.221781Z"
    }
   },
   "outputs": [],
   "source": [
    "openff_sys.positions = molecule.conformers[0]\n",
    "openff_sys.box = [4, 4, 4]"
   ]
  },
  {
   "cell_type": "code",
   "execution_count": 7,
   "metadata": {
    "execution": {
     "iopub.execute_input": "2021-12-23T15:03:15.509835Z",
     "iopub.status.busy": "2021-12-23T15:03:15.224236Z",
     "iopub.status.idle": "2021-12-23T15:08:17.054045Z",
     "shell.execute_reply": "2021-12-23T15:08:17.054726Z"
    }
   },
   "outputs": [
    {
     "name": "stderr",
     "output_type": "stream",
     "text": [
      "WARNING:absl:No GPU/TPU found, falling back to CPU. (Set TF_CPP_MIN_LOG_LEVEL=0 and rerun for more info.)\n"
     ]
    }
   ],
   "source": [
    "df = pd.DataFrame()\n",
    "\n",
    "kj_mol = unit.kilojoule / unit.mol\n",
    "\n",
    "for idx, conformer in enumerate(molecule.conformers):\n",
    "    openff_sys.positions = conformer\n",
    "\n",
    "    toolkit = sum(\n",
    "        _get_openmm_energies(\n",
    "            omm_sys=openmm_sys,\n",
    "            box_vectors=openff_sys.box,\n",
    "            positions=openff_sys.positions,\n",
    "        ).energies.values()\n",
    "    ).m_as(kj_mol)\n",
    "\n",
    "    omm = sum(get_openmm_energies(openff_sys).energies.values()).m_as(kj_mol)\n",
    "\n",
    "    gmx = sum(get_gromacs_energies(openff_sys).energies.values()).m_as(kj_mol)\n",
    "\n",
    "    df = pd.concat(\n",
    "        [\n",
    "            df,\n",
    "            pd.DataFrame.from_dict(\n",
    "                {\n",
    "                    \"Conformer No.\": [idx],\n",
    "                    \"Toolkit (kJ/mol)\": [round(toolkit, 3)],\n",
    "                    \"Interchange -> OpenMM (kJ/mol)\": [round(omm, 3)],\n",
    "                    \"Interchange -> GROMACS\": [round(gmx, 3)],\n",
    "                }\n",
    "            ),\n",
    "            # ignore_index=True,\n",
    "        ]\n",
    "    )"
   ]
  },
  {
   "cell_type": "code",
   "execution_count": 8,
   "metadata": {
    "execution": {
     "iopub.execute_input": "2021-12-23T15:08:17.066170Z",
     "iopub.status.busy": "2021-12-23T15:08:17.058345Z",
     "iopub.status.idle": "2021-12-23T15:08:19.252729Z",
     "shell.execute_reply": "2021-12-23T15:08:19.250104Z"
    }
   },
   "outputs": [
    {
     "name": "stderr",
     "output_type": "stream",
     "text": [
      "/var/folders/2w/dfnzsrm57_730c_n_h0f3psc0000gn/T/ipykernel_7922/496160328.py:1: FutureWarning: this method is deprecated in favour of `Styler.hide(axis='index')`\n",
      "  df.style.hide_index()\n"
     ]
    },
    {
     "data": {
      "text/html": [
       "<style type=\"text/css\">\n",
       "</style>\n",
       "<table id=\"T_7e276\">\n",
       "  <thead>\n",
       "    <tr>\n",
       "      <th id=\"T_7e276_level0_col0\" class=\"col_heading level0 col0\" >Conformer No.</th>\n",
       "      <th id=\"T_7e276_level0_col1\" class=\"col_heading level0 col1\" >Toolkit (kJ/mol)</th>\n",
       "      <th id=\"T_7e276_level0_col2\" class=\"col_heading level0 col2\" >Interchange -> OpenMM (kJ/mol)</th>\n",
       "      <th id=\"T_7e276_level0_col3\" class=\"col_heading level0 col3\" >Interchange -> GROMACS</th>\n",
       "    </tr>\n",
       "  </thead>\n",
       "  <tbody>\n",
       "    <tr>\n",
       "      <td id=\"T_7e276_row0_col0\" class=\"data row0 col0\" >0</td>\n",
       "      <td id=\"T_7e276_row0_col1\" class=\"data row0 col1\" >382.076000</td>\n",
       "      <td id=\"T_7e276_row0_col2\" class=\"data row0 col2\" >382.000000</td>\n",
       "      <td id=\"T_7e276_row0_col3\" class=\"data row0 col3\" >381.922000</td>\n",
       "    </tr>\n",
       "    <tr>\n",
       "      <td id=\"T_7e276_row1_col0\" class=\"data row1 col0\" >1</td>\n",
       "      <td id=\"T_7e276_row1_col1\" class=\"data row1 col1\" >380.791000</td>\n",
       "      <td id=\"T_7e276_row1_col2\" class=\"data row1 col2\" >380.758000</td>\n",
       "      <td id=\"T_7e276_row1_col3\" class=\"data row1 col3\" >380.690000</td>\n",
       "    </tr>\n",
       "    <tr>\n",
       "      <td id=\"T_7e276_row2_col0\" class=\"data row2 col0\" >2</td>\n",
       "      <td id=\"T_7e276_row2_col1\" class=\"data row2 col1\" >395.580000</td>\n",
       "      <td id=\"T_7e276_row2_col2\" class=\"data row2 col2\" >395.449000</td>\n",
       "      <td id=\"T_7e276_row2_col3\" class=\"data row2 col3\" >395.381000</td>\n",
       "    </tr>\n",
       "    <tr>\n",
       "      <td id=\"T_7e276_row3_col0\" class=\"data row3 col0\" >3</td>\n",
       "      <td id=\"T_7e276_row3_col1\" class=\"data row3 col1\" >390.744000</td>\n",
       "      <td id=\"T_7e276_row3_col2\" class=\"data row3 col2\" >390.726000</td>\n",
       "      <td id=\"T_7e276_row3_col3\" class=\"data row3 col3\" >390.664000</td>\n",
       "    </tr>\n",
       "    <tr>\n",
       "      <td id=\"T_7e276_row4_col0\" class=\"data row4 col0\" >4</td>\n",
       "      <td id=\"T_7e276_row4_col1\" class=\"data row4 col1\" >390.629000</td>\n",
       "      <td id=\"T_7e276_row4_col2\" class=\"data row4 col2\" >390.596000</td>\n",
       "      <td id=\"T_7e276_row4_col3\" class=\"data row4 col3\" >390.539000</td>\n",
       "    </tr>\n",
       "    <tr>\n",
       "      <td id=\"T_7e276_row5_col0\" class=\"data row5 col0\" >5</td>\n",
       "      <td id=\"T_7e276_row5_col1\" class=\"data row5 col1\" >389.857000</td>\n",
       "      <td id=\"T_7e276_row5_col2\" class=\"data row5 col2\" >389.782000</td>\n",
       "      <td id=\"T_7e276_row5_col3\" class=\"data row5 col3\" >389.709000</td>\n",
       "    </tr>\n",
       "    <tr>\n",
       "      <td id=\"T_7e276_row6_col0\" class=\"data row6 col0\" >6</td>\n",
       "      <td id=\"T_7e276_row6_col1\" class=\"data row6 col1\" >377.463000</td>\n",
       "      <td id=\"T_7e276_row6_col2\" class=\"data row6 col2\" >377.401000</td>\n",
       "      <td id=\"T_7e276_row6_col3\" class=\"data row6 col3\" >377.343000</td>\n",
       "    </tr>\n",
       "    <tr>\n",
       "      <td id=\"T_7e276_row7_col0\" class=\"data row7 col0\" >7</td>\n",
       "      <td id=\"T_7e276_row7_col1\" class=\"data row7 col1\" >375.871000</td>\n",
       "      <td id=\"T_7e276_row7_col2\" class=\"data row7 col2\" >375.822000</td>\n",
       "      <td id=\"T_7e276_row7_col3\" class=\"data row7 col3\" >375.774000</td>\n",
       "    </tr>\n",
       "    <tr>\n",
       "      <td id=\"T_7e276_row8_col0\" class=\"data row8 col0\" >8</td>\n",
       "      <td id=\"T_7e276_row8_col1\" class=\"data row8 col1\" >401.992000</td>\n",
       "      <td id=\"T_7e276_row8_col2\" class=\"data row8 col2\" >401.917000</td>\n",
       "      <td id=\"T_7e276_row8_col3\" class=\"data row8 col3\" >401.859000</td>\n",
       "    </tr>\n",
       "    <tr>\n",
       "      <td id=\"T_7e276_row9_col0\" class=\"data row9 col0\" >9</td>\n",
       "      <td id=\"T_7e276_row9_col1\" class=\"data row9 col1\" >401.884000</td>\n",
       "      <td id=\"T_7e276_row9_col2\" class=\"data row9 col2\" >401.812000</td>\n",
       "      <td id=\"T_7e276_row9_col3\" class=\"data row9 col3\" >401.738000</td>\n",
       "    </tr>\n",
       "    <tr>\n",
       "      <td id=\"T_7e276_row10_col0\" class=\"data row10 col0\" >10</td>\n",
       "      <td id=\"T_7e276_row10_col1\" class=\"data row10 col1\" >379.166000</td>\n",
       "      <td id=\"T_7e276_row10_col2\" class=\"data row10 col2\" >379.107000</td>\n",
       "      <td id=\"T_7e276_row10_col3\" class=\"data row10 col3\" >379.028000</td>\n",
       "    </tr>\n",
       "    <tr>\n",
       "      <td id=\"T_7e276_row11_col0\" class=\"data row11 col0\" >11</td>\n",
       "      <td id=\"T_7e276_row11_col1\" class=\"data row11 col1\" >376.869000</td>\n",
       "      <td id=\"T_7e276_row11_col2\" class=\"data row11 col2\" >376.852000</td>\n",
       "      <td id=\"T_7e276_row11_col3\" class=\"data row11 col3\" >376.783000</td>\n",
       "    </tr>\n",
       "    <tr>\n",
       "      <td id=\"T_7e276_row12_col0\" class=\"data row12 col0\" >12</td>\n",
       "      <td id=\"T_7e276_row12_col1\" class=\"data row12 col1\" >387.650000</td>\n",
       "      <td id=\"T_7e276_row12_col2\" class=\"data row12 col2\" >387.531000</td>\n",
       "      <td id=\"T_7e276_row12_col3\" class=\"data row12 col3\" >387.453000</td>\n",
       "    </tr>\n",
       "    <tr>\n",
       "      <td id=\"T_7e276_row13_col0\" class=\"data row13 col0\" >13</td>\n",
       "      <td id=\"T_7e276_row13_col1\" class=\"data row13 col1\" >384.113000</td>\n",
       "      <td id=\"T_7e276_row13_col2\" class=\"data row13 col2\" >384.078000</td>\n",
       "      <td id=\"T_7e276_row13_col3\" class=\"data row13 col3\" >384.008000</td>\n",
       "    </tr>\n",
       "    <tr>\n",
       "      <td id=\"T_7e276_row14_col0\" class=\"data row14 col0\" >14</td>\n",
       "      <td id=\"T_7e276_row14_col1\" class=\"data row14 col1\" >374.496000</td>\n",
       "      <td id=\"T_7e276_row14_col2\" class=\"data row14 col2\" >374.406000</td>\n",
       "      <td id=\"T_7e276_row14_col3\" class=\"data row14 col3\" >374.356000</td>\n",
       "    </tr>\n",
       "    <tr>\n",
       "      <td id=\"T_7e276_row15_col0\" class=\"data row15 col0\" >15</td>\n",
       "      <td id=\"T_7e276_row15_col1\" class=\"data row15 col1\" >378.205000</td>\n",
       "      <td id=\"T_7e276_row15_col2\" class=\"data row15 col2\" >378.192000</td>\n",
       "      <td id=\"T_7e276_row15_col3\" class=\"data row15 col3\" >378.108000</td>\n",
       "    </tr>\n",
       "    <tr>\n",
       "      <td id=\"T_7e276_row16_col0\" class=\"data row16 col0\" >16</td>\n",
       "      <td id=\"T_7e276_row16_col1\" class=\"data row16 col1\" >387.122000</td>\n",
       "      <td id=\"T_7e276_row16_col2\" class=\"data row16 col2\" >386.987000</td>\n",
       "      <td id=\"T_7e276_row16_col3\" class=\"data row16 col3\" >386.946000</td>\n",
       "    </tr>\n",
       "    <tr>\n",
       "      <td id=\"T_7e276_row17_col0\" class=\"data row17 col0\" >17</td>\n",
       "      <td id=\"T_7e276_row17_col1\" class=\"data row17 col1\" >388.525000</td>\n",
       "      <td id=\"T_7e276_row17_col2\" class=\"data row17 col2\" >388.455000</td>\n",
       "      <td id=\"T_7e276_row17_col3\" class=\"data row17 col3\" >388.383000</td>\n",
       "    </tr>\n",
       "    <tr>\n",
       "      <td id=\"T_7e276_row18_col0\" class=\"data row18 col0\" >18</td>\n",
       "      <td id=\"T_7e276_row18_col1\" class=\"data row18 col1\" >386.834000</td>\n",
       "      <td id=\"T_7e276_row18_col2\" class=\"data row18 col2\" >386.797000</td>\n",
       "      <td id=\"T_7e276_row18_col3\" class=\"data row18 col3\" >386.731000</td>\n",
       "    </tr>\n",
       "    <tr>\n",
       "      <td id=\"T_7e276_row19_col0\" class=\"data row19 col0\" >19</td>\n",
       "      <td id=\"T_7e276_row19_col1\" class=\"data row19 col1\" >387.086000</td>\n",
       "      <td id=\"T_7e276_row19_col2\" class=\"data row19 col2\" >387.081000</td>\n",
       "      <td id=\"T_7e276_row19_col3\" class=\"data row19 col3\" >387.005000</td>\n",
       "    </tr>\n",
       "  </tbody>\n",
       "</table>\n"
      ],
      "text/plain": [
       "<pandas.io.formats.style.Styler at 0x7f84ffc06c10>"
      ]
     },
     "execution_count": 8,
     "metadata": {},
     "output_type": "execute_result"
    }
   ],
   "source": [
    "df.style.hide_index()"
   ]
  }
 ],
 "metadata": {
  "kernelspec": {
   "display_name": "Python 3 (ipykernel)",
   "language": "python",
   "name": "python3"
  },
  "language_info": {
   "codemirror_mode": {
    "name": "ipython",
    "version": 3
   },
   "file_extension": ".py",
   "mimetype": "text/x-python",
   "name": "python",
   "nbconvert_exporter": "python",
   "pygments_lexer": "ipython3",
   "version": "3.8.12"
  }
 },
 "nbformat": 4,
 "nbformat_minor": 4
}
