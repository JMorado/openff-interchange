{
 "cells": [
  {
   "cell_type": "code",
   "execution_count": null,
   "id": "1ef6cb9c-8011-4a3e-a82b-0c7f8347dafd",
   "metadata": {},
   "outputs": [],
   "source": [
    "import pathlib\n",
    "import sys\n",
    "import urllib.request\n",
    "from typing import Dict\n",
    "\n",
    "import openmm\n",
    "import openmm.app\n",
    "from openff.units.openmm import from_openmm as from_openmm_quantity\n",
    "\n",
    "from openff.interchange.drivers import get_openmm_energies\n",
    "from openff.interchange.drivers.openmm import _get_openmm_energies\n",
    "from openff.interchange.interop.openmm import from_openmm\n",
    "\n",
    "sys.setrecursionlimit(5000)"
   ]
  },
  {
   "cell_type": "code",
   "execution_count": null,
   "id": "040c6eab",
   "metadata": {},
   "outputs": [],
   "source": [
    "def openmm_pathway(\n",
    "    pdb_file: openmm.app.PDBFile,\n",
    "    force_field: openmm.app.ForceField,\n",
    ") -> Dict[str, float]:\n",
    "    \"\"\"Evaluate the energy of this PDB file and force field using only OpenMM.\"\"\"\n",
    "    system = force_field.createSystem(pdb_file.topology)\n",
    "\n",
    "    for idx, force in enumerate(system.getForces()):\n",
    "        force.setForceGroup(idx)\n",
    "\n",
    "    integrator = openmm.VerletIntegrator(1.0 * openmm.unit.femtoseconds)\n",
    "    context = openmm.Context(system, integrator)\n",
    "\n",
    "    context.setPeriodicBoxVectors(*pdb_file.topology.getPeriodicBoxVectors())\n",
    "    context.setPositions(pdb_file.getPositions())\n",
    "\n",
    "    return {\n",
    "        type(system.getForce(index)): context.getState(\n",
    "            getEnergy=True, groups={index}\n",
    "        ).getPotentialEnergy()\n",
    "        for index in range(system.getNumForces())\n",
    "    }"
   ]
  },
  {
   "cell_type": "code",
   "execution_count": null,
   "id": "7b726388-3f15-407d-85dc-87d66d1062dc",
   "metadata": {},
   "outputs": [],
   "source": [
    "if not pathlib.Path(\"protein.pdb\").is_file():\n",
    "    urllib.request.urlretrieve(\n",
    "        \"https://raw.githubusercontent.com/bayer-science-for-a-better-life/abfe-benchmark/a3b15632d2f419857e2ba73a6922de6f09a66caa/structures/brd4/protein.pdb\",\n",
    "        \"brd4.pdb\",\n",
    "    )\n",
    "\n",
    "protein = openmm.app.PDBFile(\"brd4.pdb\")\n",
    "amber_force_fields = openmm.app.ForceField(\"amber14-all.xml\", \"amber14/tip3pfb.xml\")\n",
    "\n",
    "amber_force_fields.createSystem(protein.topology)"
   ]
  },
  {
   "cell_type": "code",
   "execution_count": null,
   "id": "c8b36fdc",
   "metadata": {},
   "outputs": [],
   "source": [
    "protein.topology.getPeriodicBoxVectors()"
   ]
  },
  {
   "cell_type": "code",
   "execution_count": null,
   "id": "d8e436d6-d06c-44c9-9239-3cf370dceff7",
   "metadata": {},
   "outputs": [],
   "source": [
    "converted_interchange = from_openmm(\n",
    "    topology=protein.topology,\n",
    "    system=amber_force_fields.createSystem(protein.topology),\n",
    "    positions=from_openmm_quantity(protein.getPositions()),\n",
    "    box_vectors=from_openmm_quantity(protein.topology.getPeriodicBoxVectors()),\n",
    ")"
   ]
  },
  {
   "cell_type": "markdown",
   "id": "e65d562c",
   "metadata": {},
   "source": [
    "As a quick sanity check, get the single-point energy of this configuration."
   ]
  },
  {
   "cell_type": "code",
   "execution_count": null,
   "id": "b2a561f1",
   "metadata": {},
   "outputs": [],
   "source": [
    "print(get_openmm_energies(converted_interchange))"
   ]
  },
  {
   "cell_type": "code",
   "execution_count": null,
   "id": "0134e35a",
   "metadata": {},
   "outputs": [],
   "source": [
    "openmm_pathway(protein, amber_force_fields)"
   ]
  }
 ],
 "metadata": {
  "kernelspec": {
   "display_name": "Python 3 (ipykernel)",
   "language": "python",
   "name": "python3"
  },
  "language_info": {
   "codemirror_mode": {
    "name": "ipython",
    "version": 3
   },
   "file_extension": ".py",
   "mimetype": "text/x-python",
   "name": "python",
   "nbconvert_exporter": "python",
   "pygments_lexer": "ipython3",
   "version": "3.9.13"
  }
 },
 "nbformat": 4,
 "nbformat_minor": 5
}
