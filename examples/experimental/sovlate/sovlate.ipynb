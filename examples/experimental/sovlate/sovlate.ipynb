{
 "cells": [
  {
   "cell_type": "code",
   "execution_count": null,
   "id": "0776b3ec-4de7-4fd1-b938-419ee9fd569f",
   "metadata": {},
   "outputs": [],
   "source": [
    "import nglview\n",
    "import numpy\n",
    "import openmm\n",
    "import openmm.app\n",
    "import openmm.unit\n",
    "from openff.toolkit import ForceField, Molecule, Topology\n",
    "from openff.units import Quantity, unit\n",
    "from openff.units.openmm import ensure_quantity\n",
    "from openmm.app import Topology as OpenMMTopology\n",
    "\n",
    "from openff.interchange import Interchange"
   ]
  },
  {
   "cell_type": "code",
   "execution_count": null,
   "id": "8897a469-64db-4955-879c-ad027be58b8c",
   "metadata": {},
   "outputs": [],
   "source": [
    "def solvate_topology(\n",
    "    topology: Topology,\n",
    "    method: str = \"pdbfixer\",\n",
    "    box_vectors: Quantity = Quantity(5.0 * numpy.ones(3), unit.nanometer),\n",
    ") -> Topology:\n",
    "    if method == \"pdbfixer\":\n",
    "        openmm_topology, openmm_positions = _solvate_pdbfixer(\n",
    "            topology.to_openmm(),\n",
    "            topology.get_positions().to_openmm(),\n",
    "            box_vectors=box_vectors.to_openmm(),\n",
    "        )\n",
    "\n",
    "        unique_molecules: List[Molecule] = [*topology.unique_molecules]\n",
    "        unique_molecules.append(Molecule.from_mapped_smiles(\"[H:2][O:1][H:3]\"))\n",
    "\n",
    "        new_topology = Topology.from_openmm(\n",
    "            openmm_topology, unique_molecules=unique_molecules\n",
    "        )\n",
    "        new_topology.set_positions(ensure_quantity(openmm_positions, \"openff\"))\n",
    "\n",
    "        return new_topology\n",
    "\n",
    "\n",
    "def _solvate_pdbfixer(\n",
    "    topology: OpenMMTopology,\n",
    "    positions: openmm.unit.Quantity,\n",
    "    box_vectors: openmm.unit.Quantity,\n",
    ") -> tuple[OpenMMTopology, openmm.unit.Quantity]:\n",
    "    \"\"\"\n",
    "    Add solvent and ions using PDBFixer.\n",
    "\n",
    "    https://htmlpreview.github.io/?https://github.com/openmm/pdbfixer/blob/master/Manual.html\n",
    "\n",
    "    \"\"\"\n",
    "    import pdbfixer\n",
    "\n",
    "    with open(\"_tmp.pdb\", \"w\") as _file:\n",
    "        openmm.app.PDBFile.writeFile(topology, positions, _file)\n",
    "\n",
    "    pdb_object = pdbfixer.PDBFixer(\"_tmp.pdb\")\n",
    "    pdb_object.addSolvent(\n",
    "        boxSize=openmm.Vec3(*box_vectors.value_in_unit(openmm.unit.nanometer))\n",
    "        * openmm.unit.nanometer\n",
    "    )\n",
    "\n",
    "    return pdb_object.topology, pdb_object.positions"
   ]
  },
  {
   "cell_type": "code",
   "execution_count": null,
   "id": "3ef45c2b-fc13-43fd-8c80-e1c3efb18447",
   "metadata": {},
   "outputs": [],
   "source": [
    "sage_ff14sb = ForceField(\"openff-2.0.0.offxml\", \"ff14sb_off_impropers_0.0.3.offxml\")"
   ]
  },
  {
   "cell_type": "code",
   "execution_count": null,
   "id": "16aace17-6944-481f-81a9-635b024426a5",
   "metadata": {},
   "outputs": [],
   "source": [
    "peptide = Molecule.from_polymer_pdb(\"ace-a5ca5-nme.pdb\")"
   ]
  },
  {
   "cell_type": "code",
   "execution_count": null,
   "id": "34bd9d4e-9e84-4dbc-845f-00f69635feb1",
   "metadata": {},
   "outputs": [],
   "source": [
    "solvated_topology = solvate_topology(peptide.to_topology())"
   ]
  },
  {
   "cell_type": "code",
   "execution_count": null,
   "id": "391c74ef-0b7b-4e0b-a775-319debba18c1",
   "metadata": {},
   "outputs": [],
   "source": [
    "solvated_topology.to_file(\"solvated.pdb\")"
   ]
  },
  {
   "cell_type": "code",
   "execution_count": null,
   "id": "64c32c52-1499-42b9-a5d0-d0e0c3a96370",
   "metadata": {},
   "outputs": [],
   "source": [
    "view = nglview.show_file(\"solvated.pdb\")\n",
    "view.clear_representations()\n",
    "view.add_representation(\"ball+stick\", selection=\"all\")\n",
    "view"
   ]
  },
  {
   "cell_type": "code",
   "execution_count": null,
   "id": "8a92bdfa-63fe-42eb-a775-97a86f706c36",
   "metadata": {},
   "outputs": [],
   "source": [
    "interchange = Interchange.from_smirnoff(sage_ff14sb, solvated_topology)"
   ]
  }
 ],
 "metadata": {
  "kernelspec": {
   "display_name": "Python 3 (ipykernel)",
   "language": "python",
   "name": "python3"
  },
  "language_info": {
   "codemirror_mode": {
    "name": "ipython",
    "version": 3
   },
   "file_extension": ".py",
   "mimetype": "text/x-python",
   "name": "python",
   "nbconvert_exporter": "python",
   "pygments_lexer": "ipython3",
   "version": "3.9.13"
  }
 },
 "nbformat": 4,
 "nbformat_minor": 5
}
