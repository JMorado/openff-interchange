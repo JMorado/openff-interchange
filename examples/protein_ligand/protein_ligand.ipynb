{
 "cells": [
  {
   "cell_type": "markdown",
   "id": "6ee88ac1",
   "metadata": {},
   "source": [
    "# Protein-ligand-water systems with Interchange"
   ]
  },
  {
   "cell_type": "markdown",
   "id": "444eff7b",
   "metadata": {},
   "source": [
    "<details>\n",
    "    <summary><small>▼ Click here for dependency installation instructions</small></summary>\n",
    "    The simplest way to install dependencies is to use the Interchange examples environment. From the root of the cloned openff-interchange repository:\n",
    "    \n",
    "    conda env create --name interchange-examples --file devtools/conda-envs/examples_env.yaml \n",
    "    conda activate interchange-examples\n",
    "    pip install -e .\n",
    "    cd examples/protein_ligand/\n",
    "    jupyter notebook protein_ligand.ipynb\n",
    "    \n",
    "</details>"
   ]
  },
  {
   "cell_type": "markdown",
   "id": "3326be17",
   "metadata": {},
   "source": [
    "In this example, we'll take a docked protein-ligand system from an OpenFF benchmark data set, parameterize and solvate it, and export the parameterized system to a variety of simulation engines.\n",
    "\n",
    "<div class=\"alert alert-danger\" style=\"max-width: 700px; margin-left: auto; margin-right: auto;\">\n",
    "    <b>🚧 This code is not production-ready</b><br />\n",
    "    This example describes a number of procedures that are buggy, poorly performing, or outright broken. Get excited about what's coming, but hold off on using this in production work.\n",
    "</div>"
   ]
  },
  {
   "cell_type": "code",
   "execution_count": 1,
   "id": "804e1e07",
   "metadata": {},
   "outputs": [],
   "source": [
    "import urllib\n",
    "\n",
    "import mdtraj as md\n",
    "import numpy as np\n",
    "from openff.evaluator.utils.packmol import pack_box\n",
    "from openff.toolkit import Molecule, ForceField\n",
    "from openff.units import unit\n",
    "\n",
    "from openff.interchange import Interchange\n",
    "from openff.interchange.drivers import (\n",
    "    get_amber_energies,\n",
    "    get_lammps_energies,\n",
    "    get_openmm_energies,\n",
    ")\n",
    "from openff.interchange.drivers.all import get_summary_data"
   ]
  },
  {
   "cell_type": "markdown",
   "id": "43985f07",
   "metadata": {},
   "source": [
    "## Collecting structures"
   ]
  },
  {
   "cell_type": "markdown",
   "id": "cfb48b42",
   "metadata": {},
   "source": [
    "In this example we'll use starting coordinates data from [MCL1], which is part of the [Protein Ligand Benchmark] data set curated by the Open Force Field Initiative. Conveniently for the purposes of this example, the ligand is already docked and the protein is relatively small (~2000 atoms), so we can focus on using Interchange without too much prep.\n",
    "\n",
    "[Protein Ligand Benchmark]: https://github.com/openforcefield/protein-ligand-benchmark#proteinligandbenchmarks\n",
    "[MCL1]: https://github.com/openforcefield/protein-ligand-benchmark/tree/8c94c0dcc892dfd77992567294b1ff31c62e8695/plbenchmark/sample_data/2020-08-26_mcl1_sample"
   ]
  },
  {
   "cell_type": "markdown",
   "id": "cb724c7f",
   "metadata": {},
   "source": [
    "Start by downloading the protein and ligand structure files from GitHub:"
   ]
  },
  {
   "cell_type": "code",
   "execution_count": 2,
   "id": "febbeeb6",
   "metadata": {},
   "outputs": [
    {
     "name": "stdout",
     "output_type": "stream",
     "text": [
      "total 8.7M\r\n",
      "-rw-r--r-- 1 joshmitchell joshmitchell  152 Mar  9 16:27 README.md\r\n",
      "-rw-r--r-- 1 joshmitchell joshmitchell 321K Apr  5 17:30 out.gro\r\n",
      "-rw-r--r-- 1 joshmitchell joshmitchell 2.2M Apr  5 17:31 out.top\r\n",
      "-rw-r--r-- 1 joshmitchell joshmitchell 567K Apr  5 17:40 packed.pdb\r\n",
      "-rw-r--r-- 1 joshmitchell joshmitchell 567K Apr  5 17:41 out.pdb\r\n",
      "-rw-r--r-- 1 joshmitchell joshmitchell 192K Apr  7 12:12 sliced.pdb\r\n",
      "-rw-r--r-- 1 joshmitchell joshmitchell 249K Apr  7 12:13 docked.pdb\r\n",
      "-rw-r--r-- 1 joshmitchell joshmitchell 567K Apr  7 12:13 _tmp_pdb_file.pdb\r\n",
      "-rw-r--r-- 1 joshmitchell joshmitchell 195K Apr  7 12:13 out.inpcrd\r\n",
      "-rw-r--r-- 1 joshmitchell joshmitchell 3.6M Apr  7 12:14 out.prmtop\r\n",
      "-rw-r--r-- 1 joshmitchell joshmitchell  417 Apr  7 12:14 tmp.in\r\n",
      "-rw-r--r-- 1 joshmitchell joshmitchell 8.5K Apr  7 12:14 out.lmp\r\n",
      "-rw-r--r-- 1 joshmitchell joshmitchell 3.7K Apr  7 12:14 log.lammps\r\n",
      "-rw-r--r-- 1 joshmitchell joshmitchell  21K Apr  7 15:25 protein_ligand.ipynb\r\n",
      "-rw-r--r-- 1 joshmitchell joshmitchell 194K Apr  7 15:26 protein.pdb\r\n",
      "-rw-r--r-- 1 joshmitchell joshmitchell 4.1K Apr  7 15:26 lig_23.sdf\r\n"
     ]
    }
   ],
   "source": [
    "url = (\n",
    "    \"https://raw.githubusercontent.com/openforcefield/protein-ligand-benchmark/\"\n",
    "    \"8c94c0dcc892dfd77992567294b1ff31c62e8695/plbenchmark/sample_data/2020-08-26_mcl1_sample/\"\n",
    ")\n",
    "\n",
    "urllib.request.urlretrieve(url + \"01_protein/crd/protein.pdb\", \"protein.pdb\")\n",
    "urllib.request.urlretrieve(url + \"02_ligands/lig_23/crd/lig_23.sdf\", \"lig_23.sdf\")\n",
    "\n",
    "# `protein.pdb` and `lig_23.sdf` should be in the local path now\n",
    "!ls -lhrt"
   ]
  },
  {
   "cell_type": "markdown",
   "id": "724503d5",
   "metadata": {},
   "source": [
    "The PDB file includes a few waters; the OpenFF Toolkit currently does not support parsing multi-component PDB files, so we'll use [MDTraj](https://mdtraj.org/) to parse the file and save just the protein to a new file."
   ]
  },
  {
   "cell_type": "code",
   "execution_count": 3,
   "id": "495d31f7",
   "metadata": {},
   "outputs": [],
   "source": [
    "protein_with_waters = md.load(\"protein.pdb\")\n",
    "protein_pdb = protein_with_waters.atom_slice(\n",
    "    protein_with_waters.top.select(\"chainid 0\")\n",
    ")\n",
    "protein_pdb.save(\"sliced.pdb\")"
   ]
  },
  {
   "cell_type": "markdown",
   "id": "913a30c1",
   "metadata": {},
   "source": [
    "## Preparing components"
   ]
  },
  {
   "cell_type": "markdown",
   "id": "508637d7",
   "metadata": {},
   "source": [
    "This system has three components: Protein, ligand, and solvent (water). For each component, we need positions and parameters. Our protein and ligand positions come from PDBs, and we'll generate solvent coordinates ourselves. For parameters, the Sage force field will be perfect for the ligand and water, but doesn't support proteins - they're coming in Rosemary. In the meantime, we'll use a recent Amber force field, which has a compatible charge generation scheme and functional form.\n",
    "\n",
    "Unfortunately, this means we need to treat each component seperately. Fortunately, Interchange provides a great way to combine separate systems, which we'll see in a bit."
   ]
  },
  {
   "cell_type": "markdown",
   "id": "fd22228a",
   "metadata": {},
   "source": [
    "### Protein component\n",
    "\n",
    "Let's start with the protein component. The `Molecule.from_pdb()` method constructs a `Molecule` from a PDB file encoding a protein. A `Molecule` object stores a molecule's chemical identity, bond graph, and co-ordinates. The OpenFF Toolkit doesn't accept PDB files for small molecules because they  don't have enough chemical information, but it makes an exception for biopolymers like proteins. No-one wants to write up a SMILES string for an entire protein! \n",
    "\n",
    "This cell produces a lot of debug output; `%%capture` suppresses it:\n",
    "\n",
    "<div class=\"alert alert-danger\" style=\"max-width: 700px; margin-left: auto; margin-right: auto;\">\n",
    "    <b>🚧 This code is not production-ready</b><br />\n",
    "    The <code>Molecule.from_pdb()</code> method will soon be renamed <code>Molecule.from_polymer_pdb()</code> to better describe its purpose.\n",
    "</div>"
   ]
  },
  {
   "cell_type": "code",
   "execution_count": 4,
   "id": "9bdbd9ce",
   "metadata": {},
   "outputs": [],
   "source": [
    "%%capture\n",
    "protein = Molecule.from_pdb(\"sliced.pdb\")"
   ]
  },
  {
   "cell_type": "markdown",
   "id": "d75f311d",
   "metadata": {},
   "source": [
    "We can visualize the protein to make sure its reasonable:"
   ]
  },
  {
   "cell_type": "code",
   "execution_count": 5,
   "id": "f79447c7",
   "metadata": {},
   "outputs": [
    {
     "data": {
      "application/vnd.jupyter.widget-view+json": {
       "model_id": "f649bb3756624e28b110761bda7146d6",
       "version_major": 2,
       "version_minor": 0
      },
      "text/plain": []
     },
     "metadata": {},
     "output_type": "display_data"
    },
    {
     "data": {
      "application/vnd.jupyter.widget-view+json": {
       "model_id": "1d58d195720348789cb858ddb3ecb275",
       "version_major": 2,
       "version_minor": 0
      },
      "text/plain": [
       "NGLWidget()"
      ]
     },
     "metadata": {},
     "output_type": "display_data"
    }
   ],
   "source": [
    "protein.visualize(backend=\"nglview\")"
   ]
  },
  {
   "cell_type": "markdown",
   "id": "2fe17b6a",
   "metadata": {},
   "source": [
    "OpenFF maintains a [port](https://github.com/openforcefield/openff-amber-ff-ports) of Amber ff14sb, which we'll use for the protein parameters. We're using the `impropers` variant because Interchange doesn't support Amber's improper torsion function. This port is at such an early stage that we have to do some tweaks to make this work.\n",
    "\n",
    "\n",
    "<div class=\"alert alert-danger\" style=\"max-width: 700px; margin-left: auto; margin-right: auto;\">\n",
    "    <b>🚧 This code is not production-ready</b><br />\n",
    "    The Amber ff14sb port is intended as a proof-of-concept for SMIRNOFF protein force fields. It does not precisely match the energetics or forces of the original ff14sb, and Interchange is missing features required for it to work correctly. Wait for protein support in the Rosemary force field to use this in production.\n",
    "</div>"
   ]
  },
  {
   "cell_type": "code",
   "execution_count": 6,
   "id": "a3556f47",
   "metadata": {},
   "outputs": [],
   "source": [
    "# This will take 1-2 minutes to load\n",
    "ff14sb = ForceField(\"ff14sb_off_impropers_0.0.2.offxml\")\n",
    "ff14sb[\n",
    "    \"Bonds\"\n",
    "].fractional_bondorder_method = (\n",
    "    \"AM1-Wiberg\"  # See https://github.com/openforcefield/amber-ff-porting/issues/37\n",
    ")"
   ]
  },
  {
   "cell_type": "markdown",
   "id": "4834cc87",
   "metadata": {},
   "source": [
    "We can use the `Interchange.from_smirnoff` constructor method to combine the `protein` molecule (with coordinates) and the `ff14sb` force field into an `Interchange`."
   ]
  },
  {
   "cell_type": "code",
   "execution_count": 7,
   "id": "ab6e791c",
   "metadata": {},
   "outputs": [],
   "source": [
    "protein_intrcg = Interchange.from_smirnoff(\n",
    "    force_field=ff14sb,\n",
    "    topology=[protein],\n",
    ")"
   ]
  },
  {
   "cell_type": "markdown",
   "id": "350ea506",
   "metadata": {},
   "source": [
    "### Ligand component"
   ]
  },
  {
   "cell_type": "markdown",
   "id": "ed30b0c4",
   "metadata": {},
   "source": [
    "SDF files encode all the chemical information the Toolkit needs to construct a `Molecule`, so we can use the general-purpose small molecule `from_file` method for the ligand:"
   ]
  },
  {
   "cell_type": "code",
   "execution_count": 8,
   "id": "049ace51",
   "metadata": {},
   "outputs": [],
   "source": [
    "ligand = Molecule.from_file(\"lig_23.sdf\")"
   ]
  },
  {
   "cell_type": "markdown",
   "id": "431055c0",
   "metadata": {},
   "source": [
    "We'll use the [OpenFF 2.0.0 \"Sage\"] force field for the ligand, which is a production-ready small molecule [SMIRNOFF] force field. Its coordinates are taken from the `lig_23.sdf` file we downloaded earlier. We just want to do some point energy calculations as a proof of concept, so we'll use the unconstrained variant of Sage (see the [FAQ] for details).\n",
    "\n",
    "[OpenFF 2.0.0 \"Sage\"]: https://openforcefield.org/community/news/general/sage2.0.0-release/\n",
    "[FAQ]: https://open-forcefield-toolkit.readthedocs.io/en/stable/faq.html#what-does-unconstrained-mean-in-a-force-field-name\n",
    "[SMIRNOFF]: https://open-forcefield-toolkit.readthedocs.io/en/stable/users/smirnoff.html"
   ]
  },
  {
   "cell_type": "code",
   "execution_count": 9,
   "id": "212bc415",
   "metadata": {},
   "outputs": [
    {
     "name": "stderr",
     "output_type": "stream",
     "text": [
      "Warning: Cannot perform Hydrogen sampling with GPU-Omega: GPU-Omega disabled.\n"
     ]
    }
   ],
   "source": [
    "ligand_intrcg = Interchange.from_smirnoff(\n",
    "    force_field=ForceField(\"openff_unconstrained-2.0.0.offxml\"),\n",
    "    topology=[ligand],\n",
    ")"
   ]
  },
  {
   "cell_type": "markdown",
   "id": "b7fb169e",
   "metadata": {},
   "source": [
    "Now that we have two interchanges, we can combine them with the `+` operator! We'll need a combined system to solvate too, so this'll be useful in a second.\n",
    "\n",
    "<div class=\"alert alert-danger\" style=\"max-width: 700px; margin-left: auto; margin-right: auto;\">\n",
    "    <b>🚧 This code is not production-ready</b><br />\n",
    "    The <code>+</code> operator is unstable and may break unexpectedly or be removed altogether at any time. In the future, OpenFF force fields will support biopolymers and combining Interchanges will be less necessary than at present. Don't combine force fields in production code.\n",
    "</div>"
   ]
  },
  {
   "cell_type": "code",
   "execution_count": 10,
   "id": "8fc1c0ff",
   "metadata": {},
   "outputs": [
    {
     "name": "stderr",
     "output_type": "stream",
     "text": [
      "/home/joshmitchell/Documents/openff/interchange/openff/interchange/components/interchange.py:707: UserWarning: Interchange object combination is experimental and likely to produce strange results. Any workflow using this method is not guaranteed to be suitable for production. Use with extreme caution and thoroughly validate results!\n",
      "  warnings.warn(\n",
      "/home/joshmitchell/Documents/openff/interchange/openff/interchange/components/interchange.py:738: UserWarning: 'other' Interchange object has handler with name Constraints not found in 'self,' but it has now been added.\n",
      "  warnings.warn(\n"
     ]
    }
   ],
   "source": [
    "docked_intrcg = protein_intrcg + ligand_intrcg"
   ]
  },
  {
   "cell_type": "markdown",
   "id": "ea7a2487",
   "metadata": {},
   "source": [
    "In addition to making it easy to parameterize systems for all sorts of engines, Interchange makes it easy to visualize systems. We can use the `visualize()` method to view our docked system in NGLView and make sure the co-ordinates make sense:"
   ]
  },
  {
   "cell_type": "code",
   "execution_count": 11,
   "id": "ed96820e",
   "metadata": {},
   "outputs": [
    {
     "data": {
      "application/vnd.jupyter.widget-view+json": {
       "model_id": "b2caa734f5fd43909a3739d2a77ac1ca",
       "version_major": 2,
       "version_minor": 0
      },
      "text/plain": [
       "NGLWidget()"
      ]
     },
     "metadata": {},
     "output_type": "display_data"
    }
   ],
   "source": [
    "w = docked_intrcg.visualize()\n",
    "w.clear_representations()\n",
    "w.add_representation(\n",
    "    \"licorice\",\n",
    "    radius=0.1,\n",
    "    selection=[*range(protein_intrcg.topology.n_atoms)],\n",
    ")\n",
    "w.add_representation(\n",
    "    \"spacefill\",\n",
    "    selection=[*range(protein_intrcg.topology.n_atoms, docked_intrcg.topology.n_atoms)],\n",
    ")\n",
    "w"
   ]
  },
  {
   "cell_type": "markdown",
   "id": "9b71faac",
   "metadata": {},
   "source": [
    "### Solvent component\n",
    "\n",
    "We'll reuse the Sage force field from earlier here, as it includes parameters for TIP3P water, but first we need coordinates for our solvated system. This is still a pain point in the OpenFF ecosystem, but we can use some tools from [OpenFF Evaluator] to smooth things over a little. We're adding a fixed amount of water for this quick example so the density will be wrong, but imagine it's right:\n",
    "\n",
    "[OpenFF Evaluator]: https://github.com/openforcefield/openff-evaluator"
   ]
  },
  {
   "cell_type": "code",
   "execution_count": 12,
   "id": "05e0fef0",
   "metadata": {},
   "outputs": [],
   "source": [
    "# Construct a water molecule\n",
    "water = Molecule.from_smiles(\"O\")\n",
    "water.generate_conformers(n_conformers=1)\n",
    "\n",
    "# Come up with a box size based on the size of the protein plus a 2 nm buffer\n",
    "xyz = protein.conformers[0]\n",
    "centroid = xyz.sum(axis=0) / xyz.shape[0]\n",
    "protein_radius = np.sqrt(((xyz - centroid) ** 2).sum(axis=-1).max())\n",
    "box_size = np.ones(3) * protein_radius * 2 + 2 * unit.nanometer\n",
    "\n",
    "# pack_box needs a file to read a solute structure from\n",
    "docked_intrcg.to_pdb(\"docked.pdb\")\n",
    "\n",
    "# Pack the box with water\n",
    "n_water = 1000\n",
    "packed_trj, _ = pack_box(\n",
    "    molecules=[water],\n",
    "    number_of_copies=[n_water],\n",
    "    structure_to_solvate=\"docked.pdb\",\n",
    "    box_size=box_size,\n",
    ")\n",
    "\n",
    "# Get the values we need out of the trajectory object\n",
    "xyz = packed_trj.xyz[0] * unit.nanometer\n",
    "box = packed_trj.unitcell_vectors[0] * unit.nanometer"
   ]
  },
  {
   "cell_type": "markdown",
   "id": "d68c7bd0",
   "metadata": {},
   "source": [
    "And now we can create the interchange! The `xyz` array from `pack_box` includes the positions of the solute, so we'll apply it to the combined interchange in a bit."
   ]
  },
  {
   "cell_type": "code",
   "execution_count": 13,
   "id": "05d70f0b",
   "metadata": {},
   "outputs": [],
   "source": [
    "water_intrcg = Interchange.from_smirnoff(\n",
    "    force_field=ForceField(\"openff_unconstrained-2.0.0.offxml\"),\n",
    "    topology=[water] * n_water,\n",
    ")"
   ]
  },
  {
   "cell_type": "markdown",
   "id": "183bba04",
   "metadata": {},
   "source": [
    "## Putting the system together"
   ]
  },
  {
   "cell_type": "markdown",
   "id": "f156f50c",
   "metadata": {},
   "source": [
    "Now that we've got all the pieces, we can combine the docked protein-ligand system with the solvent, and add in the positions and box vectors we just worked out\n",
    "\n",
    "<div class=\"alert alert-danger\" style=\"max-width: 700px; margin-left: auto; margin-right: auto;\">\n",
    "    <b>🚧 This code is not production-ready</b><br />\n",
    "    The <code>+</code> operator is unstable and under-tested and may break unexpectedly or be removed altogether.\n",
    "</div>"
   ]
  },
  {
   "cell_type": "code",
   "execution_count": 14,
   "id": "291164b4",
   "metadata": {},
   "outputs": [
    {
     "name": "stderr",
     "output_type": "stream",
     "text": [
      "/home/joshmitchell/Documents/openff/interchange/openff/interchange/components/interchange.py:707: UserWarning: Interchange object combination is experimental and likely to produce strange results. Any workflow using this method is not guaranteed to be suitable for production. Use with extreme caution and thoroughly validate results!\n",
      "  warnings.warn(\n",
      "/home/joshmitchell/Documents/openff/interchange/openff/interchange/components/interchange.py:738: UserWarning: 'other' Interchange object has handler with name Constraints not found in 'self,' but it has now been added.\n",
      "  warnings.warn(\n"
     ]
    }
   ],
   "source": [
    "system_intrcg = docked_intrcg + water_intrcg\n",
    "system_intrcg.positions = xyz\n",
    "system_intrcg.box = box"
   ]
  },
  {
   "cell_type": "code",
   "execution_count": 15,
   "id": "cd8be245",
   "metadata": {},
   "outputs": [
    {
     "data": {
      "application/vnd.jupyter.widget-view+json": {
       "model_id": "e9ff311470a74ceeb51c6e47178479ab",
       "version_major": 2,
       "version_minor": 0
      },
      "text/plain": [
       "NGLWidget()"
      ]
     },
     "metadata": {},
     "output_type": "display_data"
    }
   ],
   "source": [
    "w = system_intrcg.visualize()\n",
    "w.clear_representations()\n",
    "# Protein rep\n",
    "w.add_representation(\n",
    "    \"licorice\",\n",
    "    radius=0.2,\n",
    "    selection=[*range(protein_intrcg.topology.n_atoms)],\n",
    ")\n",
    "# Ligand rep\n",
    "w.add_representation(\n",
    "    \"spacefill\",\n",
    "    selection=[*range(protein_intrcg.topology.n_atoms, docked_intrcg.topology.n_atoms)],\n",
    ")\n",
    "# Water rep\n",
    "w.add_representation(\n",
    "    \"licorice\",\n",
    "    radius=0.1,\n",
    "    selection=[*range(docked_intrcg.topology.n_atoms, system_intrcg.topology.n_atoms)],\n",
    ")\n",
    "w"
   ]
  },
  {
   "cell_type": "markdown",
   "id": "e0e96bb2",
   "metadata": {},
   "source": [
    "## Exporting to simulation engines"
   ]
  },
  {
   "cell_type": "markdown",
   "id": "9a15e4ee",
   "metadata": {},
   "source": [
    "Finally, we can export the final Interchange object to models understood by various simulation engines. Some of these exports are not yet optimized for large files."
   ]
  },
  {
   "cell_type": "markdown",
   "id": "bd1a116d",
   "metadata": {},
   "source": [
    "### OpenMM"
   ]
  },
  {
   "cell_type": "code",
   "execution_count": 16,
   "id": "9911ef48",
   "metadata": {},
   "outputs": [
    {
     "name": "stdout",
     "output_type": "stream",
     "text": [
      "<class 'openmm.openmm.System'> <class 'openmm.app.topology.Topology'>\n"
     ]
    }
   ],
   "source": [
    "openmm_system = system_intrcg.to_openmm()\n",
    "openmm_topology = system_intrcg.topology.to_openmm(ensure_unique_atom_names=False)\n",
    "print(type(openmm_system), type(openmm_topology))"
   ]
  },
  {
   "cell_type": "markdown",
   "id": "a061187e",
   "metadata": {},
   "source": [
    "### Amber"
   ]
  },
  {
   "cell_type": "code",
   "execution_count": 17,
   "id": "f0c1133a",
   "metadata": {},
   "outputs": [],
   "source": [
    "system_intrcg.to_inpcrd(\"out.inpcrd\")\n",
    "system_intrcg.to_prmtop(\"out.prmtop\")"
   ]
  },
  {
   "cell_type": "markdown",
   "id": "adf0d0de",
   "metadata": {},
   "source": [
    "### LAMMPS"
   ]
  },
  {
   "cell_type": "code",
   "execution_count": 18,
   "id": "b62156a4",
   "metadata": {},
   "outputs": [],
   "source": [
    "system_intrcg.to_lammps(\"out.lmp\")"
   ]
  },
  {
   "cell_type": "markdown",
   "id": "9374b62c",
   "metadata": {},
   "source": [
    "### GROMACS\n",
    "\n",
    "Interchange's GROMACS support is still a work in progress and is currently too slow to be used for systems of thousands of atoms."
   ]
  },
  {
   "cell_type": "code",
   "execution_count": 19,
   "id": "12c1422e",
   "metadata": {},
   "outputs": [],
   "source": [
    "# These exports in particular are unfortunately too slow\n",
    "# to use for large systems at the moment\n",
    "if False:\n",
    "    system_intrcg.to_gro(\"out.gro\")\n",
    "    system_intrcg.to_top(\"out.top\")"
   ]
  },
  {
   "cell_type": "markdown",
   "id": "207b8b9b",
   "metadata": {},
   "source": [
    "## Energy tests\n",
    "\n",
    "In order to verify the accuracy of each export, we can use functions in the `drivers` module to call out to each engine to evaluate single-point energies. Under the hood, each function uses the export functions just as we did in the above cells. "
   ]
  },
  {
   "cell_type": "code",
   "execution_count": 20,
   "id": "9f9418a2",
   "metadata": {},
   "outputs": [
    {
     "name": "stdout",
     "output_type": "stream",
     "text": [
      "OpenMM Energies:\n",
      "\n",
      "Bond:          \t\t11279.40234375 kJ / mol\n",
      "Angle:         \t\t5387.908203125 kJ / mol\n",
      "Torsion:       \t\t7661.501953125 kJ / mol\n",
      "Nonbonded:     \t\tNone\n",
      "vdW:           \t\t5088245.527264201 kJ / mol\n",
      "Electrostatics:\t\t-20982.011039364792 kJ / mol\n",
      "\n",
      "Amber Energies:\n",
      "\n",
      "Bond:          \t\t2695.8446 kcalories_per_mole\n",
      "Angle:         \t\t1287.7413 kcalories_per_mole\n",
      "Torsion:       \t\t1831.1427 kcalories_per_mole\n",
      "Nonbonded:     \t\tNone\n",
      "vdW:           \t\t5088116.366795201 kjoule_per_mole\n",
      "Electrostatics:\t\t-71289.8383752 kjoule_per_mole\n",
      "\n",
      "LAMMPSEnergies:\n",
      "\n",
      "Bond:          \t\t2695.8439 kcalorie_per_mole\n",
      "Angle:         \t\t1287.7414 kcalorie_per_mole\n",
      "Torsion:       \t\t1846.4021460000001 kcalorie_per_mole\n",
      "Nonbonded:     \t\tNone\n",
      "vdW:           \t\t1216063.958291 kcalorie_per_mole\n",
      "Electrostatics:\t\t-5014.945999999996 kcalorie_per_mole\n",
      "\n"
     ]
    }
   ],
   "source": [
    "print(\"OpenMM \" + str(get_openmm_energies(system_intrcg)))\n",
    "print(\"Amber \" + str(get_amber_energies(system_intrcg)))\n",
    "print(\"LAMMPS\" + str(get_lammps_energies(system_intrcg)))"
   ]
  },
  {
   "cell_type": "markdown",
   "id": "9399a6a7",
   "metadata": {},
   "source": [
    "Since some of the export functions are not yet performant for systems of this size, here we only evaluate the OpenMM, Amber, and LAMMPS interfaces. Efficient support for GROMACS is coming!\n",
    "\n",
    "In the future, the function `get_summary_data` will support this sort of testing automatically. As a sneak peek, below is the result of calling that function on an `Interchange` that contains only the ligand. The data are presented as a Pandas DataFrame, which includes convenient methods for summary statistics."
   ]
  },
  {
   "cell_type": "code",
   "execution_count": 21,
   "id": "260f0d85",
   "metadata": {},
   "outputs": [
    {
     "name": "stderr",
     "output_type": "stream",
     "text": [
      "WARNING:absl:No GPU/TPU found, falling back to CPU. (Set TF_CPP_MIN_LOG_LEVEL=0 and rerun for more info.)\n"
     ]
    },
    {
     "data": {
      "text/html": [
       "<div>\n",
       "<style scoped>\n",
       "    .dataframe tbody tr th:only-of-type {\n",
       "        vertical-align: middle;\n",
       "    }\n",
       "\n",
       "    .dataframe tbody tr th {\n",
       "        vertical-align: top;\n",
       "    }\n",
       "\n",
       "    .dataframe thead th {\n",
       "        text-align: right;\n",
       "    }\n",
       "</style>\n",
       "<table border=\"1\" class=\"dataframe\">\n",
       "  <thead>\n",
       "    <tr style=\"text-align: right;\">\n",
       "      <th></th>\n",
       "      <th>Bond</th>\n",
       "      <th>Angle</th>\n",
       "      <th>Torsion</th>\n",
       "      <th>vdW</th>\n",
       "      <th>Electrostatics</th>\n",
       "    </tr>\n",
       "  </thead>\n",
       "  <tbody>\n",
       "    <tr>\n",
       "      <th>OpenMM</th>\n",
       "      <td>25.838379</td>\n",
       "      <td>356.516235</td>\n",
       "      <td>27.319796</td>\n",
       "      <td>105.025412</td>\n",
       "      <td>13.245302</td>\n",
       "    </tr>\n",
       "    <tr>\n",
       "      <th>Amber</th>\n",
       "      <td>25.837874</td>\n",
       "      <td>356.516548</td>\n",
       "      <td>27.319846</td>\n",
       "      <td>104.966937</td>\n",
       "      <td>13.176671</td>\n",
       "    </tr>\n",
       "    <tr>\n",
       "      <th>LAMMPS</th>\n",
       "      <td>25.838186</td>\n",
       "      <td>356.516318</td>\n",
       "      <td>27.330620</td>\n",
       "      <td>104.948819</td>\n",
       "      <td>13.211273</td>\n",
       "    </tr>\n",
       "  </tbody>\n",
       "</table>\n",
       "</div>"
      ],
      "text/plain": [
       "             Bond       Angle    Torsion         vdW  Electrostatics\n",
       "OpenMM  25.838379  356.516235  27.319796  105.025412       13.245302\n",
       "Amber   25.837874  356.516548  27.319846  104.966937       13.176671\n",
       "LAMMPS  25.838186  356.516318  27.330620  104.948819       13.211273"
      ]
     },
     "execution_count": 21,
     "metadata": {},
     "output_type": "execute_result"
    }
   ],
   "source": [
    "ligand_intrcg.box = box\n",
    "summary = get_summary_data(ligand_intrcg)\n",
    "summary"
   ]
  },
  {
   "cell_type": "code",
   "execution_count": 22,
   "id": "69f567d2",
   "metadata": {},
   "outputs": [
    {
     "data": {
      "text/html": [
       "<div>\n",
       "<style scoped>\n",
       "    .dataframe tbody tr th:only-of-type {\n",
       "        vertical-align: middle;\n",
       "    }\n",
       "\n",
       "    .dataframe tbody tr th {\n",
       "        vertical-align: top;\n",
       "    }\n",
       "\n",
       "    .dataframe thead th {\n",
       "        text-align: right;\n",
       "    }\n",
       "</style>\n",
       "<table border=\"1\" class=\"dataframe\">\n",
       "  <thead>\n",
       "    <tr style=\"text-align: right;\">\n",
       "      <th></th>\n",
       "      <th>Bond</th>\n",
       "      <th>Angle</th>\n",
       "      <th>Torsion</th>\n",
       "      <th>vdW</th>\n",
       "      <th>Electrostatics</th>\n",
       "    </tr>\n",
       "  </thead>\n",
       "  <tbody>\n",
       "    <tr>\n",
       "      <th>count</th>\n",
       "      <td>3.000000</td>\n",
       "      <td>3.000000</td>\n",
       "      <td>3.000000</td>\n",
       "      <td>3.000000</td>\n",
       "      <td>3.000000</td>\n",
       "    </tr>\n",
       "    <tr>\n",
       "      <th>mean</th>\n",
       "      <td>25.838146</td>\n",
       "      <td>356.516367</td>\n",
       "      <td>27.323421</td>\n",
       "      <td>104.980389</td>\n",
       "      <td>13.211082</td>\n",
       "    </tr>\n",
       "    <tr>\n",
       "      <th>std</th>\n",
       "      <td>0.000255</td>\n",
       "      <td>0.000162</td>\n",
       "      <td>0.006235</td>\n",
       "      <td>0.040029</td>\n",
       "      <td>0.034316</td>\n",
       "    </tr>\n",
       "    <tr>\n",
       "      <th>min</th>\n",
       "      <td>25.837874</td>\n",
       "      <td>356.516235</td>\n",
       "      <td>27.319796</td>\n",
       "      <td>104.948819</td>\n",
       "      <td>13.176671</td>\n",
       "    </tr>\n",
       "    <tr>\n",
       "      <th>25%</th>\n",
       "      <td>25.838030</td>\n",
       "      <td>356.516277</td>\n",
       "      <td>27.319821</td>\n",
       "      <td>104.957878</td>\n",
       "      <td>13.193972</td>\n",
       "    </tr>\n",
       "    <tr>\n",
       "      <th>50%</th>\n",
       "      <td>25.838186</td>\n",
       "      <td>356.516318</td>\n",
       "      <td>27.319846</td>\n",
       "      <td>104.966937</td>\n",
       "      <td>13.211273</td>\n",
       "    </tr>\n",
       "    <tr>\n",
       "      <th>75%</th>\n",
       "      <td>25.838282</td>\n",
       "      <td>356.516433</td>\n",
       "      <td>27.325233</td>\n",
       "      <td>104.996174</td>\n",
       "      <td>13.228288</td>\n",
       "    </tr>\n",
       "    <tr>\n",
       "      <th>max</th>\n",
       "      <td>25.838379</td>\n",
       "      <td>356.516548</td>\n",
       "      <td>27.330620</td>\n",
       "      <td>105.025412</td>\n",
       "      <td>13.245302</td>\n",
       "    </tr>\n",
       "  </tbody>\n",
       "</table>\n",
       "</div>"
      ],
      "text/plain": [
       "            Bond       Angle    Torsion         vdW  Electrostatics\n",
       "count   3.000000    3.000000   3.000000    3.000000        3.000000\n",
       "mean   25.838146  356.516367  27.323421  104.980389       13.211082\n",
       "std     0.000255    0.000162   0.006235    0.040029        0.034316\n",
       "min    25.837874  356.516235  27.319796  104.948819       13.176671\n",
       "25%    25.838030  356.516277  27.319821  104.957878       13.193972\n",
       "50%    25.838186  356.516318  27.319846  104.966937       13.211273\n",
       "75%    25.838282  356.516433  27.325233  104.996174       13.228288\n",
       "max    25.838379  356.516548  27.330620  105.025412       13.245302"
      ]
     },
     "execution_count": 22,
     "metadata": {},
     "output_type": "execute_result"
    }
   ],
   "source": [
    "summary.describe()"
   ]
  }
 ],
 "metadata": {
  "kernelspec": {
   "display_name": "Python 3 (ipykernel)",
   "language": "python",
   "name": "python3"
  },
  "language_info": {
   "codemirror_mode": {
    "name": "ipython",
    "version": 3
   },
   "file_extension": ".py",
   "mimetype": "text/x-python",
   "name": "python",
   "nbconvert_exporter": "python",
   "pygments_lexer": "ipython3",
   "version": "3.9.12"
  }
 },
 "nbformat": 4,
 "nbformat_minor": 5
}
