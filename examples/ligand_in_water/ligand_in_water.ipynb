{
 "cells": [
  {
   "cell_type": "markdown",
   "id": "d051f4a7-9a72-418b-b068-8d2e330a8db6",
   "metadata": {},
   "source": [
    "# Solvating and equilibrating a ligand in a box of water\n",
    "\n",
    "<details>\n",
    "    <summary><small>▼ Click here for dependency installation instructions</small></summary>\n",
    "    The simplest way to install dependencies is to use the Interchange examples environment. From the root of the cloned openff-interchange repository:\n",
    "    \n",
    "    conda env create --name interchange-examples --file devtools/conda-envs/examples_env.yaml \n",
    "    conda activate interchange-examples\n",
    "    pip install -e .\n",
    "    cd examples\n",
    "    jupyter notebook ligand_in_water.ipynb\n",
    "    \n",
    "</details>"
   ]
  },
  {
   "cell_type": "code",
   "execution_count": null,
   "id": "4e9252d0-7e15-4289-b077-6f96d2b686f7",
   "metadata": {},
   "outputs": [],
   "source": [
    "import time\n",
    "\n",
    "import openmm\n",
    "import openmm.app\n",
    "from openff.evaluator.protocols import coordinates\n",
    "from openff.evaluator.utils import packmol\n",
    "from openff.toolkit import ForceField, Molecule, Topology\n",
    "from openff.units import unit\n",
    "\n",
    "from openff.interchange import Interchange"
   ]
  },
  {
   "cell_type": "markdown",
   "id": "da0842e7-2b1e-4339-b39e-621a156f0d6f",
   "metadata": {},
   "source": [
    "## Construct the topology\n",
    "\n",
    "In this example we'll construct a topology consisting of one ligand in a box of 1,000 water molecules. OpenFF Evaluator has a [PACKMOL](http://leandro.iqm.unicamp.br/m3g/packmol/home.shtml) wrapper that we will use to generate a reasonable initial configuration. It uses MDTraj's [`Trajectory`](https://www.mdtraj.org/1.9.7/load_functions.html#trajectory-reference) object to store this information; later on we'll move everything to objects provided by the OpenFF Toolkit."
   ]
  },
  {
   "cell_type": "code",
   "execution_count": null,
   "id": "a0e6136c-c0ca-44e5-bdbe-b19e5f6d549a",
   "metadata": {},
   "outputs": [],
   "source": [
    "ligand = Molecule.from_smiles(\"OC[C@H](O)[C@H]1OC(=O)C(O)=C1O\")\n",
    "ligand.name = \"\"\n",
    "water = Molecule.from_smiles(\"O\")\n",
    "water.name = \"\"\n",
    "\n",
    "molecules = [ligand, water]\n",
    "n_molecules = [1, 1000]\n",
    "trajectory, _ = packmol.pack_box(\n",
    "    molecules=molecules,\n",
    "    number_of_copies=n_molecules,\n",
    "    mass_density=0.95 * unit.grams / unit.milliliters,\n",
    ")"
   ]
  },
  {
   "cell_type": "markdown",
   "id": "f97cda9e-b0a9-4788-b3c7-13d8b54c4aac",
   "metadata": {},
   "source": [
    "There are a few ways to convert the information in this trajectory to an Openff [`Topology`](https://docs.openforcefield.org/projects/toolkit/en/stable/api/generated/openff.toolkit.topology.Topology.html#openff.toolkit.topology.Topology) object. In this case, since we already know how many of which molecules we want, we'll use [`Topology.from_molecules`](https://docs.openforcefield.org/projects/toolkit/en/stable/api/generated/openff.toolkit.topology.Topology.html#openff.toolkit.topology.Topology.from_molecules), which takes a list of `Molecule` objects and assembles them into a `Topology`."
   ]
  },
  {
   "cell_type": "code",
   "execution_count": null,
   "id": "1ecfae59-501e-41fd-b366-88a6975ac066",
   "metadata": {},
   "outputs": [],
   "source": [
    "topology = Topology.from_molecules([ligand, *1000 * [water]])"
   ]
  },
  {
   "cell_type": "markdown",
   "id": "47e4ae9e-829a-4a4e-8ac1-93e698598fbd",
   "metadata": {},
   "source": [
    "Next we'll assign the topology's box vectors using the same information on the MDTraj object:"
   ]
  },
  {
   "cell_type": "code",
   "execution_count": null,
   "id": "0e6be87f-48e7-4023-bd46-fd09659c8559",
   "metadata": {},
   "outputs": [],
   "source": [
    "trajectory.unitcell_vectors * unit.nanometer\n",
    "vectors = [\n",
    "    trajectory.unitcell_vectors[0][0],\n",
    "    trajectory.unitcell_vectors[0][1],\n",
    "    trajectory.unitcell_vectors[0][2],\n",
    "] * unit.nanometer\n",
    "topology.box_vectors = vectors"
   ]
  },
  {
   "cell_type": "markdown",
   "id": "64b7ea41-b4c9-4ae0-95dd-416a7fb0299f",
   "metadata": {},
   "source": [
    "The [\"Sage\"](https://openforcefield.org/community/news/general/sage2.0.0-release/) force field line (version 2.x.x) includes TIP3P  parameters for water, so we don't need to use multiple force fields to parametrize this topology.\n",
    "\n",
    "Note that the \"Parsley\" (version 1.x.x) line did *not* include TIP3P parameters, so loading in an extra force field was required."
   ]
  },
  {
   "cell_type": "code",
   "execution_count": null,
   "id": "9687547b-d6d0-4c38-b963-cca91b3127f7",
   "metadata": {},
   "outputs": [],
   "source": [
    "sage = ForceField(\"openff-2.0.0.offxml\")"
   ]
  },
  {
   "cell_type": "markdown",
   "id": "da7781fc-1adb-4ba9-af97-7c64649f36ef",
   "metadata": {},
   "source": [
    "From here, we can create an ``Interchange`` object and promptly export it to an [``openmm.System``](http://docs.openmm.org/latest/api-python/generated/openmm.openmm.System.html#openmm.openmm.System):"
   ]
  },
  {
   "cell_type": "code",
   "execution_count": null,
   "id": "54b39faf-eae9-4550-92bc-68794432ec59",
   "metadata": {},
   "outputs": [],
   "source": [
    "if False:\n",
    "    interchange = Interchange.from_smirnoff(force_field=sage, topology=topology)\n",
    "    system = interchange.to_openmm(combine_nonbonded_forces=True)\n",
    "else:\n",
    "    system = sage.create_openmm_system(topology)"
   ]
  },
  {
   "cell_type": "markdown",
   "id": "a8548886-a0e5-408a-be1d-5ca13577246a",
   "metadata": {},
   "source": [
    "Now, we can prepare everything else that OpenMM needs to run and report a brief equilibration simulation:\n",
    "* A barostat, since we want to use NPT dynamics to relax the box size toward equilibrium\n",
    "* An integrator\n",
    "* A [`Simulation`](http://docs.openmm.org/latest/api-python/generated/openmm.app.simulation.Simulation.html#openmm.app.simulation.Simulation) object, putting it together\n",
    "* Reporters for the trajectory and simulation data"
   ]
  },
  {
   "cell_type": "code",
   "execution_count": null,
   "id": "b1e2da36-c11f-414f-a658-3b675d48d9c2",
   "metadata": {},
   "outputs": [],
   "source": [
    "barostat = openmm.MonteCarloBarostat(\n",
    "    1.00 * openmm.unit.bar, 293.15 * openmm.unit.kelvin, 25\n",
    ")\n",
    "system.addForce(barostat)\n",
    "\n",
    "integrator = openmm.LangevinIntegrator(\n",
    "    300 * openmm.unit.kelvin, 1 / openmm.unit.picosecond, 2 * openmm.unit.femtoseconds\n",
    ")\n",
    "\n",
    "simulation = openmm.app.Simulation(openmm_topology, system, integrator)\n",
    "simulation.context.setPositions(trajectory.openmm_positions(0))\n",
    "simulation.context.setVelocitiesToTemperature(300 * openmm.unit.kelvin)\n",
    "\n",
    "pdb_reporter = openmm.app.PDBReporter(\"trajectory.pdb\", 50)\n",
    "state_data_reporter = openmm.app.StateDataReporter(\n",
    "    \"data.csv\", 10, step=True, potentialEnergy=True, temperature=True, density=True\n",
    ")\n",
    "simulation.reporters.append(pdb_reporter)\n",
    "simulation.reporters.append(state_data_reporter)"
   ]
  },
  {
   "cell_type": "markdown",
   "id": "ad40a034-ccee-4417-a42c-01b167714b0d",
   "metadata": {},
   "source": [
    "Finally, we can run this simulation. This should take approximately 10-20 seconds on a laptop or small workstation."
   ]
  },
  {
   "cell_type": "code",
   "execution_count": null,
   "id": "6a635279-9f18-47cf-a5d5-8386d0edbd3a",
   "metadata": {},
   "outputs": [],
   "source": [
    "print(\"Starting simulation\")\n",
    "start_time = time.process_time()\n",
    "\n",
    "for i in range(5000):\n",
    "    simulation.step(1)\n",
    "    if i % 200 == 0:\n",
    "        print(simulation.context.getState().getPeriodicBoxVectors())\n",
    "\n",
    "end_time = time.process_time()\n",
    "print(f\"Elapsed time: {(end_time - start_time):.2f} seconds\")"
   ]
  },
  {
   "cell_type": "markdown",
   "id": "e43fa4bf",
   "metadata": {},
   "source": [
    "## Appendix: visualizing the trajectory\n",
    "\n",
    "If [NGLView](http://nglviewer.org/nglview/latest/) is installed, we can use it and MDTraj to load and visualize the PDB trajectory:"
   ]
  },
  {
   "cell_type": "code",
   "execution_count": null,
   "id": "aff32c3b",
   "metadata": {},
   "outputs": [],
   "source": [
    "import mdtraj\n",
    "import nglview"
   ]
  },
  {
   "cell_type": "code",
   "execution_count": null,
   "id": "08b2a692",
   "metadata": {},
   "outputs": [],
   "source": [
    "view = nglview.show_mdtraj(mdtraj.load(\"trajectory.pdb\"))\n",
    "view.add_ball_and_stick(\"water\")\n",
    "view"
   ]
  }
 ],
 "metadata": {
  "kernelspec": {
   "display_name": "Python 3 (ipykernel)",
   "language": "python",
   "name": "python3"
  },
  "language_info": {
   "codemirror_mode": {
    "name": "ipython",
    "version": 3
   },
   "file_extension": ".py",
   "mimetype": "text/x-python",
   "name": "python",
   "nbconvert_exporter": "python",
   "pygments_lexer": "ipython3",
   "version": "3.9.12"
  }
 },
 "nbformat": 4,
 "nbformat_minor": 5
}
