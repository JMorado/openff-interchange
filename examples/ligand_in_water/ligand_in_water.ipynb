{
 "cells": [
  {
   "cell_type": "markdown",
   "id": "d051f4a7-9a72-418b-b068-8d2e330a8db6",
   "metadata": {},
   "source": [
    "# Solvating and equilibrating a ligand in a box of water\n",
    "\n",
    "<details>\n",
    "    <summary><small>▼ Click here for dependency installation instructions</small></summary>\n",
    "    The simplest way to install dependencies is to use the Interchange examples environment. From the root of the cloned openff-interchange repository:\n",
    "    \n",
    "    conda env create --name interchange-examples --file devtools/conda-envs/examples_env.yaml \n",
    "    conda activate interchange-examples\n",
    "    pip install -e .\n",
    "    cd examples\n",
    "    jupyter notebook ligand_in_water.ipynb\n",
    "    \n",
    "</details>"
   ]
  },
  {
   "cell_type": "code",
   "execution_count": null,
   "id": "4e9252d0-7e15-4289-b077-6f96d2b686f7",
   "metadata": {},
   "outputs": [],
   "source": [
    "import time\n",
    "\n",
    "import mdtraj\n",
    "import openmm\n",
    "import openmm.app\n",
    "from openff.toolkit import ForceField, Molecule, Topology\n",
    "from openff.units import unit\n",
    "from openff.units.openmm import to_openmm\n",
    "\n",
    "from openff.interchange import Interchange"
   ]
  },
  {
   "cell_type": "raw",
   "id": "ac450f2f-0381-4f1d-a21c-c209525ef080",
   "metadata": {},
   "source": [
    "## Construct the topology\n",
    "\n",
    "In this example we'll construct a topology consisting of one ligand in a cubic box of length 4 nanometers. For simplicity, we will use a prepared PDB file  (`solvated.pdb`) with the same number of waters, molecule and atom ordering, etc. We'll also use _mapped_ SMILES when creating `Molecule` objects to ensure the atom ordering matches. (Atom ordering is not strictly a part of SMILES and therefore liable to be changed with updates to RDKit.)\n",
    "\n",
    "This can be extended or modified by i.e.\n",
    "* Replacing this sample ligand with a different ligand of interest - substitute out the ligand SMILES\n",
    "* Using a different number of water molecules - substitute out the `2100` used below\n",
    "* Adding ions or co-solvents into the box - add more `Molecule` object as desired\n",
    "\n",
    "For each of these modifications, a new PDB file would need to be generated."
   ]
  },
  {
   "cell_type": "code",
   "execution_count": null,
   "id": "a0e6136c-c0ca-44e5-bdbe-b19e5f6d549a",
   "metadata": {},
   "outputs": [],
   "source": [
    "ligand = Molecule.from_mapped_smiles(\n",
    "    \"[H:7][C@:6]1([C:13](=[C:11]([C:9](=[O:10])[O:8]1)[O:12][H:19])[O:14][H:20])[C@:3]([H:4])([C:2]([H:16])([H:17])[O:1][H:15])[O:5][H:18]\"\n",
    ")\n",
    "water = Molecule.from_mapped_smiles(\"[H:2][O:1][H:3]\")"
   ]
  },
  {
   "cell_type": "markdown",
   "id": "f97cda9e-b0a9-4788-b3c7-13d8b54c4aac",
   "metadata": {},
   "source": [
    "There are a few ways to convert the information in this trajectory to an Openff [`Topology`](https://docs.openforcefield.org/projects/toolkit/en/stable/api/generated/openff.toolkit.topology.Topology.html#openff.toolkit.topology.Topology) object. In this case, since we already know how many of which molecules we want, we'll use [`Topology.from_molecules`](https://docs.openforcefield.org/projects/toolkit/en/stable/api/generated/openff.toolkit.topology.Topology.html#openff.toolkit.topology.Topology.from_molecules), which takes a list of `Molecule` objects and assembles them into a `Topology`."
   ]
  },
  {
   "cell_type": "code",
   "execution_count": null,
   "id": "572d1c2e-22ef-459e-a1bc-dacc56e293d3",
   "metadata": {},
   "outputs": [],
   "source": [
    "topology = Topology.from_molecules([ligand, *2100 * [water]])"
   ]
  },
  {
   "cell_type": "markdown",
   "id": "97cc87e8-ddd5-45f4-b08a-c7afac2afaf4",
   "metadata": {},
   "source": [
    "We'll also set the box vectors to match the prepared PDB file."
   ]
  },
  {
   "cell_type": "code",
   "execution_count": null,
   "id": "b05d5a5e-62e5-4fa0-9d67-19bf1b0a601c",
   "metadata": {},
   "outputs": [],
   "source": [
    "topology.box_vectors = unit.Quantity(\n",
    "    mdtraj.load(\"solvated.pdb\").unitcell_lengths[0],\n",
    "    unit.nanometer,\n",
    ")"
   ]
  },
  {
   "cell_type": "markdown",
   "id": "4a0488fe-7ae0-450b-8fa8-c693a25ce383",
   "metadata": {},
   "source": [
    "And finally, set the positions of each molecule according to the data in the MDTraj object:"
   ]
  },
  {
   "cell_type": "markdown",
   "id": "64b7ea41-b4c9-4ae0-95dd-416a7fb0299f",
   "metadata": {},
   "source": [
    "The [\"Sage\"](https://openforcefield.org/community/news/general/sage2.0.0-release/) force field line (version 2.x.x) includes TIP3P  parameters for water, so we don't need to use multiple force fields to parametrize this topology as long as we're okay using TIP3P.\n",
    "\n",
    "Note that the \"Parsley\" (version 1.x.x) line did *not* include TIP3P parameters, so loading in an extra force field was required."
   ]
  },
  {
   "cell_type": "code",
   "execution_count": null,
   "id": "9687547b-d6d0-4c38-b963-cca91b3127f7",
   "metadata": {},
   "outputs": [],
   "source": [
    "sage = ForceField(\"openff-2.0.0.offxml\")"
   ]
  },
  {
   "cell_type": "markdown",
   "id": "da7781fc-1adb-4ba9-af97-7c64649f36ef",
   "metadata": {},
   "source": [
    "From here, we can create an ``Interchange`` object and promptly export it to an [``openmm.System``](http://docs.openmm.org/latest/api-python/generated/openmm.openmm.System.html#openmm.openmm.System):"
   ]
  },
  {
   "cell_type": "code",
   "execution_count": null,
   "id": "b342e58c-074c-49f6-ae42-92a0195d93d9",
   "metadata": {},
   "outputs": [],
   "source": [
    "interchange = Interchange.from_smirnoff(force_field=sage, topology=topology)\n",
    "system = interchange.to_openmm(combine_nonbonded_forces=True)"
   ]
  },
  {
   "cell_type": "markdown",
   "id": "455592d5-728d-457b-afcf-74579de5e45e",
   "metadata": {},
   "source": [
    "Note that these two steps (creating an `Interchange` object and exporting it to an [``openmm.System``](http://docs.openmm.org/latest/api-python/generated/openmm.openmm.System.html#openmm.openmm.System)) can equivalently be done in one step via [``ForceField.create_openmm_system``](https://docs.openforcefield.org/projects/toolkit/en/stable/api/generated/openff.toolkit.typing.engines.smirnoff.forcefield.ForceField.html#openff.toolkit.typing.engines.smirnoff.forcefield.ForceField.create_openmm_system)."
   ]
  },
  {
   "cell_type": "code",
   "execution_count": null,
   "id": "54b39faf-eae9-4550-92bc-68794432ec59",
   "metadata": {},
   "outputs": [],
   "source": [
    "interchange: Interchange = Interchange.from_smirnoff(\n",
    "    force_field=sage, topology=topology\n",
    ")\n",
    "system: openmm.System = interchange.to_openmm(combine_nonbonded_forces=True)"
   ]
  },
  {
   "cell_type": "markdown",
   "id": "b2fc39b8-10f1-4fc2-a53b-b157ebb62270",
   "metadata": {},
   "source": [
    "Note that these two lines do essentially the same thing as calling `sage.create_openmm_system(topology)`, which can be used to the same result if only interested in using OpenMM. Here we explicitly store the intermediate `Interchange` object for later steps."
   ]
  },
  {
   "cell_type": "markdown",
   "id": "01cb5913-fe83-4003-aeeb-7fa22c2e9bf1",
   "metadata": {},
   "source": [
    "Finally, we need to set the positions according to the PDB file. There are plenty of ways to extract positions from a PDB file, here we'll use MDTraj."
   ]
  },
  {
   "cell_type": "code",
   "execution_count": null,
   "id": "3afcd20e-2104-4d45-950c-596ad6c16837",
   "metadata": {},
   "outputs": [],
   "source": [
    "interchange.positions = unit.Quantity(\n",
    "    mdtraj.load(\"solvated.pdb\").xyz[0],\n",
    "    unit.nanometer,\n",
    ")"
   ]
  },
  {
   "cell_type": "markdown",
   "id": "a8548886-a0e5-408a-be1d-5ca13577246a",
   "metadata": {},
   "source": [
    "Now, we can prepare everything else that OpenMM needs to run and report a brief equilibration simulation:\n",
    "* A barostat, since we want to use NPT dynamics to relax the box size toward equilibrium\n",
    "* An integrator\n",
    "* A [`Simulation`](http://docs.openmm.org/latest/api-python/generated/openmm.app.simulation.Simulation.html#openmm.app.simulation.Simulation) object, putting it together\n",
    "* Reporters for the trajectory and simulation data"
   ]
  },
  {
   "cell_type": "code",
   "execution_count": null,
   "id": "b1e2da36-c11f-414f-a658-3b675d48d9c2",
   "metadata": {},
   "outputs": [],
   "source": [
    "barostat = openmm.MonteCarloBarostat(\n",
    "    1.00 * openmm.unit.bar, 293.15 * openmm.unit.kelvin, 25\n",
    ")\n",
    "system.addForce(barostat)\n",
    "\n",
    "integrator = openmm.LangevinIntegrator(\n",
    "    300 * openmm.unit.kelvin, 1 / openmm.unit.picosecond, 2 * openmm.unit.femtoseconds\n",
    ")\n",
    "\n",
    "simulation = openmm.app.Simulation(topology.to_openmm(), system, integrator)\n",
    "simulation.context.setPositions(to_openmm(interchange.positions))\n",
    "simulation.context.setVelocitiesToTemperature(300 * openmm.unit.kelvin)\n",
    "\n",
    "pdb_reporter = openmm.app.PDBReporter(\"trajectory.pdb\", 100)\n",
    "state_data_reporter = openmm.app.StateDataReporter(\n",
    "    \"data.csv\", 10, step=True, potentialEnergy=True, temperature=True, density=True\n",
    ")\n",
    "simulation.reporters.append(pdb_reporter)\n",
    "simulation.reporters.append(state_data_reporter)"
   ]
  },
  {
   "cell_type": "markdown",
   "id": "ad40a034-ccee-4417-a42c-01b167714b0d",
   "metadata": {},
   "source": [
    "Finally, we can run this simulation. This should take approximately 10-20 seconds on a laptop or small workstation."
   ]
  },
  {
   "cell_type": "code",
   "execution_count": null,
   "id": "6a635279-9f18-47cf-a5d5-8386d0edbd3a",
   "metadata": {},
   "outputs": [],
   "source": [
    "print(\"Starting simulation\")\n",
    "start_time = time.process_time()\n",
    "\n",
    "print(\"Step, box lengths (nm)\")\n",
    "\n",
    "for step in range(5000):\n",
    "    simulation.step(1)\n",
    "    if step % 500 == 0:\n",
    "        box_vectors = simulation.context.getState().getPeriodicBoxVectors()\n",
    "        print(step, [round(box_vectors[dim][dim]._value, 3) for dim in range(3)])\n",
    "\n",
    "end_time = time.process_time()\n",
    "print(f\"Elapsed time: {(end_time - start_time):.2f} seconds\")"
   ]
  },
  {
   "cell_type": "markdown",
   "id": "e43fa4bf",
   "metadata": {},
   "source": [
    "## Appendix A: visualizing the trajectory\n",
    "\n",
    "If [NGLView](http://nglviewer.org/nglview/latest/) is installed, we can use it and MDTraj to load and visualize the PDB trajectory:"
   ]
  },
  {
   "cell_type": "code",
   "execution_count": null,
   "id": "08b2a692",
   "metadata": {},
   "outputs": [],
   "source": [
    "# NBVAL_SKIP\n",
    "try:\n",
    "    import nglviewasdfkjskdfjskfdj\n",
    "\n",
    "    view = nglview.show_mdtraj(mdtraj.load(\"trajectory.pdb\"))\n",
    "    view\n",
    "except ImportError:\n",
    "    pass"
   ]
  },
  {
   "cell_type": "markdown",
   "id": "fa382dc0-d4f1-4b99-bad5-148596ab8ae1",
   "metadata": {},
   "source": [
    "## Appendix B: Using the TIP5P water model\n",
    "\n",
    "If desired, we can use a different force field for the water, even one that uses virtual sites! To start, we'll load up Sage alongside a TIP5P file in this directory. When passed multiple force field sources, the `ForceField` class makes an effort to combine them into a single object.\n",
    "\n",
    "Note that Sage was parametrized alongside TIP3P - this example only shows how to substitute water models and does not delve into the intricacies of water model selections."
   ]
  },
  {
   "cell_type": "code",
   "execution_count": null,
   "id": "917b6e12-3b76-4986-81f1-db3990530aaa",
   "metadata": {},
   "outputs": [],
   "source": [
    "force_field = ForceField(\"openff-2.0.0.offxml\", \"tip5p.offxml\")"
   ]
  },
  {
   "cell_type": "markdown",
   "id": "ec06fa28-54fe-4b90-965f-e1bfc61c88fb",
   "metadata": {},
   "source": [
    "The `Molecule` object in the OpenFF Toolkit does not store information about virtual sites since they do not exist in chemical representations of molecules. This is convient here, since we can re-use the same `Topology` object we created before and the same atomic positions we loaded in from the PDB file."
   ]
  },
  {
   "cell_type": "code",
   "execution_count": null,
   "id": "ce6d5341-9169-4417-8841-2a5ad87198f9",
   "metadata": {},
   "outputs": [],
   "source": [
    "interchange: Interchange = Interchange.from_smirnoff(\n",
    "    force_field=force_field, topology=topology\n",
    ")\n",
    "system: openmm.System = interchange.to_openmm(combine_nonbonded_forces=True)\n",
    "\n",
    "interchange.positions = unit.Quantity(\n",
    "    mdtraj.load(\"solvated.pdb\").xyz[0],\n",
    "    unit.nanometer,\n",
    ")"
   ]
  },
  {
   "cell_type": "code",
   "execution_count": null,
   "id": "19eadf13-c187-46ed-a412-005d23cc0c43",
   "metadata": {},
   "outputs": [],
   "source": [
    "from openff.interchange.interop.openmm import to_openmm_positions\n",
    "\n",
    "barostat = openmm.MonteCarloBarostat(\n",
    "    1.00 * openmm.unit.bar, 293.15 * openmm.unit.kelvin, 25\n",
    ")\n",
    "system.addForce(barostat)\n",
    "\n",
    "integrator = openmm.LangevinIntegrator(\n",
    "    300 * openmm.unit.kelvin, 1 / openmm.unit.picosecond, 2 * openmm.unit.femtoseconds\n",
    ")\n",
    "\n",
    "simulation = openmm.app.Simulation(interchange.to_openmm_topology(), system, integrator)\n",
    "simulation.context.setPositions(to_openmm(to_openmm_positions(interchange)))\n",
    "simulation.context.setVelocitiesToTemperature(300 * openmm.unit.kelvin)\n",
    "simulation.context.computeVirtualSites()\n",
    "\n",
    "pdb_reporter = openmm.app.PDBReporter(\"trajectory.pdb\", 100)\n",
    "state_data_reporter = openmm.app.StateDataReporter(\n",
    "    \"data.csv\", 10, step=True, potentialEnergy=True, temperature=True, density=True\n",
    ")\n",
    "simulation.reporters.append(pdb_reporter)\n",
    "simulation.reporters.append(state_data_reporter)"
   ]
  },
  {
   "cell_type": "code",
   "execution_count": null,
   "id": "43f02041-453f-4d0c-887a-cd4ed183d2d3",
   "metadata": {},
   "outputs": [],
   "source": [
    "print(\"Starting simulation\")\n",
    "start_time = time.process_time()\n",
    "\n",
    "print(\"Step, box lengths (nm)\")\n",
    "\n",
    "for step in range(5000):\n",
    "    simulation.step(1)\n",
    "    if step % 1 == 0:\n",
    "        box_vectors = simulation.context.getState().getPeriodicBoxVectors()\n",
    "        print(step, [round(box_vectors[dim][dim]._value, 3) for dim in range(3)])\n",
    "\n",
    "end_time = time.process_time()\n",
    "print(f\"Elapsed time: {(end_time - start_time):.2f} seconds\")"
   ]
  },
  {
   "cell_type": "code",
   "execution_count": null,
   "id": "83a2584c-571d-4c0b-9fc1-49677379fd9f",
   "metadata": {},
   "outputs": [],
   "source": [
    "view = nglview.show_mdtraj(mdtraj.load(\"trajectory.pdb\"))\n",
    "view"
   ]
  },
  {
   "cell_type": "markdown",
   "id": "8b42bc84-cd3a-4b29-9256-271f16e10b97",
   "metadata": {},
   "source": [
    "## Appendix C: using the TIP4P water model"
   ]
  },
  {
   "cell_type": "code",
   "execution_count": null,
   "id": "8003cf10-77d8-411b-94bb-f660e8c03244",
   "metadata": {},
   "outputs": [],
   "source": [
    "from openff.interchange.tests import get_test_file_path\n",
    "\n",
    "force_field = ForceField(\"openff-2.0.0.offxml\", get_test_file_path(\"tip4p.offxml\"))"
   ]
  },
  {
   "cell_type": "code",
   "execution_count": null,
   "id": "e06e364c-80f5-4f4f-98f4-7e9a3602fd11",
   "metadata": {},
   "outputs": [],
   "source": [
    "interchange: Interchange = Interchange.from_smirnoff(\n",
    "    force_field=force_field, topology=topology\n",
    ")\n",
    "system: openmm.System = interchange.to_openmm(combine_nonbonded_forces=True)\n",
    "\n",
    "interchange.positions = unit.Quantity(\n",
    "    mdtraj.load(\"solvated.pdb\").xyz[0],\n",
    "    unit.nanometer,\n",
    ")"
   ]
  },
  {
   "cell_type": "code",
   "execution_count": null,
   "id": "ef958b02-064a-4bc7-b132-4a296ea89cf7",
   "metadata": {},
   "outputs": [],
   "source": [
    "from openff.interchange.interop.openmm import to_openmm_positions\n",
    "\n",
    "barostat = openmm.MonteCarloBarostat(\n",
    "    1.00 * openmm.unit.bar, 293.15 * openmm.unit.kelvin, 25\n",
    ")\n",
    "system.addForce(barostat)\n",
    "\n",
    "integrator = openmm.LangevinIntegrator(\n",
    "    300 * openmm.unit.kelvin, 1 / openmm.unit.picosecond, 2 * openmm.unit.femtoseconds\n",
    ")\n",
    "\n",
    "simulation = openmm.app.Simulation(interchange.to_openmm_topology(), system, integrator)\n",
    "simulation.context.setPositions(to_openmm(to_openmm_positions(interchange)))\n",
    "simulation.context.setVelocitiesToTemperature(300 * openmm.unit.kelvin)\n",
    "simulation.context.computeVirtualSites()\n",
    "\n",
    "pdb_reporter = openmm.app.PDBReporter(\"trajectory.pdb\", 100)\n",
    "state_data_reporter = openmm.app.StateDataReporter(\n",
    "    \"data.csv\", 10, step=True, potentialEnergy=True, temperature=True, density=True\n",
    ")\n",
    "simulation.reporters.append(pdb_reporter)\n",
    "simulation.reporters.append(state_data_reporter)"
   ]
  },
  {
   "cell_type": "code",
   "execution_count": null,
   "id": "191538a3-840c-4a05-99f5-211eee2634ed",
   "metadata": {},
   "outputs": [],
   "source": [
    "print(\"Starting simulation\")\n",
    "start_time = time.process_time()\n",
    "\n",
    "for step in range(5000):\n",
    "    simulation.step(1)\n",
    "    if step % 500 == 0:\n",
    "        print(f\"{step}\\t{simulation.context.getState().getPeriodicBoxVectors()}\")\n",
    "\n",
    "end_time = time.process_time()\n",
    "print(f\"Elapsed time: {(end_time - start_time):.2f} seconds\")"
   ]
  }
 ],
 "metadata": {
  "kernelspec": {
   "display_name": "Python 3 (ipykernel)",
   "language": "python",
   "name": "python3"
  },
  "language_info": {
   "codemirror_mode": {
    "name": "ipython",
    "version": 3
   },
   "file_extension": ".py",
   "mimetype": "text/x-python",
   "name": "python",
   "nbconvert_exporter": "python",
   "pygments_lexer": "ipython3",
   "version": "3.9.13"
  }
 },
 "nbformat": 4,
 "nbformat_minor": 5
}
