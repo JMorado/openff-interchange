{
 "cells": [
  {
   "cell_type": "code",
   "execution_count": 1,
   "id": "7c15df9e",
   "metadata": {},
   "outputs": [
    {
     "name": "stderr",
     "output_type": "stream",
     "text": [
      "Warning: importing 'simtk.openmm' is deprecated.  Import 'openmm' instead.\n"
     ]
    },
    {
     "data": {
      "application/vnd.jupyter.widget-view+json": {
       "model_id": "ce3dd8cbf1724d738cbbb819aafef43c",
       "version_major": 2,
       "version_minor": 0
      },
      "text/plain": []
     },
     "metadata": {},
     "output_type": "display_data"
    }
   ],
   "source": [
    "import mbuild as mb\n",
    "import mdtraj as md\n",
    "import nglview\n",
    "from foyer.forcefield import Forcefield as FoyerForcefield\n",
    "from openff.toolkit.topology import Molecule, Topology\n",
    "from openff.toolkit.typing.engines.smirnoff.forcefield import ForceField\n",
    "from openff.units import unit\n",
    "\n",
    "from openff.interchange.components.interchange import Interchange\n",
    "from openff.interchange.components.mbuild import offmol_to_compound\n",
    "from openff.interchange.components.mdtraj import _combine_topologies, _OFFBioTop\n",
    "from openff.interchange.drivers import get_openmm_energies"
   ]
  },
  {
   "cell_type": "code",
   "execution_count": 2,
   "id": "d80b16a1",
   "metadata": {},
   "outputs": [],
   "source": [
    "nanoparticle = mb.load(\"silica_nanoparticle.json\")"
   ]
  },
  {
   "cell_type": "code",
   "execution_count": 3,
   "id": "271d536f",
   "metadata": {},
   "outputs": [
    {
     "name": "stderr",
     "output_type": "stream",
     "text": [
      "/Users/mwt/miniconda3/envs/openff-interchange-env/lib/python3.9/site-packages/foyer/forcefield.py:656: UserWarning: Non-atomistic element type detected. Creating custom element for _EP\n",
      "  warnings.warn(\n",
      "/Users/mwt/miniconda3/envs/openff-interchange-env/lib/python3.9/site-packages/foyer/forcefield.py:620: UserWarning: No force field version number found in force field XML file.\n",
      "  warnings.warn(\n",
      "/Users/mwt/miniconda3/envs/openff-interchange-env/lib/python3.9/site-packages/foyer/forcefield.py:632: UserWarning: No force field name found in force field XML file.\n",
      "  warnings.warn(\n",
      "/Users/mwt/miniconda3/envs/openff-interchange-env/lib/python3.9/site-packages/foyer/forcefield.py:644: UserWarning: No combining rule found in force field XML file.\n",
      "  warnings.warn(\n",
      "/Users/mwt/miniconda3/envs/openff-interchange-env/lib/python3.9/site-packages/foyer/validator.py:165: ValidationWarning: You have empty smart definition(s)\n",
      "  warn(\"You have empty smart definition(s)\", ValidationWarning)\n"
     ]
    }
   ],
   "source": [
    "oplsaa_silica = FoyerForcefield(\"oplsaa_switchable.xml\")"
   ]
  },
  {
   "cell_type": "code",
   "execution_count": 4,
   "id": "0c6b86b4",
   "metadata": {},
   "outputs": [],
   "source": [
    "topology = _OFFBioTop(mdtop=md.Topology.from_openmm(nanoparticle.to_parmed().topology))"
   ]
  },
  {
   "cell_type": "code",
   "execution_count": 5,
   "id": "8ed54033",
   "metadata": {},
   "outputs": [],
   "source": [
    "nanoparticle_interchange = Interchange.from_foyer(\n",
    "    topology=topology,\n",
    "    force_field=oplsaa_silica,\n",
    ")"
   ]
  },
  {
   "cell_type": "code",
   "execution_count": 6,
   "id": "a927de8a",
   "metadata": {},
   "outputs": [],
   "source": [
    "n_solvent = 800\n",
    "\n",
    "solvent = Molecule.from_smiles(\"C1CCOC1\")\n",
    "solvent.generate_conformers(n_conformers=1)"
   ]
  },
  {
   "cell_type": "code",
   "execution_count": 7,
   "id": "b5ee185c",
   "metadata": {},
   "outputs": [],
   "source": [
    "sage = ForceField(\"openff_unconstrained-2.0.0.offxml\")"
   ]
  },
  {
   "cell_type": "code",
   "execution_count": 8,
   "id": "1ba9dec8",
   "metadata": {
    "scrolled": true
   },
   "outputs": [],
   "source": [
    "solvent_interchange = Interchange.from_smirnoff(\n",
    "    sage,\n",
    "    _OFFBioTop(\n",
    "        mdtop=md.Topology.from_openmm(\n",
    "            Topology.from_molecules(n_solvent * [solvent]).to_openmm()\n",
    "        )\n",
    "    ),\n",
    ")"
   ]
  },
  {
   "cell_type": "code",
   "execution_count": 9,
   "id": "290653cc",
   "metadata": {
    "scrolled": true
   },
   "outputs": [
    {
     "name": "stderr",
     "output_type": "stream",
     "text": [
      "/Users/mwt/software/openff-system/openff/interchange/components/interchange.py:617: UserWarning: Interchange object combination is experimental and likely to produce strange results. Any workflow using this method is not guaranteed to be suitable for production. Use with extreme caution and thoroughly validate results!\n",
      "  warnings.warn(\n",
      "/Users/mwt/software/openff-system/openff/interchange/components/interchange.py:649: UserWarning: 'other' Interchange object has handler with name RBTorsions not found in 'self,' but it has now been added.\n",
      "  warnings.warn(\n",
      "/Users/mwt/software/openff-system/openff/interchange/components/interchange.py:649: UserWarning: 'other' Interchange object has handler with name RBImpropers not found in 'self,' but it has now been added.\n",
      "  warnings.warn(\n",
      "/Users/mwt/software/openff-system/openff/interchange/components/interchange.py:672: UserWarning: Setting positions to None because one or both objects added together were missing positions.\n",
      "  warnings.warn(\n"
     ]
    }
   ],
   "source": [
    "combined = solvent_interchange + nanoparticle_interchange"
   ]
  },
  {
   "cell_type": "code",
   "execution_count": 10,
   "id": "a96df17a",
   "metadata": {},
   "outputs": [],
   "source": [
    "thf_compound = offmol_to_compound(solvent)"
   ]
  },
  {
   "cell_type": "code",
   "execution_count": 11,
   "id": "97ab9307",
   "metadata": {},
   "outputs": [],
   "source": [
    "solvated_compound = mb.packing.solvate(\n",
    "    solute=nanoparticle, solvent=thf_compound, n_solvent=n_solvent, box=mb.Box(3 * [8])\n",
    ")"
   ]
  },
  {
   "cell_type": "code",
   "execution_count": 12,
   "id": "3da5e45d",
   "metadata": {},
   "outputs": [],
   "source": [
    "combined.topology = _combine_topologies(\n",
    "    solvent_interchange.topology,\n",
    "    nanoparticle_interchange.topology,\n",
    ")\n",
    "combined.positions = solvated_compound.xyz * unit.nanometer\n",
    "combined.box = 3 * [8] * unit.nanometer"
   ]
  },
  {
   "cell_type": "code",
   "execution_count": 13,
   "id": "9e1f1ddf",
   "metadata": {
    "scrolled": true
   },
   "outputs": [
    {
     "data": {
      "application/vnd.jupyter.widget-view+json": {
       "model_id": "7bf9a73fbdfa4e00821b9abe3ee39ca9",
       "version_major": 2,
       "version_minor": 0
      },
      "text/plain": [
       "NGLWidget()"
      ]
     },
     "metadata": {},
     "output_type": "display_data"
    }
   ],
   "source": [
    "combined.to_pdb(\"out.pdb\")\n",
    "view = nglview.show_mdtraj(md.load(\"out.pdb\"))\n",
    "view.clear_representations()\n",
    "view.add_representation(\n",
    "    \"spacefill\", selection=[*range(combined.topology.mdtop.n_atoms)]\n",
    ")\n",
    "view"
   ]
  },
  {
   "cell_type": "code",
   "execution_count": 14,
   "id": "f9cfc042",
   "metadata": {
    "scrolled": true
   },
   "outputs": [
    {
     "data": {
      "text/plain": [
       "EnergyReport(energies={'Bond': <Quantity(9.71710874e+09, 'kilojoule / mole')>, 'Angle': <Quantity(1303887.88, 'kilojoule / mole')>, 'Torsion': <Quantity(0.0, 'kilojoule / mole')>, 'Nonbonded': <Quantity(0.0, 'kilojoule / mole')>})"
      ]
     },
     "execution_count": 14,
     "metadata": {},
     "output_type": "execute_result"
    }
   ],
   "source": [
    "get_openmm_energies(combined, combine_nonbonded_forces=True)"
   ]
  }
 ],
 "metadata": {
  "kernelspec": {
   "display_name": "Python 3 (ipykernel)",
   "language": "python",
   "name": "python3"
  },
  "language_info": {
   "codemirror_mode": {
    "name": "ipython",
    "version": 3
   },
   "file_extension": ".py",
   "mimetype": "text/x-python",
   "name": "python",
   "nbconvert_exporter": "python",
   "pygments_lexer": "ipython3",
   "version": "3.9.9"
  }
 },
 "nbformat": 4,
 "nbformat_minor": 5
}
