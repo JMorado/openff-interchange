{
 "cells": [
  {
   "cell_type": "code",
   "execution_count": null,
   "id": "1ef6cb9c-8011-4a3e-a82b-0c7f8347dafd",
   "metadata": {},
   "outputs": [],
   "source": [
    "import pathlib\n",
    "import sys\n",
    "import urllib.request\n",
    "\n",
    "import openmm.app\n",
    "from openff.units.openmm import from_openmm as from_openmm_quantity\n",
    "\n",
    "from openff.interchange.drivers import get_openmm_energies\n",
    "from openff.interchange.interop.openmm import from_openmm\n",
    "\n",
    "sys.setrecursionlimit(5000)"
   ]
  },
  {
   "cell_type": "code",
   "execution_count": null,
   "id": "7b726388-3f15-407d-85dc-87d66d1062dc",
   "metadata": {},
   "outputs": [],
   "source": [
    "if not pathlib.Path(\"protein.pdb\").is_file():\n",
    "    urllib.request.urlretrieve(\n",
    "        \"https://raw.githubusercontent.com/bayer-science-for-a-better-life/abfe-benchmark/a3b15632d2f419857e2ba73a6922de6f09a66caa/structures/brd4/protein.pdb\",\n",
    "        \"brd4.pdb\",\n",
    "    )\n",
    "\n",
    "protein = openmm.app.PDBFile(\"brd4.pdb\")\n",
    "amber_force_fields = openmm.app.ForceField(\"amber14-all.xml\", \"amber14/tip3pfb.xml\")\n",
    "\n",
    "amber_force_fields.createSystem(protein.topology)"
   ]
  },
  {
   "cell_type": "code",
   "execution_count": null,
   "id": "d8e436d6-d06c-44c9-9239-3cf370dceff7",
   "metadata": {},
   "outputs": [],
   "source": [
    "converted_interchange = from_openmm(\n",
    "    topology=protein.topology,\n",
    "    system=amber_force_fields.createSystem(protein.topology),\n",
    "    positions=from_openmm_quantity(protein.getPositions()),\n",
    "    box_vectors=from_openmm_quantity(protein.topology.getPeriodicBoxVectors()),\n",
    ")"
   ]
  },
  {
   "cell_type": "markdown",
   "id": "e65d562c",
   "metadata": {},
   "source": [
    "As a quick sanity check, get the single-point energy of this configuration."
   ]
  },
  {
   "cell_type": "code",
   "execution_count": null,
   "id": "b2a561f1",
   "metadata": {},
   "outputs": [],
   "source": [
    "get_openmm_energies(converted_interchange)"
   ]
  }
 ],
 "metadata": {
  "kernelspec": {
   "display_name": "Python 3 (ipykernel)",
   "language": "python",
   "name": "python3"
  },
  "language_info": {
   "codemirror_mode": {
    "name": "ipython",
    "version": 3
   },
   "file_extension": ".py",
   "mimetype": "text/x-python",
   "name": "python",
   "nbconvert_exporter": "python",
   "pygments_lexer": "ipython3",
   "version": "3.9.13"
  }
 },
 "nbformat": 4,
 "nbformat_minor": 5
}
