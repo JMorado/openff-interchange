{
 "cells": [
  {
   "cell_type": "code",
   "execution_count": 1,
   "metadata": {
    "execution": {
     "iopub.execute_input": "2021-12-23T16:27:16.975748Z",
     "iopub.status.busy": "2021-12-23T16:27:16.974997Z",
     "iopub.status.idle": "2021-12-23T16:27:24.053072Z",
     "shell.execute_reply": "2021-12-23T16:27:24.053523Z"
    }
   },
   "outputs": [],
   "source": [
    "from openff.toolkit.topology import Molecule, Topology\n",
    "from openff.toolkit.typing.engines.smirnoff import ForceField\n",
    "\n",
    "from openff.interchange import Interchange"
   ]
  },
  {
   "cell_type": "code",
   "execution_count": 2,
   "metadata": {
    "execution": {
     "iopub.execute_input": "2021-12-23T16:27:24.058245Z",
     "iopub.status.busy": "2021-12-23T16:27:24.057662Z",
     "iopub.status.idle": "2021-12-23T16:27:24.070077Z",
     "shell.execute_reply": "2021-12-23T16:27:24.070585Z"
    }
   },
   "outputs": [],
   "source": [
    "# Create an OpenFF Topology consisting of two ethanol molecules\n",
    "top = Topology.from_molecules(2 * [Molecule.from_smiles(\"CCO\")])"
   ]
  },
  {
   "cell_type": "code",
   "execution_count": 3,
   "metadata": {
    "execution": {
     "iopub.execute_input": "2021-12-23T16:27:24.074512Z",
     "iopub.status.busy": "2021-12-23T16:27:24.073953Z",
     "iopub.status.idle": "2021-12-23T16:27:25.092480Z",
     "shell.execute_reply": "2021-12-23T16:27:25.093252Z"
    }
   },
   "outputs": [],
   "source": [
    "# Load in two versions of OpenFF 1.x.x (\"Parsley\")\n",
    "parsley_100 = ForceField(\"openff-1.0.0.offxml\")\n",
    "parsley_130 = ForceField(\"openff-1.3.0.offxml\")"
   ]
  },
  {
   "cell_type": "code",
   "execution_count": 4,
   "metadata": {
    "execution": {
     "iopub.execute_input": "2021-12-23T16:27:25.119442Z",
     "iopub.status.busy": "2021-12-23T16:27:25.118867Z",
     "iopub.status.idle": "2021-12-23T16:27:27.938217Z",
     "shell.execute_reply": "2021-12-23T16:27:27.938652Z"
    }
   },
   "outputs": [],
   "source": [
    "# Construct an Interchange object from each force field and the common topology\n",
    "sys_100 = Interchange.from_smirnoff(force_field=parsley_100, topology=top)\n",
    "sys_130 = Interchange.from_smirnoff(force_field=parsley_130, topology=top)"
   ]
  },
  {
   "cell_type": "code",
   "execution_count": 5,
   "metadata": {
    "execution": {
     "iopub.execute_input": "2021-12-23T16:27:27.948690Z",
     "iopub.status.busy": "2021-12-23T16:27:27.948069Z",
     "iopub.status.idle": "2021-12-23T16:27:27.950586Z",
     "shell.execute_reply": "2021-12-23T16:27:27.950959Z"
    }
   },
   "outputs": [
    {
     "data": {
      "text/plain": [
       "{PotentialKey(id='[*:1]~[#6X4:2]-[*:3]', mult=None, associated_handler='Angles', bond_order=None): Potential(parameters={'k': <Quantity(101.737336, 'kilocalorie / mole / radian ** 2')>, 'angle': <Quantity(107.660782, 'degree')>}, map_key=None),\n",
       " PotentialKey(id='[*:1]-[#8:2]-[*:3]', mult=None, associated_handler='Angles', bond_order=None): Potential(parameters={'k': <Quantity(112.364889, 'kilocalorie / mole / radian ** 2')>, 'angle': <Quantity(110.25178, 'degree')>}, map_key=None),\n",
       " PotentialKey(id='[#1:1]-[#6X4:2]-[#1:3]', mult=None, associated_handler='Angles', bond_order=None): Potential(parameters={'k': <Quantity(74.2870153, 'kilocalorie / mole / radian ** 2')>, 'angle': <Quantity(107.599151, 'degree')>}, map_key=None)}"
      ]
     },
     "execution_count": 5,
     "metadata": {},
     "output_type": "execute_result"
    }
   ],
   "source": [
    "# Look into each object's angle values ...\n",
    "sys_100.handlers[\"Angles\"].potentials"
   ]
  },
  {
   "cell_type": "code",
   "execution_count": 6,
   "metadata": {
    "execution": {
     "iopub.execute_input": "2021-12-23T16:27:27.955089Z",
     "iopub.status.busy": "2021-12-23T16:27:27.954439Z",
     "iopub.status.idle": "2021-12-23T16:27:27.956862Z",
     "shell.execute_reply": "2021-12-23T16:27:27.957475Z"
    }
   },
   "outputs": [
    {
     "data": {
      "text/plain": [
       "{PotentialKey(id='[*:1]~[#6X4:2]-[*:3]', mult=None, associated_handler='Angles', bond_order=None): Potential(parameters={'k': <Quantity(99.2339941, 'kilocalorie / mole / radian ** 2')>, 'angle': <Quantity(113.65694, 'degree')>}, map_key=None),\n",
       " PotentialKey(id='[*:1]-[#8:2]-[*:3]', mult=None, associated_handler='Angles', bond_order=None): Potential(parameters={'k': <Quantity(134.501978, 'kilocalorie / mole / radian ** 2')>, 'angle': <Quantity(110.289839, 'degree')>}, map_key=None),\n",
       " PotentialKey(id='[#1:1]-[#6X4:2]-[#1:3]', mult=None, associated_handler='Angles', bond_order=None): Potential(parameters={'k': <Quantity(66.5522943, 'kilocalorie / mole / radian ** 2')>, 'angle': <Quantity(114.294085, 'degree')>}, map_key=None)}"
      ]
     },
     "execution_count": 6,
     "metadata": {},
     "output_type": "execute_result"
    }
   ],
   "source": [
    "# ... and notice that they're (slightly) different values\n",
    "sys_130.handlers[\"Angles\"].potentials"
   ]
  },
  {
   "cell_type": "code",
   "execution_count": 7,
   "metadata": {
    "execution": {
     "iopub.execute_input": "2021-12-23T16:27:27.963123Z",
     "iopub.status.busy": "2021-12-23T16:27:27.960852Z",
     "iopub.status.idle": "2021-12-23T16:27:27.965361Z",
     "shell.execute_reply": "2021-12-23T16:27:27.965744Z"
    }
   },
   "outputs": [],
   "source": [
    "# This can be verified by directly comparing the objects\n",
    "assert not sys_100.handlers[\"Angles\"] == sys_130.handlers[\"Angles\"]"
   ]
  },
  {
   "cell_type": "code",
   "execution_count": 8,
   "metadata": {
    "execution": {
     "iopub.execute_input": "2021-12-23T16:27:27.969975Z",
     "iopub.status.busy": "2021-12-23T16:27:27.969167Z",
     "iopub.status.idle": "2021-12-23T16:27:27.981698Z",
     "shell.execute_reply": "2021-12-23T16:27:27.982213Z"
    }
   },
   "outputs": [],
   "source": [
    "# (This first step not strictly necessary, as the typing did not change between versions of this force field line)\n",
    "sys_100.handlers[\"Angles\"].store_matches(parsley_100[\"Angles\"], topology=top)\n",
    "\n",
    "# But we can replace the `Potential` objects with openff-1.3.0 values by feeding it in\n",
    "# the \"Bonds\" section of that force field, which is represented in memory by a `BondHandler` object\n",
    "sys_100.handlers[\"Angles\"].store_potentials(parsley_130[\"Angles\"])"
   ]
  },
  {
   "cell_type": "code",
   "execution_count": 9,
   "metadata": {
    "execution": {
     "iopub.execute_input": "2021-12-23T16:27:27.987512Z",
     "iopub.status.busy": "2021-12-23T16:27:27.986968Z",
     "iopub.status.idle": "2021-12-23T16:27:27.988830Z",
     "shell.execute_reply": "2021-12-23T16:27:27.989206Z"
    }
   },
   "outputs": [],
   "source": [
    "assert sys_100.handlers[\"Angles\"] == sys_130.handlers[\"Angles\"]"
   ]
  },
  {
   "cell_type": "code",
   "execution_count": 10,
   "metadata": {
    "execution": {
     "iopub.execute_input": "2021-12-23T16:27:27.995178Z",
     "iopub.status.busy": "2021-12-23T16:27:27.993900Z",
     "iopub.status.idle": "2021-12-23T16:27:27.998044Z",
     "shell.execute_reply": "2021-12-23T16:27:27.998426Z"
    }
   },
   "outputs": [
    {
     "data": {
      "text/plain": [
       "{PotentialKey(id='[*:1]~[#6X4:2]-[*:3]', mult=None, associated_handler='Angles', bond_order=None): Potential(parameters={'k': <Quantity(99.2339941, 'kilocalorie / mole / radian ** 2')>, 'angle': <Quantity(113.65694, 'degree')>}, map_key=None),\n",
       " PotentialKey(id='[*:1]-[#8:2]-[*:3]', mult=None, associated_handler='Angles', bond_order=None): Potential(parameters={'k': <Quantity(134.501978, 'kilocalorie / mole / radian ** 2')>, 'angle': <Quantity(110.289839, 'degree')>}, map_key=None),\n",
       " PotentialKey(id='[#1:1]-[#6X4:2]-[#1:3]', mult=None, associated_handler='Angles', bond_order=None): Potential(parameters={'k': <Quantity(66.5522943, 'kilocalorie / mole / radian ** 2')>, 'angle': <Quantity(114.294085, 'degree')>}, map_key=None)}"
      ]
     },
     "execution_count": 10,
     "metadata": {},
     "output_type": "execute_result"
    }
   ],
   "source": [
    "# Or, more verbosely, we can again inspect the objects themselves ...\n",
    "sys_100.handlers[\"Angles\"].potentials"
   ]
  },
  {
   "cell_type": "code",
   "execution_count": 11,
   "metadata": {
    "execution": {
     "iopub.execute_input": "2021-12-23T16:27:28.003086Z",
     "iopub.status.busy": "2021-12-23T16:27:28.002474Z",
     "iopub.status.idle": "2021-12-23T16:27:28.004783Z",
     "shell.execute_reply": "2021-12-23T16:27:28.005447Z"
    }
   },
   "outputs": [
    {
     "data": {
      "text/plain": [
       "{PotentialKey(id='[*:1]~[#6X4:2]-[*:3]', mult=None, associated_handler='Angles', bond_order=None): Potential(parameters={'k': <Quantity(99.2339941, 'kilocalorie / mole / radian ** 2')>, 'angle': <Quantity(113.65694, 'degree')>}, map_key=None),\n",
       " PotentialKey(id='[*:1]-[#8:2]-[*:3]', mult=None, associated_handler='Angles', bond_order=None): Potential(parameters={'k': <Quantity(134.501978, 'kilocalorie / mole / radian ** 2')>, 'angle': <Quantity(110.289839, 'degree')>}, map_key=None),\n",
       " PotentialKey(id='[#1:1]-[#6X4:2]-[#1:3]', mult=None, associated_handler='Angles', bond_order=None): Potential(parameters={'k': <Quantity(66.5522943, 'kilocalorie / mole / radian ** 2')>, 'angle': <Quantity(114.294085, 'degree')>}, map_key=None)}"
      ]
     },
     "execution_count": 11,
     "metadata": {},
     "output_type": "execute_result"
    }
   ],
   "source": [
    "# ... and see that they are now both using the `openff-1.3.0` values\n",
    "sys_130.handlers[\"Angles\"].potentials"
   ]
  },
  {
   "cell_type": "code",
   "execution_count": 12,
   "metadata": {
    "execution": {
     "iopub.execute_input": "2021-12-23T16:27:28.011895Z",
     "iopub.status.busy": "2021-12-23T16:27:28.010673Z",
     "iopub.status.idle": "2021-12-23T16:27:28.013001Z",
     "shell.execute_reply": "2021-12-23T16:27:28.013382Z"
    }
   },
   "outputs": [],
   "source": [
    "# But we didn't change any other values, i.e. bonds\n",
    "assert not sys_100.handlers[\"Bonds\"] == sys_130.handlers[\"Bonds\"]"
   ]
  },
  {
   "cell_type": "code",
   "execution_count": 13,
   "metadata": {
    "execution": {
     "iopub.execute_input": "2021-12-23T16:27:28.017048Z",
     "iopub.status.busy": "2021-12-23T16:27:28.016269Z",
     "iopub.status.idle": "2021-12-23T16:27:28.018000Z",
     "shell.execute_reply": "2021-12-23T16:27:28.018541Z"
    }
   },
   "outputs": [],
   "source": [
    "# TODO: Add a trip to disk"
   ]
  }
 ],
 "metadata": {
  "kernelspec": {
   "display_name": "Python 3 (ipykernel)",
   "language": "python",
   "name": "python3"
  },
  "language_info": {
   "codemirror_mode": {
    "name": "ipython",
    "version": 3
   },
   "file_extension": ".py",
   "mimetype": "text/x-python",
   "name": "python",
   "nbconvert_exporter": "python",
   "pygments_lexer": "ipython3",
   "version": "3.9.9"
  }
 },
 "nbformat": 4,
 "nbformat_minor": 4
}
