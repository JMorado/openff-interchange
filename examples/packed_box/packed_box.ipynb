{
 "cells": [
  {
   "cell_type": "markdown",
   "id": "f6b260b4",
   "metadata": {},
   "source": [
    "# Parameterizing multi-component systems with Interchange\n",
    "\n",
    "<details>\n",
    "    <summary><small>▼ Click here for dependency installation instructions</small></summary>\n",
    "    The simplest way to install dependencies is to use the Interchange examples environment. From the root of the cloned openff-interchange repository:\n",
    "    \n",
    "    conda env create --name interchange-examples --file devtools/conda-envs/examples_env.yaml \n",
    "    conda activate interchange-examples\n",
    "    pip install -e .\n",
    "    cd examples\n",
    "    jupyter notebook packed_box.ipynb\n",
    "    \n",
    "</details>\n",
    "\n",
    "The OpenFF Toolkit does not currently provide facilities to prepare topologies from structure files containing multiple molecules. This limitation can be worked around by loading PDBs from OpenMM!"
   ]
  },
  {
   "cell_type": "code",
   "execution_count": null,
   "id": "40714e5a-2dce-44ca-a9b9-9c9abee01caa",
   "metadata": {},
   "outputs": [],
   "source": [
    "import numpy as np\n",
    "from openff.toolkit.topology import Molecule, Topology\n",
    "from openff.toolkit.typing.engines.smirnoff.forcefield import ForceField\n",
    "from openff.toolkit.utils import get_data_file_path\n",
    "from openff.units import unit\n",
    "from openmm import unit as openmm_unit\n",
    "from openmm.app import PDBFile\n",
    "\n",
    "from openff.interchange import Interchange"
   ]
  },
  {
   "cell_type": "markdown",
   "id": "48705911",
   "metadata": {},
   "source": [
    "## Construct the Topology\n",
    "\n",
    "The Toolkit provides a class called `Topology` which stores a system of molecules. It is similar to an `Interchange` in that it stores a list of molecules along with box vectors and some other system information, but unlike `Interchange` a topology is not associated with any force field or parameters. It provides a useful class method `from_openmm` which takes a multi-component OpenMM topology and produces the corresponding Toolkit topology.\n",
    "\n",
    "Because OpenMM topologies include connectivity but not the rich chemical information stored in a `Molecule`, `from_openmm` needs a list of `Molecule` objects that describe the components of the topology. This method is therefore most useful for moving a system with coordinates into the OpenFF ecosystem, and not for identifying the components themselves."
   ]
  },
  {
   "cell_type": "markdown",
   "id": "34c86ca6",
   "metadata": {},
   "source": [
    "First, we load a PDB file describing a mixed box of solvents into OpenMM. `propane_methane_butanol_0.2_0.3_0.5.pdb` is distributed with the Toolkit and describes a 3.5 nm cubic box filled with 20% propane, 30% methane, and 50% butanol. We can use OpenMM's PDB machinery to read the file:"
   ]
  },
  {
   "cell_type": "code",
   "execution_count": null,
   "id": "792ab4fc-baf0-4352-8f24-5dc0be3e5180",
   "metadata": {
    "tags": []
   },
   "outputs": [],
   "source": [
    "pdbfile = PDBFile(\n",
    "    get_data_file_path(\"systems/packmol_boxes/propane_methane_butanol_0.2_0.3_0.5.pdb\")\n",
    ")"
   ]
  },
  {
   "cell_type": "markdown",
   "id": "d43344e1",
   "metadata": {},
   "source": [
    "The PDB file has locations and connectivity information, but to assign parameters we need information that doesn't exist in the format. OpenFF requires users to be explicit about what they're trying to do, rather than risk silently accepting malformed input. This allows us to error out as soon as something goes wrong, rather than let the user complete an expensive calculation on the wrong molecule.\n",
    "\n",
    "As a result, when we pull system information into the OpenFF ecosystem, we must provide a list of molecules that are in the system. Box vectors, numbers of each molecule, and the ordering of atoms in the system are taken from the PDB file, but chemical identities are taken from the list. If two molecules in the list can't be distinguished in the PDB, or a molecule in the PDB can't be matched to any molecule in the list, the Toolkit raises an error that tells you there's a mistake. For a system of simple molecules like this, it's easy to specify the unique molecules with SMILES codes:"
   ]
  },
  {
   "cell_type": "code",
   "execution_count": null,
   "id": "c8b95182-dd20-43be-9c3a-36e2440022ca",
   "metadata": {},
   "outputs": [],
   "source": [
    "molecules = [Molecule.from_smiles(smi) for smi in [\"CCC\", \"C\", \"CCCCO\"]]\n",
    "topology = Topology.from_openmm(pdbfile.topology, unique_molecules=molecules)"
   ]
  },
  {
   "cell_type": "markdown",
   "id": "f2f5a50f",
   "metadata": {},
   "source": [
    "We can get the positions as an array from the PDB file object:"
   ]
  },
  {
   "cell_type": "code",
   "execution_count": null,
   "id": "2890b117",
   "metadata": {},
   "outputs": [],
   "source": [
    "positions = pdbfile.positions"
   ]
  },
  {
   "cell_type": "markdown",
   "id": "bdd47449",
   "metadata": {},
   "source": [
    "## Parameterize with Interchange\n",
    "\n",
    "Now that we have a topology, we can build our `Interchange`!"
   ]
  },
  {
   "cell_type": "code",
   "execution_count": null,
   "id": "e7437723-5c17-4dc7-ad9b-cd98ad3ae6fd",
   "metadata": {},
   "outputs": [],
   "source": [
    "interchange = Interchange.from_smirnoff(\n",
    "    force_field=ForceField(\"openff-2.0.0.offxml\"), topology=topology\n",
    ")\n",
    "interchange.positions = positions"
   ]
  },
  {
   "cell_type": "markdown",
   "id": "fbb1a2ae",
   "metadata": {},
   "source": [
    "We can visualize it:"
   ]
  },
  {
   "cell_type": "code",
   "execution_count": null,
   "id": "4b5a1c40",
   "metadata": {},
   "outputs": [],
   "source": [
    "interchange.visualize(\"nglview\")"
   ]
  },
  {
   "cell_type": "markdown",
   "id": "df353209",
   "metadata": {},
   "source": [
    "We can check that the box vectors from the PDB made it to the Interchange:"
   ]
  },
  {
   "cell_type": "code",
   "execution_count": null,
   "id": "8b1c0f1b-2da8-4a23-a5f6-e97158d919ab",
   "metadata": {},
   "outputs": [],
   "source": [
    "assert np.allclose(\n",
    "    interchange.box.m_as(unit.nanometer),\n",
    "    pdbfile.topology.getPeriodicBoxVectors().value_in_unit(openmm_unit.nanometer),\n",
    ")"
   ]
  },
  {
   "cell_type": "markdown",
   "id": "f8c03ba6",
   "metadata": {},
   "source": [
    "And we can calculate and compare energies with different MD engines!"
   ]
  },
  {
   "cell_type": "code",
   "execution_count": null,
   "id": "6b49e507-f19c-4945-bd7b-cc722e6dc03d",
   "metadata": {},
   "outputs": [],
   "source": [
    "from openff.interchange.drivers import (\n",
    "    get_amber_energies,\n",
    "    get_lammps_energies,\n",
    "    get_openmm_energies,\n",
    ")\n",
    "\n",
    "amber_energies = get_amber_energies(interchange)\n",
    "openmm_energies = get_openmm_energies(interchange)\n",
    "lammps_energies = get_lammps_energies(interchange)"
   ]
  },
  {
   "cell_type": "code",
   "execution_count": null,
   "id": "5b58bf55-302b-464a-8d89-740bcfdb7803",
   "metadata": {},
   "outputs": [],
   "source": [
    "print(openmm_energies)"
   ]
  },
  {
   "cell_type": "code",
   "execution_count": null,
   "id": "6933beb9-48f9-407c-9289-e011b00cf28c",
   "metadata": {},
   "outputs": [],
   "source": [
    "print(amber_energies)"
   ]
  },
  {
   "cell_type": "code",
   "execution_count": null,
   "id": "0176e44f-1f48-407c-b585-ad1460710320",
   "metadata": {},
   "outputs": [],
   "source": [
    "print(lammps_energies)"
   ]
  },
  {
   "cell_type": "code",
   "execution_count": null,
   "id": "35e93c9b-7643-4742-ae31-d3d80c7ff8cc",
   "metadata": {},
   "outputs": [],
   "source": [
    "openmm_energies - amber_energies"
   ]
  },
  {
   "cell_type": "code",
   "execution_count": null,
   "id": "ab97cb6b-d0df-4356-a9a0-4ad5378503fd",
   "metadata": {},
   "outputs": [],
   "source": [
    "openmm_energies - lammps_energies"
   ]
  }
 ],
 "metadata": {
  "kernelspec": {
   "display_name": "Python 3 (ipykernel)",
   "language": "python",
   "name": "python3"
  },
  "language_info": {
   "codemirror_mode": {
    "name": "ipython",
    "version": 3
   },
   "file_extension": ".py",
   "mimetype": "text/x-python",
   "name": "python",
   "nbconvert_exporter": "python",
   "pygments_lexer": "ipython3",
   "version": "3.9.12"
  }
 },
 "nbformat": 4,
 "nbformat_minor": 5
}
