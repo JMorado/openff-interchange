{
 "cells": [
  {
   "cell_type": "markdown",
   "id": "f6b260b4",
   "metadata": {},
   "source": [
    "# Parameterizing multi-component systems with Interchange\n",
    "\n",
    "<details>\n",
    "    <summary><small>▼ Click here for dependency installation instructions</small></summary>\n",
    "    The simplest way to install dependencies is to use the Interchange examples environment. From the root of the cloned openff-interchange repository:\n",
    "    \n",
    "    conda env create --name interchange-examples --file devtools/conda-envs/examples_env.yaml \n",
    "    conda activate interchange-examples\n",
    "    pip install -e .\n",
    "    cd examples\n",
    "    jupyter notebook packed_box.ipynb\n",
    "    \n",
    "</details>\n",
    "\n",
    "The OpenFF Toolkit does not currently provide facilities to prepare topologies from structure files containing multiple molecules. This limitation can be worked around by loading PDBs from OpenMM!"
   ]
  },
  {
   "cell_type": "code",
   "execution_count": null,
   "id": "40714e5a-2dce-44ca-a9b9-9c9abee01caa",
   "metadata": {},
   "outputs": [],
   "source": [
    "import nglview\n",
    "from openff.toolkit import ForceField, Molecule, Topology\n",
    "from openff.units import unit\n",
    "\n",
    "from openff.interchange import Interchange\n",
    "from openff.interchange.components._packmol import pack_box\n",
    "from openff.interchange.drivers import get_summary_data"
   ]
  },
  {
   "cell_type": "markdown",
   "id": "48705911",
   "metadata": {},
   "source": [
    "## Construct the Topology\n",
    "\n",
    "The Toolkit provides a class called `Topology` which stores a system of molecules. It is similar to an `Interchange` in that it stores a list of molecules along with box vectors and some other system information, but unlike `Interchange` a topology is not associated with any force field or parameters. It provides a useful class method `from_openmm` which takes a multi-component OpenMM topology and produces the corresponding Toolkit topology.\n",
    "\n",
    "Because OpenMM topologies include connectivity but not the rich chemical information stored in a `Molecule`, `from_openmm` needs a list of `Molecule` objects that describe the components of the topology. This method is therefore most useful for moving a system with coordinates into the OpenFF ecosystem, and not for identifying the components themselves."
   ]
  },
  {
   "cell_type": "markdown",
   "id": "34c86ca6",
   "metadata": {},
   "source": [
    "First, we load a PDB file describing a mixed box of solvents into OpenMM. `propane_methane_butanol_0.2_0.3_0.5.pdb` is distributed with the Toolkit and describes a 3.5 nm cubic box filled with 20% propane, 30% methane, and 50% butanol. We can use OpenMM's PDB machinery to read the file:"
   ]
  },
  {
   "cell_type": "markdown",
   "id": "d43344e1",
   "metadata": {},
   "source": [
    "The PDB file has locations and connectivity information, but to assign parameters we need information that doesn't exist in the format. OpenFF requires users to be explicit about what they're trying to do, rather than risk silently accepting malformed input. This allows us to error out as soon as something goes wrong, rather than let the user complete an expensive calculation on the wrong molecule.\n",
    "\n",
    "As a result, when we pull system information into the OpenFF ecosystem, we must provide a list of molecules that are in the system. Box vectors, numbers of each molecule, and the ordering of atoms in the system are taken from the PDB file, but chemical identities are taken from the list. If two molecules in the list can't be distinguished in the PDB, or a molecule in the PDB can't be matched to any molecule in the list, the Toolkit raises an error that tells you there's a mistake. For a system of simple molecules like this, it's easy to specify the unique molecules with SMILES codes:"
   ]
  },
  {
   "cell_type": "code",
   "execution_count": null,
   "id": "c8b95182-dd20-43be-9c3a-36e2440022ca",
   "metadata": {},
   "outputs": [],
   "source": [
    "molecules = [\n",
    "    Molecule.from_smiles(smi)\n",
    "    for smi in [\"ClC(Cl)(Cl)Cl\", \"CC1=CC=CC=C1\", \"CS(=O)C\", \"CCCCCCO\"]\n",
    "]"
   ]
  },
  {
   "cell_type": "code",
   "execution_count": null,
   "id": "9d4b13e6",
   "metadata": {},
   "outputs": [],
   "source": [
    "# TODO: Have this function return a Topology with box vectors, positions, and residue information set\n",
    "trajectory, _ = pack_box(\n",
    "    molecules=molecules,\n",
    "    number_of_copies=4 * [20],\n",
    "    mass_density=850 * unit.kilogram / unit.meter**3,\n",
    ")\n",
    "\n",
    "topology = Topology.from_mdtraj(trajectory.topology, unique_molecules=molecules)\n",
    "topology.box_vectors = unit.Quantity(\n",
    "    trajectory.unitcell_lengths[0],\n",
    "    unit.nanometer,\n",
    ")\n",
    "\n",
    "topology.set_positions(unit.Quantity(trajectory.xyz[0], unit.nanometer))"
   ]
  },
  {
   "cell_type": "code",
   "execution_count": null,
   "id": "0e483f24",
   "metadata": {},
   "outputs": [],
   "source": [
    "nglview.show_mdtraj(trajectory)"
   ]
  },
  {
   "cell_type": "markdown",
   "id": "f2f5a50f",
   "metadata": {},
   "source": [
    "We can get the positions as an array from the PDB file object:"
   ]
  },
  {
   "cell_type": "markdown",
   "id": "bdd47449",
   "metadata": {},
   "source": [
    "## Parameterize with Interchange\n",
    "\n",
    "Now that we have a topology, we can build our `Interchange`!"
   ]
  },
  {
   "cell_type": "code",
   "execution_count": null,
   "id": "e7437723-5c17-4dc7-ad9b-cd98ad3ae6fd",
   "metadata": {},
   "outputs": [],
   "source": [
    "interchange = Interchange.from_smirnoff(\n",
    "    force_field=ForceField(\"openff_unconstrained-2.0.0.offxml\"), topology=topology\n",
    ")"
   ]
  },
  {
   "cell_type": "markdown",
   "id": "fbb1a2ae",
   "metadata": {},
   "source": [
    "We can visualize it:"
   ]
  },
  {
   "cell_type": "code",
   "execution_count": null,
   "id": "4b5a1c40",
   "metadata": {},
   "outputs": [],
   "source": [
    "interchange.visualize(\"nglview\")"
   ]
  },
  {
   "cell_type": "markdown",
   "id": "df353209",
   "metadata": {},
   "source": [
    "We can check that the box vectors from the PDB made it to the Interchange:"
   ]
  },
  {
   "cell_type": "markdown",
   "id": "f8c03ba6",
   "metadata": {},
   "source": [
    "And we can calculate and compare energies with different MD engines!"
   ]
  },
  {
   "cell_type": "code",
   "execution_count": null,
   "id": "6b49e507-f19c-4945-bd7b-cc722e6dc03d",
   "metadata": {},
   "outputs": [],
   "source": [
    "get_summary_data(interchange)"
   ]
  }
 ],
 "metadata": {
  "kernelspec": {
   "display_name": "Python 3 (ipykernel)",
   "language": "python",
   "name": "python3"
  },
  "language_info": {
   "codemirror_mode": {
    "name": "ipython",
    "version": 3
   },
   "file_extension": ".py",
   "mimetype": "text/x-python",
   "name": "python",
   "nbconvert_exporter": "python",
   "pygments_lexer": "ipython3",
   "version": "3.9.16"
  }
 },
 "nbformat": 4,
 "nbformat_minor": 5
}
