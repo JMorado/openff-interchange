{
 "cells": [
  {
   "cell_type": "code",
   "execution_count": 1,
   "metadata": {
    "execution": {
     "iopub.execute_input": "2021-12-23T15:08:25.923096Z",
     "iopub.status.busy": "2021-12-23T15:08:25.922182Z",
     "iopub.status.idle": "2021-12-23T15:08:42.836426Z",
     "shell.execute_reply": "2021-12-23T15:08:42.837301Z"
    }
   },
   "outputs": [],
   "source": [
    "import jax\n",
    "import jax.numpy as jnp\n",
    "import matplotlib.pyplot as plt\n",
    "import numpy as np\n",
    "from openff.toolkit.topology import Molecule, Topology\n",
    "from openff.toolkit.typing.engines.smirnoff import ForceField\n",
    "\n",
    "from openff.interchange import Interchange"
   ]
  },
  {
   "cell_type": "code",
   "execution_count": 2,
   "metadata": {
    "execution": {
     "iopub.execute_input": "2021-12-23T15:08:42.868432Z",
     "iopub.status.busy": "2021-12-23T15:08:42.860311Z",
     "iopub.status.idle": "2021-12-23T15:08:50.056431Z",
     "shell.execute_reply": "2021-12-23T15:08:50.068590Z"
    }
   },
   "outputs": [],
   "source": [
    "# Construct a single-molecule system from toolkit classes\n",
    "mol = Molecule.from_smiles(\"CCO\")\n",
    "mol.generate_conformers(n_conformers=1)\n",
    "top = Topology.from_molecules([mol])\n",
    "parsley = ForceField(\"openff-1.0.0.offxml\")\n",
    "\n",
    "off_sys = Interchange.from_smirnoff(force_field=parsley, topology=top)"
   ]
  },
  {
   "cell_type": "code",
   "execution_count": 3,
   "metadata": {
    "execution": {
     "iopub.execute_input": "2021-12-23T15:08:50.110802Z",
     "iopub.status.busy": "2021-12-23T15:08:50.102811Z",
     "iopub.status.idle": "2021-12-23T15:08:52.352843Z",
     "shell.execute_reply": "2021-12-23T15:08:52.353442Z"
    }
   },
   "outputs": [
    {
     "name": "stderr",
     "output_type": "stream",
     "text": [
      "WARNING:absl:No GPU/TPU found, falling back to CPU. (Set TF_CPP_MIN_LOG_LEVEL=0 and rerun for more info.)\n"
     ]
    }
   ],
   "source": [
    "bonds = off_sys.handlers[\"Bonds\"]\n",
    "\n",
    "# Transform parameters into matrix representations\n",
    "p = bonds.get_force_field_parameters()\n",
    "mapping = bonds.get_mapping()\n",
    "q = bonds.get_system_parameters()\n",
    "m = bonds.get_param_matrix()"
   ]
  },
  {
   "cell_type": "code",
   "execution_count": 4,
   "metadata": {
    "execution": {
     "iopub.execute_input": "2021-12-23T15:08:52.370284Z",
     "iopub.status.busy": "2021-12-23T15:08:52.362494Z",
     "iopub.status.idle": "2021-12-23T15:08:52.385468Z",
     "shell.execute_reply": "2021-12-23T15:08:52.384750Z"
    }
   },
   "outputs": [
    {
     "data": {
      "text/plain": [
       "DeviceArray([[5.3113739e+02, 1.5203758e+00],\n",
       "             [7.5809320e+02, 1.0928884e+00],\n",
       "             [6.6914154e+02, 1.4142879e+00],\n",
       "             [1.1205833e+03, 9.7076875e-01]], dtype=float32)"
      ]
     },
     "execution_count": 4,
     "metadata": {},
     "output_type": "execute_result"
    }
   ],
   "source": [
    "# force field parameters, each row is something like [k (kcal/mol/A), length (A)]\n",
    "p"
   ]
  },
  {
   "cell_type": "code",
   "execution_count": 5,
   "metadata": {
    "execution": {
     "iopub.execute_input": "2021-12-23T15:08:52.399368Z",
     "iopub.status.busy": "2021-12-23T15:08:52.396247Z",
     "iopub.status.idle": "2021-12-23T15:08:52.404133Z",
     "shell.execute_reply": "2021-12-23T15:08:52.405233Z"
    }
   },
   "outputs": [
    {
     "data": {
      "text/plain": [
       "DeviceArray([[5.3113739e+02, 1.5203758e+00],\n",
       "             [7.5809320e+02, 1.0928884e+00],\n",
       "             [7.5809320e+02, 1.0928884e+00],\n",
       "             [7.5809320e+02, 1.0928884e+00],\n",
       "             [6.6914154e+02, 1.4142879e+00],\n",
       "             [7.5809320e+02, 1.0928884e+00],\n",
       "             [7.5809320e+02, 1.0928884e+00],\n",
       "             [1.1205833e+03, 9.7076875e-01]], dtype=float32)"
      ]
     },
     "execution_count": 5,
     "metadata": {},
     "output_type": "execute_result"
    }
   ],
   "source": [
    "# system parameters, a.k.a. force field parameters as they exist in a parametrized system\n",
    "q"
   ]
  },
  {
   "cell_type": "code",
   "execution_count": 6,
   "metadata": {
    "execution": {
     "iopub.execute_input": "2021-12-23T15:08:52.421509Z",
     "iopub.status.busy": "2021-12-23T15:08:52.420437Z",
     "iopub.status.idle": "2021-12-23T15:08:52.563034Z",
     "shell.execute_reply": "2021-12-23T15:08:52.565299Z"
    }
   },
   "outputs": [
    {
     "data": {
      "text/plain": [
       "DeviceArray([[1., 0., 0., 0., 0., 0., 0., 0.],\n",
       "             [0., 1., 0., 0., 0., 0., 0., 0.],\n",
       "             [0., 0., 1., 0., 0., 0., 0., 0.],\n",
       "             [0., 0., 0., 1., 0., 0., 0., 0.],\n",
       "             [0., 0., 1., 0., 0., 0., 0., 0.],\n",
       "             [0., 0., 0., 1., 0., 0., 0., 0.],\n",
       "             [0., 0., 1., 0., 0., 0., 0., 0.],\n",
       "             [0., 0., 0., 1., 0., 0., 0., 0.],\n",
       "             [0., 0., 0., 0., 1., 0., 0., 0.],\n",
       "             [0., 0., 0., 0., 0., 1., 0., 0.],\n",
       "             [0., 0., 1., 0., 0., 0., 0., 0.],\n",
       "             [0., 0., 0., 1., 0., 0., 0., 0.],\n",
       "             [0., 0., 1., 0., 0., 0., 0., 0.],\n",
       "             [0., 0., 0., 1., 0., 0., 0., 0.],\n",
       "             [0., 0., 0., 0., 0., 0., 1., 0.],\n",
       "             [0., 0., 0., 0., 0., 0., 0., 1.]], dtype=float32)"
      ]
     },
     "execution_count": 6,
     "metadata": {},
     "output_type": "execute_result"
    }
   ],
   "source": [
    "# m is the parametrization matrix, which can be dotted with p to get out q\n",
    "assert np.allclose(m.dot(p.flatten()).reshape((-1, 2)), q)\n",
    "\n",
    "m"
   ]
  },
  {
   "cell_type": "code",
   "execution_count": 7,
   "metadata": {
    "execution": {
     "iopub.execute_input": "2021-12-23T15:08:52.576312Z",
     "iopub.status.busy": "2021-12-23T15:08:52.574446Z",
     "iopub.status.idle": "2021-12-23T15:08:52.582790Z",
     "shell.execute_reply": "2021-12-23T15:08:52.584570Z"
    }
   },
   "outputs": [],
   "source": [
    "# save and set initial values\n",
    "q0 = q\n",
    "p0 = p\n",
    "\n",
    "# set learning rate\n",
    "a = 0.1"
   ]
  },
  {
   "cell_type": "code",
   "execution_count": 8,
   "metadata": {
    "execution": {
     "iopub.execute_input": "2021-12-23T15:08:52.596593Z",
     "iopub.status.busy": "2021-12-23T15:08:52.591759Z",
     "iopub.status.idle": "2021-12-23T15:08:52.602187Z",
     "shell.execute_reply": "2021-12-23T15:08:52.605985Z"
    }
   },
   "outputs": [],
   "source": [
    "from copy import deepcopy"
   ]
  },
  {
   "cell_type": "code",
   "execution_count": 9,
   "metadata": {
    "execution": {
     "iopub.execute_input": "2021-12-23T15:08:52.623676Z",
     "iopub.status.busy": "2021-12-23T15:08:52.616587Z",
     "iopub.status.idle": "2021-12-23T15:08:52.832935Z",
     "shell.execute_reply": "2021-12-23T15:08:52.838067Z"
    }
   },
   "outputs": [],
   "source": [
    "# let jax run with autodiff\n",
    "_, f_vjp_bonds = jax.vjp(bonds.parametrize, jnp.asarray(p0))  # d/dp\n",
    "\n",
    "# jax.jvp( ..., has_aux=True) is another approach, but requires that bonds.parametrize returns the indices as well"
   ]
  },
  {
   "cell_type": "code",
   "execution_count": 10,
   "metadata": {
    "execution": {
     "iopub.execute_input": "2021-12-23T15:08:52.856317Z",
     "iopub.status.busy": "2021-12-23T15:08:52.855059Z",
     "iopub.status.idle": "2021-12-23T15:08:52.898447Z",
     "shell.execute_reply": "2021-12-23T15:08:52.924601Z"
    }
   },
   "outputs": [],
   "source": [
    "q_target = deepcopy(q0)\n",
    "p_target = deepcopy(p0)\n",
    "\n",
    "# modify a few of the force field targets to arbitrary values;\n",
    "# this mimic some \"true\" values we wish to tune to, despite\n",
    "# these values not being known in real-world fitting\n",
    "p_target[:, 1] = 0.5 + np.random.rand(4)\n",
    "\n",
    "# obtain the target _sytem_ parameters by dotting the parametrization\n",
    "# matrix with target force field values\n",
    "q_target = m.dot(p_target.flatten()).reshape((-1, 2))\n",
    "\n",
    "# create a dummy loss function via faking known target parameters;\n",
    "# in practice this could be the result of an MD run, FE calculation, etc.\n",
    "def loss(p):\n",
    "    return jnp.linalg.norm(bonds.parametrize(p) - q_target)"
   ]
  },
  {
   "cell_type": "code",
   "execution_count": 11,
   "metadata": {
    "execution": {
     "iopub.execute_input": "2021-12-23T15:08:53.021226Z",
     "iopub.status.busy": "2021-12-23T15:08:52.955894Z",
     "iopub.status.idle": "2021-12-23T15:08:53.449250Z",
     "shell.execute_reply": "2021-12-23T15:08:53.451705Z"
    }
   },
   "outputs": [],
   "source": [
    "out, f_vjp_bonds = jax.vjp(loss, p0)  # composes a jax.grad"
   ]
  },
  {
   "cell_type": "code",
   "execution_count": 12,
   "metadata": {
    "execution": {
     "iopub.execute_input": "2021-12-23T15:08:53.464687Z",
     "iopub.status.busy": "2021-12-23T15:08:53.457084Z",
     "iopub.status.idle": "2021-12-23T15:08:53.868898Z",
     "shell.execute_reply": "2021-12-23T15:08:53.870143Z"
    }
   },
   "outputs": [
    {
     "data": {
      "text/plain": [
       "DeviceArray(True, dtype=bool)"
      ]
     },
     "execution_count": 12,
     "metadata": {},
     "output_type": "execute_result"
    }
   ],
   "source": [
    "# This also returns loss(p0), which we do not need to store\n",
    "out == loss(p0)"
   ]
  },
  {
   "cell_type": "code",
   "execution_count": 13,
   "metadata": {
    "execution": {
     "iopub.execute_input": "2021-12-23T15:08:53.878288Z",
     "iopub.status.busy": "2021-12-23T15:08:53.877104Z",
     "iopub.status.idle": "2021-12-23T15:08:55.268187Z",
     "shell.execute_reply": "2021-12-23T15:08:55.269662Z"
    }
   },
   "outputs": [
    {
     "data": {
      "text/plain": [
       "(DeviceArray([[ 0.        ,  0.03217361],\n",
       "              [ 0.        , -1.2721817 ],\n",
       "              [ 0.        ,  0.5845848 ],\n",
       "              [ 0.        ,  0.577526  ]], dtype=float32),)"
      ]
     },
     "execution_count": 13,
     "metadata": {},
     "output_type": "execute_result"
    }
   ],
   "source": [
    "f_vjp_bonds(1.0)"
   ]
  },
  {
   "cell_type": "code",
   "execution_count": 14,
   "metadata": {
    "execution": {
     "iopub.execute_input": "2021-12-23T15:08:55.283717Z",
     "iopub.status.busy": "2021-12-23T15:08:55.274801Z",
     "iopub.status.idle": "2021-12-23T15:08:55.787242Z",
     "shell.execute_reply": "2021-12-23T15:08:55.787967Z"
    }
   },
   "outputs": [
    {
     "data": {
      "text/plain": [
       "DeviceArray([[ 0.        ,  0.03217361],\n",
       "             [ 0.        , -1.2721817 ],\n",
       "             [ 0.        ,  0.5845848 ],\n",
       "             [ 0.        ,  0.577526  ]], dtype=float32)"
      ]
     },
     "execution_count": 14,
     "metadata": {},
     "output_type": "execute_result"
    }
   ],
   "source": [
    "# this does the same as the jax.vjp above\n",
    "jax_loss = jax.grad(loss)\n",
    "\n",
    "jax_loss(p0)  # dL/dp"
   ]
  },
  {
   "cell_type": "code",
   "execution_count": 15,
   "metadata": {
    "execution": {
     "iopub.execute_input": "2021-12-23T15:08:55.808202Z",
     "iopub.status.busy": "2021-12-23T15:08:55.806826Z",
     "iopub.status.idle": "2021-12-23T15:08:56.330971Z",
     "shell.execute_reply": "2021-12-23T15:08:56.332157Z"
    }
   },
   "outputs": [
    {
     "data": {
      "text/plain": [
       "DeviceArray([[ True,  True],\n",
       "             [ True,  True],\n",
       "             [ True,  True],\n",
       "             [ True,  True]], dtype=bool)"
      ]
     },
     "execution_count": 15,
     "metadata": {},
     "output_type": "execute_result"
    }
   ],
   "source": [
    "f_vjp_bonds(1.0)[0] == jax_loss(p0)  # dL/dp"
   ]
  },
  {
   "cell_type": "code",
   "execution_count": 16,
   "metadata": {
    "execution": {
     "iopub.execute_input": "2021-12-23T15:08:56.345467Z",
     "iopub.status.busy": "2021-12-23T15:08:56.344493Z",
     "iopub.status.idle": "2021-12-23T15:08:56.657845Z",
     "shell.execute_reply": "2021-12-23T15:08:56.658789Z"
    }
   },
   "outputs": [
    {
     "data": {
      "text/plain": [
       "(DeviceArray([[   0.      ,   12.008647],\n",
       "              [   0.      , -474.8358  ],\n",
       "              [   0.      ,  218.19348 ],\n",
       "              [   0.      ,  215.55882 ]], dtype=float32),)"
      ]
     },
     "execution_count": 16,
     "metadata": {},
     "output_type": "execute_result"
    }
   ],
   "source": [
    "# derivative of loss function evaluated at the original system parameters;\n",
    "# note that column 0 mathces target values, so the derivate is flat\n",
    "f_vjp_bonds(loss(q0))  # dL/dp (!) can be used as gradient in fitting"
   ]
  },
  {
   "cell_type": "code",
   "execution_count": 17,
   "metadata": {
    "execution": {
     "iopub.execute_input": "2021-12-23T15:08:56.666179Z",
     "iopub.status.busy": "2021-12-23T15:08:56.665210Z",
     "iopub.status.idle": "2021-12-23T15:09:48.283685Z",
     "shell.execute_reply": "2021-12-23T15:09:48.285163Z"
    }
   },
   "outputs": [
    {
     "name": "stdout",
     "output_type": "stream",
     "text": [
      "step 0\tloss: 0.8032218813896179\n",
      "step 10\tloss: 0.26887309551239014\n",
      "step 20\tloss: 0.26887327432632446\n",
      "step 30\tloss: 0.26887327432632446\n",
      "step 40\tloss: 0.26887327432632446\n",
      "step 50\tloss: 0.26887327432632446\n",
      "step 60\tloss: 0.26887327432632446\n",
      "step 70\tloss: 0.26887327432632446\n",
      "step 80\tloss: 0.26887327432632446\n",
      "step 90\tloss: 0.26887327432632446\n"
     ]
    },
    {
     "data": {
      "text/plain": [
       "(0.0, 1.5)"
      ]
     },
     "execution_count": 17,
     "metadata": {},
     "output_type": "execute_result"
    },
    {
     "data": {
      "image/png": "[encoded data removed]",
      "text/plain": [
       "<Figure size 432x288 with 1 Axes>"
      ]
     },
     "metadata": {
      "needs_background": "light"
     },
     "output_type": "display_data"
    }
   ],
   "source": [
    "fig, ax = plt.subplots()\n",
    "\n",
    "# label target values\n",
    "ax.hlines(p_target[0, 1], 0, 100, color=\"k\", ls=\"--\", label=\"[#6X4:1]-[#6X4:2]\")\n",
    "ax.hlines(p_target[1, 1], 0, 100, color=\"r\", ls=\"--\", label=\"[#6X4:1]-[#1:2]\")\n",
    "ax.hlines(p_target[2, 1], 0, 100, color=\"g\", ls=\"--\", label=\"[#6:1]-[#8:2]\")\n",
    "ax.hlines(p_target[3, 1], 0, 100, color=\"b\", ls=\"--\", label=\"[#8:1]-[#1:2]\")\n",
    "\n",
    "for i in range(100):\n",
    "    if i % 10 == 0:\n",
    "        print(f\"step {i}\\tloss: {loss(p)}\")\n",
    "        ax.plot(i, p[0][1], \"k.\")\n",
    "        ax.plot(i, p[1][1], \"r.\")\n",
    "        ax.plot(i, p[2][1], \"g.\")\n",
    "        ax.plot(i, p[3][1], \"b.\")\n",
    "\n",
    "    # use jax to get the gradient\n",
    "    _, f_vjp_bonds = jax.vjp(loss, p)\n",
    "    grad = f_vjp_bonds(1.0)[0]\n",
    "    # update force field parameters\n",
    "    p -= a * grad\n",
    "    # use the parametrization matrix to propagate new\n",
    "    # force field parameters into new system parameters\n",
    "    q = m.dot(p.flatten()).reshape((-1, 2))\n",
    "\n",
    "\n",
    "ax.legend(loc=0)\n",
    "ax.set_xlabel(\"iteration\")\n",
    "ax.set_ylabel(\"parameter value (bond length-ish)\")\n",
    "ax.set_xlim((0, 100))\n",
    "ax.set_ylim((0, 1.5))"
   ]
  },
  {
   "cell_type": "code",
   "execution_count": 18,
   "metadata": {
    "execution": {
     "iopub.execute_input": "2021-12-23T15:09:48.305829Z",
     "iopub.status.busy": "2021-12-23T15:09:48.305135Z",
     "iopub.status.idle": "2021-12-23T15:09:50.893043Z",
     "shell.execute_reply": "2021-12-23T15:09:50.894061Z"
    }
   },
   "outputs": [],
   "source": [
    "# We can do everything all over again with angles, almost identically\n",
    "angles = off_sys.handlers[\"Angles\"]\n",
    "q0 = angles.get_system_parameters()\n",
    "p0 = angles.get_force_field_parameters()\n",
    "mapping = angles.get_mapping()\n",
    "m = angles.get_param_matrix()\n",
    "q = q0\n",
    "p = p0\n",
    "a = 0.1\n",
    "\n",
    "q_target = deepcopy(q0)\n",
    "p_target = deepcopy(p0)\n",
    "p_target[:, 1] = np.random.randint(100, 120, 3)\n",
    "\n",
    "q_target = angles.parametrize(p_target)\n",
    "\n",
    "\n",
    "def loss(p):\n",
    "    return jnp.linalg.norm(angles.parametrize(p) - q_target)"
   ]
  },
  {
   "cell_type": "code",
   "execution_count": 19,
   "metadata": {
    "execution": {
     "iopub.execute_input": "2021-12-23T15:09:50.915557Z",
     "iopub.status.busy": "2021-12-23T15:09:50.905030Z",
     "iopub.status.idle": "2021-12-23T15:10:39.048409Z",
     "shell.execute_reply": "2021-12-23T15:10:39.049171Z"
    }
   },
   "outputs": [
    {
     "name": "stdout",
     "output_type": "stream",
     "text": [
      "step 0\tloss: 21.02607536315918\n",
      "step 10\tloss: 16.632198333740234\n",
      "step 20\tloss: 12.741817474365234\n",
      "step 30\tloss: 9.425061225891113\n",
      "step 40\tloss: 6.769171714782715\n",
      "step 50\tloss: 4.838072299957275\n",
      "step 60\tloss: 3.499711751937866\n",
      "step 70\tloss: 2.4333364963531494\n",
      "step 80\tloss: 1.4277300834655762\n",
      "step 90\tloss: 0.427642822265625\n"
     ]
    },
    {
     "data": {
      "text/plain": [
       "(100.0, 120.0)"
      ]
     },
     "execution_count": 19,
     "metadata": {},
     "output_type": "execute_result"
    },
    {
     "data": {
      "image/png": "[encoded data removed]",
      "text/plain": [
       "<Figure size 432x288 with 1 Axes>"
      ]
     },
     "metadata": {
      "needs_background": "light"
     },
     "output_type": "display_data"
    }
   ],
   "source": [
    "fig, ax = plt.subplots()\n",
    "\n",
    "# label target values\n",
    "ax.hlines(p_target[0, 1], 0, 100, color=\"k\", ls=\"--\", label=\"[*:1]~[#6X4:2]-[*:3]\")\n",
    "ax.hlines(p_target[1, 1], 0, 100, color=\"r\", ls=\"--\", label=\"[*:1]-[#8:2]-[*:3]\")\n",
    "ax.hlines(p_target[2, 1], 0, 100, color=\"g\", ls=\"--\", label=\"[#1:1]-[#6X4:2]-[#1:3]\")\n",
    "\n",
    "for i in range(100):\n",
    "    if i % 10 == 0:\n",
    "        print(f\"step {i}\\tloss: {loss(p)}\")\n",
    "        ax.plot(i, p[0][1], \"k.\")\n",
    "        ax.plot(i, p[1][1], \"r.\")\n",
    "        ax.plot(i, p[2][1], \"g.\")\n",
    "\n",
    "    # use jax to get the gradient\n",
    "    _, f_vjp_angles = jax.vjp(loss, p)\n",
    "    grad = f_vjp_angles(1.0)[0]\n",
    "    # update force field parameters\n",
    "    p -= a * grad\n",
    "    # print(p[0])\n",
    "    q = m.dot(p.flatten()).reshape((-1, 2))\n",
    "\n",
    "ax.legend(loc=0)\n",
    "ax.set_xlabel(\"iteration\")\n",
    "ax.set_ylabel(\"parameter value (angle-ish)\")\n",
    "ax.set_xlim((0, 100))\n",
    "ax.set_ylim((100, 120))"
   ]
  }
 ],
 "metadata": {
  "kernelspec": {
   "display_name": "Python 3 (ipykernel)",
   "language": "python",
   "name": "python3"
  },
  "language_info": {
   "codemirror_mode": {
    "name": "ipython",
    "version": 3
   },
   "file_extension": ".py",
   "mimetype": "text/x-python",
   "name": "python",
   "nbconvert_exporter": "python",
   "pygments_lexer": "ipython3",
   "version": "3.9.9"
  }
 },
 "nbformat": 4,
 "nbformat_minor": 4
}
