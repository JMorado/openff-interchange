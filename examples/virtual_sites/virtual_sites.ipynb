{
 "cells": [
  {
   "cell_type": "code",
   "execution_count": null,
   "metadata": {},
   "outputs": [],
   "source": [
    "import nglview\n",
    "from openff.toolkit import ForceField, Molecule\n",
    "from openff.units import Quantity, unit\n",
    "\n",
    "from openff.interchange.interop._virtual_sites import get_positions_with_virtual_sites\n",
    "\n",
    "sage_with_example_virtual_sites = ForceField(\n",
    "    \"openff-2.1.0.offxml\",\n",
    "    \"example-vsites-parameters-forcefield.offxml\",\n",
    ")\n",
    "sage_with_example_virtual_sites[\"VirtualSites\"].parameters[-1].distance *= 0.1\n",
    "\n",
    "sage_with_example_virtual_sites[\"VirtualSites\"].parameters[-1].distance"
   ]
  },
  {
   "cell_type": "code",
   "execution_count": null,
   "metadata": {},
   "outputs": [],
   "source": [
    "def run(smiles: str, force_field=sage_with_example_virtual_sites) -> nglview.NGLWidget:\n",
    "    import openmm\n",
    "    import openmm.unit\n",
    "\n",
    "    molecule = Molecule.from_smiles(smiles, allow_undefined_stereo=True)\n",
    "\n",
    "    if smiles == \"N\":\n",
    "        molecule._conformers = [\n",
    "            unit.Quantity(\n",
    "                [\n",
    "                    [0, 0, 1],\n",
    "                    [1, 0, 0],\n",
    "                    [-1, -1, 0],\n",
    "                    [-1, 1, 0],\n",
    "                ],\n",
    "                unit.angstrom,\n",
    "            )\n",
    "        ]\n",
    "    else:\n",
    "        molecule.generate_conformers(n_conformers=1)\n",
    "\n",
    "    interchange = force_field.create_interchange(molecule.to_topology())\n",
    "\n",
    "    return interchange._visualize_nglview(include_virtual_sites=True)\n",
    "    integrator = openmm.LangevinIntegrator(\n",
    "        300 * openmm.unit.kelvin,\n",
    "        1 / openmm.unit.picosecond,\n",
    "        1 * openmm.unit.femtoseconds,\n",
    "    )\n",
    "\n",
    "    simulation = interchange.to_openmm_simulation(integrator=integrator)\n",
    "\n",
    "    # simulation.context.setPositions(get_positions_with_virtual_sites(interchange).to_openmm())\n",
    "    simulation.context.computeVirtualSites()\n",
    "    simulation.minimizeEnergy()\n",
    "    simulation.context.setVelocitiesToTemperature(openmm.unit.kelvin * 300)\n",
    "    simulation.step(1000)\n",
    "\n",
    "    interchange.positions = simulation.context.getState(\n",
    "        getPositions=True\n",
    "    ).getPositions()\n",
    "\n",
    "    return interchange._visualize_nglview(include_virtual_sites=True)"
   ]
  },
  {
   "cell_type": "markdown",
   "metadata": {},
   "source": [
    "The first parameter is of type `BondCharge`, which places a virtual site along the axis of a bond. This was originally intended for use with halogens to better model sigma holes. In this case, a  virtual site is added $1.45 \\AA$ \"outside\" a carbon-chlorine bond."
   ]
  },
  {
   "cell_type": "code",
   "execution_count": null,
   "metadata": {},
   "outputs": [],
   "source": [
    "sage_with_example_virtual_sites[\"VirtualSites\"].get_parameter({\"name\": \"sigma_hole\"})[\n",
    "    0\n",
    "].to_dict()"
   ]
  },
  {
   "cell_type": "code",
   "execution_count": null,
   "metadata": {},
   "outputs": [],
   "source": [
    "run(\"CCCCCl\")"
   ]
  },
  {
   "cell_type": "markdown",
   "metadata": {},
   "source": [
    "Next is a parameter using `MonovalentLonePair`. In this case, a virtual site is added near the oxygen in a carbonyl. It is placed at an angle (`inPlaneAngle`) formed by the oxygen and carbon atoms of the carbonyl and in the plane defined by those atoms and the alpha carbon. If the parameter `outOfPlaneAngle` were non-zero, it would be placed at an angle out of that plane."
   ]
  },
  {
   "cell_type": "code",
   "execution_count": null,
   "metadata": {},
   "outputs": [],
   "source": [
    "sage_with_example_virtual_sites[\"VirtualSites\"].get_parameter(\n",
    "    {\"name\": \"planar_carbonyl\"}\n",
    ")[0].to_dict()"
   ]
  },
  {
   "cell_type": "code",
   "execution_count": null,
   "metadata": {},
   "outputs": [],
   "source": [
    "run(\"COC1=C(C=CC(=C1)C=O)O\")"
   ]
  },
  {
   "cell_type": "markdown",
   "metadata": {},
   "source": [
    "The next parameter completes a so-called four-site water model like TIP4P or OPC. A single virtual site is placed near the oxygen in the plane of the three atoms. This is implemented with the type `DivalentLonePair`, though it is possible to also implement it with `MonovalentLonePair`."
   ]
  },
  {
   "cell_type": "code",
   "execution_count": null,
   "metadata": {},
   "outputs": [],
   "source": [
    "sage_with_example_virtual_sites[\"VirtualSites\"].get_parameter({\"name\": \"4_site_water\"})[\n",
    "    0\n",
    "].to_dict()"
   ]
  },
  {
   "cell_type": "code",
   "execution_count": null,
   "metadata": {},
   "outputs": [],
   "source": [
    "run(\"O\")"
   ]
  },
  {
   "cell_type": "markdown",
   "metadata": {},
   "source": [
    "The next parameter uses `TrivalentLonePair` to model the lone pair of a trivalent nitrogen. It is written to match only ammonia - the other capturing atoms are all hydrogens - but a SMIRKS pattern could be written to match trivalent nitrogens in other chemistries. A virtual site is placed $5 \\AA$ away from the nitrogen atom, opposite a plane defined by the three hydrogen atoms. (You may need to rotate the molecule, using your cursor, to see the virtual site)."
   ]
  },
  {
   "cell_type": "code",
   "execution_count": null,
   "metadata": {},
   "outputs": [],
   "source": [
    "sage_with_example_virtual_sites[\"VirtualSites\"].get_parameter(\n",
    "    {\"name\": \"trivalent_nitrogen\"}\n",
    ")[0].to_dict()"
   ]
  },
  {
   "cell_type": "code",
   "execution_count": null,
   "metadata": {},
   "outputs": [],
   "source": [
    "run(\"N\")"
   ]
  },
  {
   "cell_type": "code",
   "execution_count": null,
   "metadata": {},
   "outputs": [],
   "source": [
    "# run(\"C1=CC(=CC2=C1O[C@H](CN[S](=O)(=O)N)CO2)Cl\")"
   ]
  },
  {
   "cell_type": "code",
   "execution_count": null,
   "metadata": {},
   "outputs": [],
   "source": [
    "Molecule.from_smiles(\n",
    "    \"C1=CC=CC=C1CC(C([O-])=O)N[S](=O)(=O)N\",\n",
    "    allow_undefined_stereo=True,\n",
    ")"
   ]
  },
  {
   "cell_type": "code",
   "execution_count": null,
   "metadata": {},
   "outputs": [],
   "source": [
    "run(\"CC=O\")"
   ]
  }
 ],
 "metadata": {
  "kernelspec": {
   "display_name": "Python 3 (ipykernel)",
   "language": "python",
   "name": "python3"
  },
  "language_info": {
   "codemirror_mode": {
    "name": "ipython",
    "version": 3
   },
   "file_extension": ".py",
   "mimetype": "text/x-python",
   "name": "python",
   "nbconvert_exporter": "python",
   "pygments_lexer": "ipython3",
   "version": "3.11.6"
  }
 },
 "nbformat": 4,
 "nbformat_minor": 4
}
