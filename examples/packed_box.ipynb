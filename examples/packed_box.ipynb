{
 "cells": [
  {
   "cell_type": "code",
   "execution_count": 1,
   "id": "40714e5a-2dce-44ca-a9b9-9c9abee01caa",
   "metadata": {
    "execution": {
     "iopub.execute_input": "2021-12-23T15:10:46.033877Z",
     "iopub.status.busy": "2021-12-23T15:10:46.032682Z",
     "iopub.status.idle": "2021-12-23T15:10:56.554081Z",
     "shell.execute_reply": "2021-12-23T15:10:56.554563Z"
    }
   },
   "outputs": [],
   "source": [
    "from pprint import pprint\n",
    "\n",
    "import numpy as np\n",
    "from openff.toolkit.topology import Molecule, Topology\n",
    "from openff.toolkit.typing.engines.smirnoff.forcefield import ForceField\n",
    "from openff.toolkit.utils import get_data_file_path\n",
    "from openff.units import unit\n",
    "from openmm import app\n",
    "from openmm import unit as openmm_unit\n",
    "\n",
    "from openff.interchange import Interchange"
   ]
  },
  {
   "cell_type": "code",
   "execution_count": 2,
   "id": "792ab4fc-baf0-4352-8f24-5dc0be3e5180",
   "metadata": {
    "execution": {
     "iopub.execute_input": "2021-12-23T15:10:56.560710Z",
     "iopub.status.busy": "2021-12-23T15:10:56.559677Z",
     "iopub.status.idle": "2021-12-23T15:10:57.042457Z",
     "shell.execute_reply": "2021-12-23T15:10:57.043424Z"
    },
    "tags": []
   },
   "outputs": [],
   "source": [
    "# Load a PDB file packaged with the OpenFF Toolkit\n",
    "pdbfile = app.PDBFile(\n",
    "    get_data_file_path(\"systems/packmol_boxes/propane_methane_butanol_0.2_0.3_0.5.pdb\")\n",
    ")"
   ]
  },
  {
   "cell_type": "code",
   "execution_count": 3,
   "id": "c8b95182-dd20-43be-9c3a-36e2440022ca",
   "metadata": {
    "execution": {
     "iopub.execute_input": "2021-12-23T15:10:57.052362Z",
     "iopub.status.busy": "2021-12-23T15:10:57.051330Z",
     "iopub.status.idle": "2021-12-23T15:24:31.208836Z",
     "shell.execute_reply": "2021-12-23T15:24:31.209351Z"
    }
   },
   "outputs": [],
   "source": [
    "# The OpenFF Topology currently requires that all molecular representations have\n",
    "# chemiformatics data not present in a PDB file, including bond orders and\n",
    "# stereochemistry. Therefore, Topology.from_openmm() requiures a list of\n",
    "# Molecule objects with this data to be passed through. For more, see\n",
    "# https://open-forcefield-toolkit.readthedocs.io/en/latest/api/generated/openff.toolkit.topology.Topology.html#openff.toolkit.topology.Topology.from_openmm)\n",
    "\n",
    "molecules = [Molecule.from_smiles(smi) for smi in [\"CCC\", \"C\", \"CCCCO\"]]\n",
    "topology = Topology.from_openmm(pdbfile.topology, unique_molecules=molecules)"
   ]
  },
  {
   "cell_type": "code",
   "execution_count": 4,
   "id": "40331ad6-f8f0-4eaf-ba77-8070293dbafa",
   "metadata": {
    "execution": {
     "iopub.execute_input": "2021-12-23T15:24:31.216019Z",
     "iopub.status.busy": "2021-12-23T15:24:31.215157Z",
     "iopub.status.idle": "2021-12-23T15:24:31.895250Z",
     "shell.execute_reply": "2021-12-23T15:24:31.895974Z"
    }
   },
   "outputs": [],
   "source": [
    "# Load in a mainline OpenFF force field\n",
    "sage = ForceField(\"openff-2.0.0.offxml\")"
   ]
  },
  {
   "cell_type": "code",
   "execution_count": 5,
   "id": "e7437723-5c17-4dc7-ad9b-cd98ad3ae6fd",
   "metadata": {
    "execution": {
     "iopub.execute_input": "2021-12-23T15:24:31.976948Z",
     "iopub.status.busy": "2021-12-23T15:24:31.938255Z",
     "iopub.status.idle": "2021-12-23T15:42:56.517707Z",
     "shell.execute_reply": "2021-12-23T15:42:56.519260Z"
    }
   },
   "outputs": [],
   "source": [
    "# Create an Interchange object\n",
    "out = Interchange.from_smirnoff(force_field=sage, topology=topology)"
   ]
  },
  {
   "cell_type": "code",
   "execution_count": 6,
   "id": "948afe33-1281-493b-afbb-b351d4af7b91",
   "metadata": {
    "execution": {
     "iopub.execute_input": "2021-12-23T15:42:56.534968Z",
     "iopub.status.busy": "2021-12-23T15:42:56.531312Z",
     "iopub.status.idle": "2021-12-23T15:42:56.556192Z",
     "shell.execute_reply": "2021-12-23T15:42:56.557398Z"
    }
   },
   "outputs": [],
   "source": [
    "# The OpenFF Topology represents a chemical graph without explicit positions, so\n",
    "# set the positions of the Interchange object with the positions in the PDB fiile\n",
    "out.positions = pdbfile.positions"
   ]
  },
  {
   "cell_type": "code",
   "execution_count": 7,
   "id": "8b1c0f1b-2da8-4a23-a5f6-e97158d919ab",
   "metadata": {
    "execution": {
     "iopub.execute_input": "2021-12-23T15:42:56.566970Z",
     "iopub.status.busy": "2021-12-23T15:42:56.565486Z",
     "iopub.status.idle": "2021-12-23T15:42:56.569157Z",
     "shell.execute_reply": "2021-12-23T15:42:56.569850Z"
    }
   },
   "outputs": [],
   "source": [
    "# Topology.from_openmm(), however, reads the periodic vectors from the PDB file and\n",
    "# Interchnage.from_smirnoff() uses these to set the .box attribute, so we don't need\n",
    "# to set it. But we can verify that they are equal\n",
    "assert np.allclose(\n",
    "    out.box.m_as(unit.nanometer),\n",
    "    pdbfile.topology.getPeriodicBoxVectors().value_in_unit(openmm_unit.nanometer),\n",
    ")"
   ]
  },
  {
   "cell_type": "code",
   "execution_count": 8,
   "id": "6b49e507-f19c-4945-bd7b-cc722e6dc03d",
   "metadata": {
    "execution": {
     "iopub.execute_input": "2021-12-23T15:42:56.577748Z",
     "iopub.status.busy": "2021-12-23T15:42:56.575253Z",
     "iopub.status.idle": "2021-12-23T16:27:11.018023Z",
     "shell.execute_reply": "2021-12-23T16:27:11.018532Z"
    }
   },
   "outputs": [
    {
     "name": "stderr",
     "output_type": "stream",
     "text": [
      "WARNING:absl:No GPU/TPU found, falling back to CPU. (Set TF_CPP_MIN_LOG_LEVEL=0 and rerun for more info.)\n"
     ]
    }
   ],
   "source": [
    "# The Interchange package includes a module for obtaining single-point energies of\n",
    "# Interchange objects by calling out to molecular mechanics engines. Here we query,\n",
    "# inspect, and compare the energies obtained via OpenMM and GROMACS\n",
    "from openff.interchange.drivers import (\n",
    "    get_gromacs_energies,\n",
    "    get_lammps_energies,\n",
    "    get_openmm_energies,\n",
    ")\n",
    "\n",
    "gromacs_energies = get_gromacs_energies(out)\n",
    "openmm_energies = get_openmm_energies(out)\n",
    "lammps_energies = get_lammps_energies(out)"
   ]
  },
  {
   "cell_type": "code",
   "execution_count": 9,
   "id": "5b58bf55-302b-464a-8d89-740bcfdb7803",
   "metadata": {
    "execution": {
     "iopub.execute_input": "2021-12-23T16:27:11.027811Z",
     "iopub.status.busy": "2021-12-23T16:27:11.025307Z",
     "iopub.status.idle": "2021-12-23T16:27:11.031216Z",
     "shell.execute_reply": "2021-12-23T16:27:11.031637Z"
    }
   },
   "outputs": [
    {
     "name": "stdout",
     "output_type": "stream",
     "text": [
      "Energies:\n",
      "\n",
      "Bond:          \t\t42.18247985839844 kJ / mol\n",
      "Angle:         \t\t17956.1171875 kJ / mol\n",
      "Torsion:       \t\t1310.050048828125 kJ / mol\n",
      "Nonbonded:     \t\tNone\n",
      "vdW:           \t\t-7173.355622467902 kJ / mol\n",
      "Electrostatics:\t\t-2839.989448849101 kJ / mol\n",
      "\n"
     ]
    }
   ],
   "source": [
    "print(openmm_energies)"
   ]
  },
  {
   "cell_type": "code",
   "execution_count": 10,
   "id": "6933beb9-48f9-407c-9289-e011b00cf28c",
   "metadata": {
    "execution": {
     "iopub.execute_input": "2021-12-23T16:27:11.037252Z",
     "iopub.status.busy": "2021-12-23T16:27:11.035704Z",
     "iopub.status.idle": "2021-12-23T16:27:11.039273Z",
     "shell.execute_reply": "2021-12-23T16:27:11.039758Z"
    }
   },
   "outputs": [
    {
     "name": "stdout",
     "output_type": "stream",
     "text": [
      "Energies:\n",
      "\n",
      "Bond:          \t\t42.18257141113281 kJ / mol\n",
      "Angle:         \t\t17956.171875 kJ / mol\n",
      "Torsion:       \t\t1310.049072265625 kJ / mol\n",
      "Nonbonded:     \t\tNone\n",
      "vdW:           \t\t-7173.39599609375 kJ / mol\n",
      "Electrostatics:\t\t-2841.615219116211 kJ / mol\n",
      "\n"
     ]
    }
   ],
   "source": [
    "print(gromacs_energies)"
   ]
  },
  {
   "cell_type": "code",
   "execution_count": 11,
   "id": "0176e44f-1f48-407c-b585-ad1460710320",
   "metadata": {
    "execution": {
     "iopub.execute_input": "2021-12-23T16:27:11.048628Z",
     "iopub.status.busy": "2021-12-23T16:27:11.047781Z",
     "iopub.status.idle": "2021-12-23T16:27:11.050656Z",
     "shell.execute_reply": "2021-12-23T16:27:11.051062Z"
    }
   },
   "outputs": [
    {
     "name": "stdout",
     "output_type": "stream",
     "text": [
      "Energies:\n",
      "\n",
      "Bond:          \t\t11.541868 kcalorie_per_mole\n",
      "Angle:         \t\t4291.6175 kcalorie_per_mole\n",
      "Torsion:       \t\t313.10955 kcalorie_per_mole\n",
      "Nonbonded:     \t\tNone\n",
      "vdW:           \t\t-1832.22855 kcalorie_per_mole\n",
      "Electrostatics:\t\t-678.79 kcalorie_per_mole\n",
      "\n"
     ]
    }
   ],
   "source": [
    "print(lammps_energies)"
   ]
  },
  {
   "cell_type": "code",
   "execution_count": 12,
   "id": "35e93c9b-7643-4742-ae31-d3d80c7ff8cc",
   "metadata": {
    "execution": {
     "iopub.execute_input": "2021-12-23T16:27:11.058859Z",
     "iopub.status.busy": "2021-12-23T16:27:11.057833Z",
     "iopub.status.idle": "2021-12-23T16:27:11.064426Z",
     "shell.execute_reply": "2021-12-23T16:27:11.065095Z"
    }
   },
   "outputs": [
    {
     "name": "stdout",
     "output_type": "stream",
     "text": [
      "{'Angle': <Quantity(-0.0546875, 'kilojoule / mole')>,\n",
      " 'Bond': <Quantity(-9.15527344e-05, 'kilojoule / mole')>,\n",
      " 'Electrostatics': <Quantity(1.62577027, 'kilojoule / mole')>,\n",
      " 'Torsion': <Quantity(0.0009765625, 'kilojoule / mole')>,\n",
      " 'vdW': <Quantity(0.0403736258, 'kilojoule / mole')>}\n"
     ]
    }
   ],
   "source": [
    "pprint(openmm_energies - gromacs_energies)"
   ]
  },
  {
   "cell_type": "code",
   "execution_count": 13,
   "id": "ab97cb6b-d0df-4356-a9a0-4ad5378503fd",
   "metadata": {
    "execution": {
     "iopub.execute_input": "2021-12-23T16:27:11.071059Z",
     "iopub.status.busy": "2021-12-23T16:27:11.070346Z",
     "iopub.status.idle": "2021-12-23T16:27:11.073083Z",
     "shell.execute_reply": "2021-12-23T16:27:11.073650Z"
    }
   },
   "outputs": [
    {
     "name": "stdout",
     "output_type": "stream",
     "text": [
      "{'Angle': <Quantity(-0.0104325, 'kilojoule / mole')>,\n",
      " 'Bond': <Quantity(-6.10869585, 'kilojoule / mole')>,\n",
      " 'Electrostatics': <Quantity(0.0679111509, 'kilojoule / mole')>,\n",
      " 'Torsion': <Quantity(-0.000308371875, 'kilojoule / mole')>,\n",
      " 'vdW': <Quantity(492.688631, 'kilojoule / mole')>}\n"
     ]
    }
   ],
   "source": [
    "pprint(openmm_energies - lammps_energies)"
   ]
  }
 ],
 "metadata": {
  "kernelspec": {
   "display_name": "Python 3 (ipykernel)",
   "language": "python",
   "name": "python3"
  },
  "language_info": {
   "codemirror_mode": {
    "name": "ipython",
    "version": 3
   },
   "file_extension": ".py",
   "mimetype": "text/x-python",
   "name": "python",
   "nbconvert_exporter": "python",
   "pygments_lexer": "ipython3",
   "version": "3.9.9"
  }
 },
 "nbformat": 4,
 "nbformat_minor": 5
}
