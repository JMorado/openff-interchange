{
 "cells": [
  {
   "cell_type": "markdown",
   "metadata": {},
   "source": [
    "## Generating an Interchange object parametrized with a SMIRNOFF force field\n",
    "\n",
    "This example shows how to generate parameterized `Iterchange` object from a SMIRNOFF force field.\n",
    "\n",
    "Note: This example is adopted from a similar example in the Open Force Field toolkit:  a simulation of an Interchange object parametrized with a SMIRNOFF force field. See [here](https://github.com/openforcefield/openff-toolkit/tree/3de67ca96265a3953c008e8e244c380d4aa81f2e/examples/SMIRNOFF_simulation) or a more recent version of the same example."
   ]
  },
  {
   "cell_type": "code",
   "execution_count": 1,
   "metadata": {
    "execution": {
     "iopub.execute_input": "2021-12-23T15:01:08.823239Z",
     "iopub.status.busy": "2021-12-23T15:01:08.819204Z",
     "iopub.status.idle": "2021-12-23T15:01:21.466415Z",
     "shell.execute_reply": "2021-12-23T15:01:21.466867Z"
    }
   },
   "outputs": [
    {
     "name": "stderr",
     "output_type": "stream",
     "text": [
      "Warning: importing 'simtk.openmm' is deprecated.  Import 'openmm' instead.\n"
     ]
    }
   ],
   "source": [
    "from openff.toolkit.topology import Molecule, Topology\n",
    "from openff.toolkit.typing.engines.smirnoff import ForceField\n",
    "from openff.toolkit.utils import get_data_file_path\n",
    "from simtk.openmm.app import PDBFile\n",
    "\n",
    "from openff.interchange import Interchange\n",
    "\n",
    "# First, grab some reference structures from the toolkit's test suite\n",
    "pdb_file_path = get_data_file_path(\"systems/test_systems/1_cyclohexane_1_ethanol.pdb\")\n",
    "pdbfile = PDBFile(pdb_file_path)\n",
    "\n",
    "ethanol = Molecule.from_smiles(\"CCO\")\n",
    "cyclohexane = Molecule.from_smiles(\"C1CCCCC1\")\n",
    "\n",
    "# Create the Open Force Field Topology from an OpenMM Topology object.\n",
    "omm_topology = pdbfile.topology\n",
    "off_topology = Topology.from_openmm(\n",
    "    omm_topology, unique_molecules=[ethanol, cyclohexane]\n",
    ")\n",
    "\n",
    "# Load the OpenFF \"Parsley\" force field.\n",
    "parsley = ForceField(\"openff-1.0.0.offxml\")"
   ]
  },
  {
   "cell_type": "code",
   "execution_count": 2,
   "metadata": {
    "execution": {
     "iopub.execute_input": "2021-12-23T15:01:21.490448Z",
     "iopub.status.busy": "2021-12-23T15:01:21.489798Z",
     "iopub.status.idle": "2021-12-23T15:01:27.681810Z",
     "shell.execute_reply": "2021-12-23T15:01:27.683016Z"
    }
   },
   "outputs": [],
   "source": [
    "# Create an Interchange object from the force field and topology objects\n",
    "interchange = Interchange.from_smirnoff(force_field=parsley, topology=off_topology)"
   ]
  },
  {
   "cell_type": "code",
   "execution_count": 3,
   "metadata": {
    "execution": {
     "iopub.execute_input": "2021-12-23T15:01:27.726581Z",
     "iopub.status.busy": "2021-12-23T15:01:27.716744Z",
     "iopub.status.idle": "2021-12-23T15:01:28.874459Z",
     "shell.execute_reply": "2021-12-23T15:01:28.874991Z"
    }
   },
   "outputs": [],
   "source": [
    "# Convert the OpenFF Interchange object to an OpenMM System\n",
    "openmm_sys = interchange.to_openmm(combine_nonbonded_forces=True)"
   ]
  },
  {
   "cell_type": "markdown",
   "metadata": {},
   "source": [
    "\n",
    "### Run a simulation\n",
    "\n",
    "We can now use the `openmm.System` object to run molecular dynamics trajectories with OpenMM."
   ]
  },
  {
   "cell_type": "code",
   "execution_count": 4,
   "metadata": {
    "execution": {
     "iopub.execute_input": "2021-12-23T15:01:30.082428Z",
     "iopub.status.busy": "2021-12-23T15:01:30.081733Z",
     "iopub.status.idle": "2021-12-23T15:01:30.089373Z",
     "shell.execute_reply": "2021-12-23T15:01:30.090202Z"
    }
   },
   "outputs": [],
   "source": [
    "from simtk import openmm, unit\n",
    "\n",
    "# Propagate the system with Langevin dynamics.\n",
    "time_step = 2 * unit.femtoseconds  # simulation timestep\n",
    "temperature = 300 * unit.kelvin  # simulation temperature\n",
    "friction = 1 / unit.picosecond  # collision rate\n",
    "integrator = openmm.LangevinIntegrator(temperature, friction, time_step)\n",
    "\n",
    "# Length of the simulation.\n",
    "num_steps = 1000  # number of integration steps to run\n",
    "\n",
    "# Logging options.\n",
    "trj_freq = 1  # number of steps per written trajectory frame\n",
    "data_freq = 1  # number of steps per written simulation statistics\n",
    "\n",
    "# Set up an OpenMM simulation.\n",
    "simulation = openmm.app.Simulation(omm_topology, openmm_sys, integrator)\n",
    "\n",
    "# Set the initial positions.\n",
    "positions = pdbfile.getPositions()\n",
    "simulation.context.setPositions(positions)\n",
    "\n",
    "# Randomize the velocities from a Boltzmann distribution at a given temperature.\n",
    "simulation.context.setVelocitiesToTemperature(temperature)\n",
    "\n",
    "# Configure the information in the output files.\n",
    "pdb_reporter = openmm.app.PDBReporter(\"trajectory.pdb\", trj_freq)\n",
    "state_data_reporter = openmm.app.StateDataReporter(\n",
    "    \"data.csv\",\n",
    "    data_freq,\n",
    "    step=True,\n",
    "    potentialEnergy=True,\n",
    "    temperature=True,\n",
    "    density=True,\n",
    ")\n",
    "simulation.reporters.append(pdb_reporter)\n",
    "simulation.reporters.append(state_data_reporter)"
   ]
  },
  {
   "cell_type": "code",
   "execution_count": 5,
   "metadata": {
    "execution": {
     "iopub.execute_input": "2021-12-23T15:01:30.095412Z",
     "iopub.status.busy": "2021-12-23T15:01:30.094712Z",
     "iopub.status.idle": "2021-12-23T15:02:51.538970Z",
     "shell.execute_reply": "2021-12-23T15:02:51.540370Z"
    }
   },
   "outputs": [
    {
     "name": "stdout",
     "output_type": "stream",
     "text": [
      "Starting simulation\n",
      "Elapsed time 5.63 seconds\n",
      "Done!\n"
     ]
    }
   ],
   "source": [
    "import time\n",
    "\n",
    "print(\"Starting simulation\")\n",
    "start = time.process_time()\n",
    "\n",
    "# Run the simulation\n",
    "simulation.step(num_steps)\n",
    "\n",
    "end = time.process_time()\n",
    "print(\"Elapsed time %.2f seconds\" % (end - start))\n",
    "print(\"Done!\")"
   ]
  },
  {
   "cell_type": "markdown",
   "metadata": {},
   "source": [
    "If successful, the directory where your jupyter notebook is running should contain a `trajectory.pdb` file that you can visualize and a `data.csv` file including potential energy, density, and temperature of each frame."
   ]
  }
 ],
 "metadata": {
  "kernelspec": {
   "display_name": "Python 3 (ipykernel)",
   "language": "python",
   "name": "python3"
  },
  "language_info": {
   "codemirror_mode": {
    "name": "ipython",
    "version": 3
   },
   "file_extension": ".py",
   "mimetype": "text/x-python",
   "name": "python",
   "nbconvert_exporter": "python",
   "pygments_lexer": "ipython3",
   "version": "3.9.9"
  }
 },
 "nbformat": 4,
 "nbformat_minor": 4
}
