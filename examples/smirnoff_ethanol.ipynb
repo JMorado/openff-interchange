{
 "cells": [
  {
   "cell_type": "code",
   "execution_count": 1,
   "metadata": {
    "execution": {
     "iopub.execute_input": "2021-12-23T16:27:55.474613Z",
     "iopub.status.busy": "2021-12-23T16:27:55.473904Z",
     "iopub.status.idle": "2021-12-23T16:27:59.801703Z",
     "shell.execute_reply": "2021-12-23T16:27:59.802147Z"
    }
   },
   "outputs": [],
   "source": [
    "import numpy as np\n",
    "from openff.toolkit.topology import Molecule, Topology\n",
    "from openff.toolkit.typing.engines.smirnoff import ForceField\n",
    "\n",
    "from openff.interchange import Interchange\n",
    "from openff.interchange.models import PotentialKey, TopologyKey\n",
    "from openff.interchange.tests import get_test_file_path"
   ]
  },
  {
   "cell_type": "code",
   "execution_count": 2,
   "metadata": {
    "execution": {
     "iopub.execute_input": "2021-12-23T16:27:59.807028Z",
     "iopub.status.busy": "2021-12-23T16:27:59.806366Z",
     "iopub.status.idle": "2021-12-23T16:28:00.352012Z",
     "shell.execute_reply": "2021-12-23T16:28:00.352420Z"
    }
   },
   "outputs": [],
   "source": [
    "# Load in a mainline OpenFF forcefield and construct a minimal ethanol topology\n",
    "parsley = ForceField(\"openff-1.0.0.offxml\")\n",
    "\n",
    "top = Topology.from_molecules(2 * [Molecule.from_smiles(\"CCO\")])"
   ]
  },
  {
   "cell_type": "code",
   "execution_count": 3,
   "metadata": {
    "execution": {
     "iopub.execute_input": "2021-12-23T16:28:00.380765Z",
     "iopub.status.busy": "2021-12-23T16:28:00.379776Z",
     "iopub.status.idle": "2021-12-23T16:28:02.175714Z",
     "shell.execute_reply": "2021-12-23T16:28:02.177216Z"
    }
   },
   "outputs": [],
   "source": [
    "# Use a monkey-patched function to parametrize the topology against a force field\n",
    "sys_out = Interchange.from_smirnoff(force_field=parsley, topology=top)"
   ]
  },
  {
   "cell_type": "code",
   "execution_count": 4,
   "metadata": {
    "execution": {
     "iopub.execute_input": "2021-12-23T16:28:02.186067Z",
     "iopub.status.busy": "2021-12-23T16:28:02.185451Z",
     "iopub.status.idle": "2021-12-23T16:28:02.187760Z",
     "shell.execute_reply": "2021-12-23T16:28:02.188134Z"
    }
   },
   "outputs": [
    {
     "data": {
      "text/plain": [
       "dict_keys(['Bonds', 'Constraints', 'Angles', 'ProperTorsions', 'ImproperTorsions', 'vdW', 'Electrostatics'])"
      ]
     },
     "execution_count": 4,
     "metadata": {},
     "output_type": "execute_result"
    }
   ],
   "source": [
    "# Look at which ParameterHandler objects from the OpenFF toolkit\n",
    "# have been made into Potentialhandler objects\n",
    "sys_out.handlers.keys()"
   ]
  },
  {
   "cell_type": "code",
   "execution_count": 5,
   "metadata": {
    "execution": {
     "iopub.execute_input": "2021-12-23T16:28:02.191389Z",
     "iopub.status.busy": "2021-12-23T16:28:02.190840Z",
     "iopub.status.idle": "2021-12-23T16:28:02.195113Z",
     "shell.execute_reply": "2021-12-23T16:28:02.194655Z"
    }
   },
   "outputs": [],
   "source": [
    "# Store the bond handler to inspect its contents\n",
    "bonds = sys_out.handlers[\"Bonds\"]"
   ]
  },
  {
   "cell_type": "code",
   "execution_count": 6,
   "metadata": {
    "execution": {
     "iopub.execute_input": "2021-12-23T16:28:02.199672Z",
     "iopub.status.busy": "2021-12-23T16:28:02.198929Z",
     "iopub.status.idle": "2021-12-23T16:28:02.201348Z",
     "shell.execute_reply": "2021-12-23T16:28:02.201721Z"
    }
   },
   "outputs": [
    {
     "data": {
      "text/plain": [
       "('Bonds', 'k/2*(r-length)**2', {'r'})"
      ]
     },
     "execution_count": 6,
     "metadata": {},
     "output_type": "execute_result"
    }
   ],
   "source": [
    "# Look at some ~metadata\n",
    "bonds.type, bonds.expression, bonds.independent_variables"
   ]
  },
  {
   "cell_type": "code",
   "execution_count": 7,
   "metadata": {
    "execution": {
     "iopub.execute_input": "2021-12-23T16:28:02.206210Z",
     "iopub.status.busy": "2021-12-23T16:28:02.205499Z",
     "iopub.status.idle": "2021-12-23T16:28:02.207938Z",
     "shell.execute_reply": "2021-12-23T16:28:02.208419Z"
    }
   },
   "outputs": [
    {
     "data": {
      "text/plain": [
       "{TopologyKey(atom_indices=(0, 1), mult=None, bond_order=None): PotentialKey(id='[#6X4:1]-[#6X4:2]', mult=None, associated_handler='Bonds', bond_order=None),\n",
       " TopologyKey(atom_indices=(0, 3), mult=None, bond_order=None): PotentialKey(id='[#6X4:1]-[#1:2]', mult=None, associated_handler='Bonds', bond_order=None),\n",
       " TopologyKey(atom_indices=(0, 4), mult=None, bond_order=None): PotentialKey(id='[#6X4:1]-[#1:2]', mult=None, associated_handler='Bonds', bond_order=None),\n",
       " TopologyKey(atom_indices=(0, 5), mult=None, bond_order=None): PotentialKey(id='[#6X4:1]-[#1:2]', mult=None, associated_handler='Bonds', bond_order=None),\n",
       " TopologyKey(atom_indices=(1, 2), mult=None, bond_order=None): PotentialKey(id='[#6:1]-[#8:2]', mult=None, associated_handler='Bonds', bond_order=None),\n",
       " TopologyKey(atom_indices=(1, 6), mult=None, bond_order=None): PotentialKey(id='[#6X4:1]-[#1:2]', mult=None, associated_handler='Bonds', bond_order=None),\n",
       " TopologyKey(atom_indices=(1, 7), mult=None, bond_order=None): PotentialKey(id='[#6X4:1]-[#1:2]', mult=None, associated_handler='Bonds', bond_order=None),\n",
       " TopologyKey(atom_indices=(2, 8), mult=None, bond_order=None): PotentialKey(id='[#8:1]-[#1:2]', mult=None, associated_handler='Bonds', bond_order=None),\n",
       " TopologyKey(atom_indices=(9, 10), mult=None, bond_order=None): PotentialKey(id='[#6X4:1]-[#6X4:2]', mult=None, associated_handler='Bonds', bond_order=None),\n",
       " TopologyKey(atom_indices=(9, 12), mult=None, bond_order=None): PotentialKey(id='[#6X4:1]-[#1:2]', mult=None, associated_handler='Bonds', bond_order=None),\n",
       " TopologyKey(atom_indices=(9, 13), mult=None, bond_order=None): PotentialKey(id='[#6X4:1]-[#1:2]', mult=None, associated_handler='Bonds', bond_order=None),\n",
       " TopologyKey(atom_indices=(9, 14), mult=None, bond_order=None): PotentialKey(id='[#6X4:1]-[#1:2]', mult=None, associated_handler='Bonds', bond_order=None),\n",
       " TopologyKey(atom_indices=(10, 11), mult=None, bond_order=None): PotentialKey(id='[#6:1]-[#8:2]', mult=None, associated_handler='Bonds', bond_order=None),\n",
       " TopologyKey(atom_indices=(10, 15), mult=None, bond_order=None): PotentialKey(id='[#6X4:1]-[#1:2]', mult=None, associated_handler='Bonds', bond_order=None),\n",
       " TopologyKey(atom_indices=(10, 16), mult=None, bond_order=None): PotentialKey(id='[#6X4:1]-[#1:2]', mult=None, associated_handler='Bonds', bond_order=None),\n",
       " TopologyKey(atom_indices=(11, 17), mult=None, bond_order=None): PotentialKey(id='[#8:1]-[#1:2]', mult=None, associated_handler='Bonds', bond_order=None)}"
      ]
     },
     "execution_count": 7,
     "metadata": {},
     "output_type": "execute_result"
    }
   ],
   "source": [
    "# Return a mapping between atom indices and SMIRKS identifiers\n",
    "bonds.slot_map"
   ]
  },
  {
   "cell_type": "code",
   "execution_count": 8,
   "metadata": {
    "execution": {
     "iopub.execute_input": "2021-12-23T16:28:02.214401Z",
     "iopub.status.busy": "2021-12-23T16:28:02.213734Z",
     "iopub.status.idle": "2021-12-23T16:28:02.216776Z",
     "shell.execute_reply": "2021-12-23T16:28:02.217162Z"
    }
   },
   "outputs": [
    {
     "data": {
      "text/plain": [
       "{PotentialKey(id='[#6X4:1]-[#6X4:2]', mult=None, associated_handler='Bonds', bond_order=None): Potential(parameters={'k': <Quantity(531.137374, 'kilocalorie / angstrom ** 2 / mole')>, 'length': <Quantity(1.5203759, 'angstrom')>}, map_key=None),\n",
       " PotentialKey(id='[#6X4:1]-[#1:2]', mult=None, associated_handler='Bonds', bond_order=None): Potential(parameters={'k': <Quantity(758.093177, 'kilocalorie / angstrom ** 2 / mole')>, 'length': <Quantity(1.09288838, 'angstrom')>}, map_key=None),\n",
       " PotentialKey(id='[#6:1]-[#8:2]', mult=None, associated_handler='Bonds', bond_order=None): Potential(parameters={'k': <Quantity(669.141517, 'kilocalorie / angstrom ** 2 / mole')>, 'length': <Quantity(1.41428792, 'angstrom')>}, map_key=None),\n",
       " PotentialKey(id='[#8:1]-[#1:2]', mult=None, associated_handler='Bonds', bond_order=None): Potential(parameters={'k': <Quantity(1120.58324, 'kilocalorie / angstrom ** 2 / mole')>, 'length': <Quantity(0.970768759, 'angstrom')>}, map_key=None)}"
      ]
     },
     "execution_count": 8,
     "metadata": {},
     "output_type": "execute_result"
    }
   ],
   "source": [
    "# Return a mapping between SMIRKS identifiers and Potential objects;\n",
    "# Note the de-duplication, resulting from a many-to-few mapping between\n",
    "# bonds in the topology and unique parameters in the force field\n",
    "bonds.potentials"
   ]
  },
  {
   "cell_type": "code",
   "execution_count": 9,
   "metadata": {
    "execution": {
     "iopub.execute_input": "2021-12-23T16:28:02.221859Z",
     "iopub.status.busy": "2021-12-23T16:28:02.221199Z",
     "iopub.status.idle": "2021-12-23T16:28:02.223493Z",
     "shell.execute_reply": "2021-12-23T16:28:02.224044Z"
    }
   },
   "outputs": [
    {
     "data": {
      "text/plain": [
       "Potential(parameters={'k': <Quantity(758.093177, 'kilocalorie / angstrom ** 2 / mole')>, 'length': <Quantity(1.09288838, 'angstrom')>}, map_key=None)"
      ]
     },
     "execution_count": 9,
     "metadata": {},
     "output_type": "execute_result"
    }
   ],
   "source": [
    "# Look at this contents of one of the Potential objects\n",
    "potential_key = PotentialKey(id=\"[#6X4:1]-[#1:2]\", associated_handler=\"Bonds\")\n",
    "bonds.potentials[potential_key]"
   ]
  },
  {
   "cell_type": "code",
   "execution_count": 10,
   "metadata": {
    "execution": {
     "iopub.execute_input": "2021-12-23T16:28:02.229727Z",
     "iopub.status.busy": "2021-12-23T16:28:02.228839Z",
     "iopub.status.idle": "2021-12-23T16:28:02.231556Z",
     "shell.execute_reply": "2021-12-23T16:28:02.231933Z"
    }
   },
   "outputs": [
    {
     "data": {
      "text/html": [
       "758.0931772913 kcal/(mol Å<sup>2</sup>)"
      ],
      "text/latex": [
       "$758.0931772913\\ \\frac{\\mathrm{kcal}}{\\left(\\mathrm{mol} \\cdot \\mathrm{Å}^{2}\\right)}$"
      ],
      "text/plain": [
       "758.0931772913 <Unit('kilocalorie / angstrom ** 2 / mole')>"
      ]
     },
     "execution_count": 10,
     "metadata": {},
     "output_type": "execute_result"
    }
   ],
   "source": [
    "# Further, look at the particular value of one of its parameters\n",
    "bonds.potentials[potential_key].parameters[\"k\"]"
   ]
  },
  {
   "cell_type": "code",
   "execution_count": 11,
   "metadata": {
    "execution": {
     "iopub.execute_input": "2021-12-23T16:28:02.237578Z",
     "iopub.status.busy": "2021-12-23T16:28:02.236888Z",
     "iopub.status.idle": "2021-12-23T16:28:02.239587Z",
     "shell.execute_reply": "2021-12-23T16:28:02.239964Z"
    }
   },
   "outputs": [
    {
     "data": {
      "text/html": [
       "758.0931772913 kcal/(mol Å<sup>2</sup>)"
      ],
      "text/latex": [
       "$758.0931772913\\ \\frac{\\mathrm{kcal}}{\\left(\\mathrm{mol} \\cdot \\mathrm{Å}^{2}\\right)}$"
      ],
      "text/plain": [
       "758.0931772913 <Unit('kilocalorie / angstrom ** 2 / mole')>"
      ]
     },
     "execution_count": 11,
     "metadata": {},
     "output_type": "execute_result"
    }
   ],
   "source": [
    "# Look up, from the highest-level object, this same data, using the\n",
    "# SMIRKS pattern as a key connecting the topological data to the\n",
    "# parametrized data\n",
    "topology_key = TopologyKey(atom_indices=(1, 7))\n",
    "sys_out.handlers[\"Bonds\"].potentials[\n",
    "    sys_out.handlers[\"Bonds\"].slot_map[topology_key]\n",
    "].parameters[\"k\"]"
   ]
  }
 ],
 "metadata": {
  "kernelspec": {
   "display_name": "Python 3 (ipykernel)",
   "language": "python",
   "name": "python3"
  },
  "language_info": {
   "codemirror_mode": {
    "name": "ipython",
    "version": 3
   },
   "file_extension": ".py",
   "mimetype": "text/x-python",
   "name": "python",
   "nbconvert_exporter": "python",
   "pygments_lexer": "ipython3",
   "version": "3.9.9"
  }
 },
 "nbformat": 4,
 "nbformat_minor": 4
}
