{
 "cells": [
  {
   "cell_type": "markdown",
   "metadata": {},
   "source": [
    "# Simulating an Interchange with LAMMPS\n",
    "\n",
    "<details>\n",
    "    <summary><small>▼ Click here for dependency installation instructions</small></summary>\n",
    "    The simplest way to install dependencies is to use the Interchange examples environment. From the root of the cloned openff-interchange repository:\n",
    "    \n",
    "    conda env create --name interchange-examples --file devtools/conda-envs/examples_env.yaml \n",
    "    conda activate interchange-examples\n",
    "    pip install -e .\n",
    "    cd examples/lammps\n",
    "    jupyter notebook lammps.ipynb\n",
    "    \n",
    "</details>\n",
    "\n",
    "In this example, we'll quickly construct an `Interchange` and then run a simulation in LAMMPS. "
   ]
  },
  {
   "cell_type": "markdown",
   "metadata": {},
   "source": [
    "We need an `Interchange` to get started, so let's put that together quickly. For more explanation on this process, take a look at the [packed_box] and [protein_ligand] examples.\n",
    "\n",
    "[packed_box]: https://github.com/openforcefield/openff-interchange/tree/main/examples/packed_box\n",
    "[protein_ligand]: https://github.com/openforcefield/openff-interchange/tree/main/examples/protein_ligand"
   ]
  },
  {
   "cell_type": "code",
   "execution_count": 2,
   "metadata": {},
   "outputs": [],
   "source": [
    "import time\n",
    "\n",
    "import mdtraj as md\n",
    "import nglview\n",
    "from lammps import lammps\n",
    "from openff.toolkit.topology import Molecule, Topology\n",
    "from openff.toolkit.typing.engines.smirnoff import ForceField\n",
    "from openff.toolkit.utils import get_data_file_path\n",
    "from openff.units import unit\n",
    "from openmm.app import PDBFile\n",
    "from pandas import read_csv\n",
    "\n",
    "from openff.interchange import Interchange\n",
    "from openff.interchange.components.mdconfig import MDConfig\n",
    "\n",
    "# Read a structure from the Toolkit's test suite into a Topology\n",
    "pdbfile = PDBFile(\n",
    "    get_data_file_path(\"systems/packmol_boxes/propane_methane_butanol_0.2_0.3_0.5.pdb\")\n",
    ")\n",
    "molecules = [Molecule.from_smiles(smi) for smi in [\"CCC\", \"C\", \"CCCCO\"]]\n",
    "off_topology = Topology.from_openmm(pdbfile.topology, unique_molecules=molecules)\n",
    "\n",
    "# Construct the Interchange with the OpenFF \"Sage\" force field\n",
    "interchange = Interchange.from_smirnoff(\n",
    "    force_field=ForceField(\"openff-2.0.0.offxml\"),\n",
    "    topology=off_topology,\n",
    ")\n",
    "interchange.positions = pdbfile.positions"
   ]
  },
  {
   "cell_type": "markdown",
   "metadata": {},
   "source": [
    "Tada! A beautiful solvent system:"
   ]
  },
  {
   "cell_type": "code",
   "execution_count": 3,
   "metadata": {},
   "outputs": [
    {
     "data": {
      "application/vnd.jupyter.widget-view+json": {
       "model_id": "178942d2dae447b1829c023cd8469343",
       "version_major": 2,
       "version_minor": 0
      },
      "text/plain": [
       "NGLWidget()"
      ]
     },
     "metadata": {},
     "output_type": "display_data"
    }
   ],
   "source": [
    "interchange.visualize(\"nglview\")"
   ]
  },
  {
   "cell_type": "markdown",
   "metadata": {},
   "source": [
    "\n",
    "## Run a simulation\n",
    "\n"
   ]
  },
  {
   "cell_type": "markdown",
   "metadata": {},
   "source": [
    "First, we export a `.lmp` file that can be read by LAMMPS' `read_data` command:"
   ]
  },
  {
   "cell_type": "code",
   "execution_count": 4,
   "metadata": {},
   "outputs": [],
   "source": [
    "interchange.to_lammps(\"interchange.lmp\")"
   ]
  },
  {
   "cell_type": "markdown",
   "metadata": {},
   "source": [
    "Now we need to write an input file for LAMMPS. Parts of these input files depend on force field parameters, so we should use a sample input file written for our interchange as a starting point. We can generate such a sample file from `MDConfig`:"
   ]
  },
  {
   "cell_type": "code",
   "execution_count": 6,
   "metadata": {},
   "outputs": [
    {
     "name": "stdout",
     "output_type": "stream",
     "text": [
      "units real\n",
      "atom_style full\n",
      "\n",
      "dimension 3\n",
      "boundary p p p\n",
      "\n",
      "bond_style hybrid harmonic\n",
      "angle_style hybrid harmonic\n",
      "dihedral_style hybrid fourier\n",
      "improper_style cvff\n",
      "special_bonds lj 0 0.5 1 coul 0 0.8333333333 1\n",
      "\n",
      "pair_style lj/cut/coul/long 9.0 9.0\n",
      "pair_modify mix arithmetic tail yes\n",
      "\n",
      "read_data out.lmp\n",
      "\n",
      "thermo_style custom ebond eangle edihed eimp epair evdwl ecoul elong etail pe\n",
      "\n",
      "kspace_style pppm 1e-6\n",
      "run 0\n",
      "\n"
     ]
    }
   ],
   "source": [
    "mdconfig = MDConfig.from_interchange(interchange)\n",
    "mdconfig.write_lammps_input(input_file=\"auto_generated.in\")\n",
    "with open(\"auto_generated.in\") as f:\n",
    "    print(f.read())"
   ]
  },
  {
   "cell_type": "markdown",
   "metadata": {},
   "source": [
    "That sample file will only perform a single point energy calculation; here's a more complete file that includes the above parameters but will run an actual MD simulation. \n",
    "\n",
    "<div class=\"alert alert-warning\" style=\"max-width: 700px; margin-left: auto; margin-right: auto;\">\n",
    "    <b>⚠️ Don't use example input files in production</b><br />\n",
    "    Note that this is still just an example! You should carefully write and inspect input files for all production simulations.\n",
    "</div>"
   ]
  },
  {
   "cell_type": "code",
   "execution_count": 23,
   "metadata": {},
   "outputs": [],
   "source": [
    "lammps_in = \"\"\" # These commands may not be appropriate for all systems\n",
    "units real\n",
    "atom_style full\n",
    "\n",
    "# PBC in 3 dimensions\n",
    "dimension 3\n",
    "boundary p p p\n",
    "\n",
    "# Bonded interactions in Sage force field\n",
    "bond_style hybrid harmonic\n",
    "angle_style hybrid harmonic\n",
    "dihedral_style hybrid fourier\n",
    "improper_style cvff\n",
    "special_bonds lj 0.0 0.0 0.5 coul 0.0 0.0 0.8333333333\n",
    "# special_bonds lj 0 0.5 1 coul 0 0.8333333333 1\n",
    "\n",
    "# Non-bonded interactions in Sage force field\n",
    "pair_style lj/cut/coul/long 9.0 9.0\n",
    "pair_modify mix arithmetic tail yes\n",
    "\n",
    "# Load the parameterized system\n",
    "read_data interchange.lmp\n",
    "\n",
    "# Thermostat and velocity generation\n",
    "fix 3 all nvt temp 300.0 300.0 500\n",
    "velocity all create 300.0 29348 mom yes rot yes\n",
    "\n",
    "# Output control\n",
    "dump traj all dcd 10 traj.dcd\n",
    "thermo_style custom ebond eangle edihed eimp epair evdwl ecoul elong etail pe\n",
    "\n",
    "# PME electrostatics in Sage force field\n",
    "kspace_style pppm 1e-6\n",
    "\n",
    "# Run for 1000 steps at 2 fs δt\n",
    "timestep 2\n",
    "run 1000\n",
    "\n",
    "\"\"\"\n",
    "\n",
    "with open(\"lammps.in\", \"w\") as f:\n",
    "    f.write(lammps_in)"
   ]
  },
  {
   "cell_type": "markdown",
   "metadata": {},
   "source": [
    "We'll use LAMMPS' Python interface to run the simulation. `lmp.file(\"lammps.in\")` is equivalent to `lammps -in lammps.in` on the command line. This will run in serial, which is fine for so few steps and such a small system."
   ]
  },
  {
   "cell_type": "code",
   "execution_count": 24,
   "metadata": {},
   "outputs": [
    {
     "name": "stdout",
     "output_type": "stream",
     "text": [
      "max angles/atom\n",
      "  scanning dihedrals ...\n",
      "  12 = max dihedrals/atom\n",
      "  reading bonds ...\n",
      "  3468 bonds\n",
      "  reading angles ...\n",
      "  6086 angles\n",
      "  reading dihedrals ...\n",
      "  7174 dihedrals\n",
      "Finding 1-2 1-3 1-4 neighbors ...\n",
      "  special bond factors lj:    0        0.5      1       \n",
      "  special bond factors coul:  0        0.8333333333 1       \n",
      "     4 = max # of 1-2 neighbors\n",
      "     6 = max # of 1-3 neighbors\n",
      "    10 = max # of special neighbors\n",
      "  special bonds CPU = 0.001 seconds\n",
      "  read_data CPU = 0.017 seconds\n",
      "PPPM initialization ...\n",
      "  using 12-bit tables for long-range coulomb (src/kspace.cpp:340)\n",
      "  G vector (1/distance) = 0.33515339\n",
      "  grid = 32 32 32\n",
      "  stencil order = 5\n",
      "  estimated absolute RMS force accuracy = 0.00028210222\n",
      "  estimated relative force accuracy = 8.4954247e-07\n",
      "  using double precision FFTW3\n",
      "  3d grid and FFT values/proc = 59319 32768\n",
      "Neighbor list info ...\n",
      "  update every 1 steps, delay 10 steps, check yes\n",
      "  max neighbors/atom: 2000, page size: 100000\n",
      "  master list distance cutoff = 11\n",
      "  ghost atom cutoff = 11\n",
      "  binsize = 5.5, bins = 7 7 7\n",
      "  1 neighbor lists, perpetual/occasional/extra = 1 0 0\n",
      "  (1) pair lj/cut/coul/long, perpetual\n",
      "      attributes: half, newton on\n",
      "      pair build: half/bin/newton/tri\n",
      "      stencil: half/bin/3d/tri\n",
      "      bin: standard\n",
      "Setting up Verlet run ...\n",
      "  Unit style    : real\n",
      "  Current step  : 0\n",
      "  Time step     : 2\n",
      "Per MPI rank memory allocation (min/avg/max) = 23.95 | 23.95 | 23.95 Mbytes\n",
      "E_bond E_angle E_dihed E_impro E_pair E_vdwl E_coul E_long E_tail PotEng \n",
      "   11.541868    4291.6175    313.10955            0    22259.885     21839.31    6677.6743   -6257.0989   -116.79125    26876.154 \n",
      "ERROR on proc 0: Out of range atoms - cannot compute PPPM (src/KSPACE/pppm.cpp:1891)\n",
      "LAMMPS (29 Sep 2021)\n",
      "OMP_NUM_THREADS environment is not set. Defaulting to 1 thread. (src/comm.cpp:98)\n",
      "  using 1 OpenMP thread(s) per MPI task\n",
      "Reading data file ...\n",
      "  triclinic box = (-1.6550000 -2.0040000 -2.6770000) to (32.992000 32.643000 31.970000) with tilt (0.0000000 0.0000000 0.0000000)\n",
      "  1 by 1 by 1 MPI processor grid\n",
      "  reading atoms ...\n",
      "  3808 atoms\n",
      "  scanning bonds ...\n",
      "  4 = max bonds/atom\n",
      "  scanning angles ...\n",
      "  6 = max angles/atom\n",
      "  scanning dihedrals ...\n",
      "  12 = max dihedrals/atom\n",
      "  reading bonds ...\n",
      "  3468 bonds\n",
      "  reading angles ...\n",
      "  6086 angles\n",
      "  reading dihedrals ...\n",
      "  7174 dihedrals\n",
      "Finding 1-2 1-3 1-4 neighbors ...\n",
      "  special bond factors lj:    0        0        0.5     \n",
      "  special bond factors coul:  0        0        0.8333333333\n",
      "     4 = max # of 1-2 neighbors\n",
      "     6 = max # of 1-3 neighbors\n",
      "    10 = max # of 1-4 neighbors\n",
      "    14 = max # of special neighbors\n",
      "  special bonds CPU = 0.002 seconds\n",
      "  read_data CPU = 0.018 seconds\n",
      "PPPM initialization ...\n",
      "  using 12-bit tables for long-range coulomb (src/kspace.cpp:340)\n",
      "  G vector (1/distance) = 0.33515339\n",
      "  grid = 32 32 32\n",
      "  stencil order = 5\n",
      "  estimated absolute RMS force accuracy = 0.00028210222\n",
      "  estimated relative force accuracy = 8.4954247e-07\n",
      "  using double precision FFTW3\n",
      "  3d grid and FFT values/proc = 59319 32768\n",
      "Neighbor list info ...\n",
      "  update every 1 steps, delay 10 steps, check yes\n",
      "  max neighbors/atom: 2000, page size: 100000\n",
      "  master list distance cutoff = 11\n",
      "  ghost atom cutoff = 11\n",
      "  binsize = 5.5, bins = 7 7 7\n",
      "  1 neighbor lists, perpetual/occasional/extra = 1 0 0\n",
      "  (1) pair lj/cut/coul/long, perpetual\n",
      "      attributes: half, newton on\n",
      "      pair build: half/bin/newton/tri\n",
      "      stencil: half/bin/3d/tri\n",
      "      bin: standard\n",
      "Setting up Verlet run ...\n",
      "  Unit style    : real\n",
      "  Current step  : 0\n",
      "  Time step     : 2\n",
      "Per MPI rank memory allocation (min/avg/max) = 24.20 | 24.20 | 24.20 Mbytes\n",
      "E_bond E_angle E_dihed E_impro E_pair E_vdwl E_coul E_long E_tail PotEng \n",
      "   11.541868    4291.6175    313.10955            0   -2154.3309   -1715.4373    5818.2054   -6257.0989   -116.79125     2461.938 \n",
      "   1028.3574    5494.1086    525.16072            0   -1862.6784   -1247.5194    5654.7114   -6269.8703   -116.79125    5184.9483 \n",
      "Loop time of 14.5814 on 1 procs for 1000 steps with 3808 atoms\n",
      "\n",
      "Performance: 11.851 ns/day, 2.025 hours/ns, 68.581 timesteps/s\n",
      "99.9% CPU "
     ]
    }
   ],
   "source": [
    "lmp = lammps()\n",
    "\n",
    "lmp.file(\"lammps.in\")"
   ]
  },
  {
   "cell_type": "markdown",
   "metadata": {},
   "source": [
    "And now we visualize! We can construct an MDTraj `Topology` from our Interchange by using OpenMM as a lingua franca. LAMMPS produces coordinates that are in the central unit cell, so for a simple system like this we just need to make molecules whole to visualize:"
   ]
  },
  {
   "cell_type": "code",
   "execution_count": 25,
   "metadata": {},
   "outputs": [
    {
     "data": {
      "application/vnd.jupyter.widget-view+json": {
       "model_id": "5dabc756c85c4a90a5805124857f865c",
       "version_major": 2,
       "version_minor": 0
      },
      "text/plain": [
       "NGLWidget(max_frame=100)"
      ]
     },
     "metadata": {},
     "output_type": "display_data"
    }
   ],
   "source": [
    "traj = md.load(\n",
    "    \"traj.dcd\",\n",
    "    top=md.Topology.from_openmm(interchange.topology.to_openmm()),\n",
    ")\n",
    "traj.make_molecules_whole()\n",
    "nglview.show_mdtraj(traj)"
   ]
  },
  {
   "cell_type": "code",
   "execution_count": null,
   "metadata": {},
   "outputs": [],
   "source": []
  }
 ],
 "metadata": {
  "kernelspec": {
   "display_name": "Python 3 (ipykernel)",
   "language": "python",
   "name": "python3"
  },
  "language_info": {
   "codemirror_mode": {
    "name": "ipython",
    "version": 3
   },
   "file_extension": ".py",
   "mimetype": "text/x-python",
   "name": "python",
   "nbconvert_exporter": "python",
   "pygments_lexer": "ipython3",
   "version": "3.9.12"
  }
 },
 "nbformat": 4,
 "nbformat_minor": 4
}
